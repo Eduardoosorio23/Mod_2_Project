{
 "cells": [
  {
   "cell_type": "markdown",
   "metadata": {},
   "source": [
    "## Final Project Submission¶\n",
    "\n",
    "Student name: Eduardo Osorio\n",
    "\n",
    "Student pace: part time \n",
    "\n",
    "Scheduled project review date/time:\n",
    "\n",
    "Instructor name: Yish Lim\n",
    "\n",
    "Blog post URL:"
   ]
  },
  {
   "cell_type": "code",
   "execution_count": 1,
   "metadata": {},
   "outputs": [],
   "source": [
    "import pandas as pd\n",
    "import numpy as np\n",
    "\n",
    "\n",
    "kcc = pd.read_csv('data_files/kc_cleaned.csv')\n",
    "\n",
    "continuous = ['price', 'sqft_living', 'sqft_lot']\n",
    "categoricals = ['bedrooms', 'floors', 'condition', 'waterfront', 'grade', 'zipcode', 'sale_month']\n",
    "\n",
    "kcc_cont = kcc[continuous]\n",
    "\n",
    "# log features\n",
    "log_names = [f'{column}_log' for column in kcc_cont.columns]\n",
    "\n",
    "kcc_log = np.log(kcc_cont)\n",
    "kcc_log.columns = log_names\n",
    "\n",
    "# normalize (subract mean and divide by std)\n",
    "\n",
    "def normalize(feature):\n",
    "    return (feature - feature.mean()) / feature.std()\n",
    "\n",
    "# kcc_log_norm = kcc_log.apply(normalize)\n",
    "\n",
    "# one hot encode categoricals\n",
    "kcc_ohe = pd.get_dummies(kcc[categoricals], columns=['bedrooms', 'floors','condition', 'waterfront', 'zipcode', 'grade', 'sale_month'], drop_first=True)\n",
    "\n",
    "preprocessed = pd.concat([kcc_log, kcc_ohe], axis=1)"
   ]
  },
  {
   "cell_type": "code",
   "execution_count": 2,
   "metadata": {},
   "outputs": [],
   "source": [
    "import statsmodels.api as sm\n",
    "\n",
    "def stepwise_selection(X, y, \n",
    "                       initial_list=[], \n",
    "                       threshold_in=0.01, \n",
    "                       threshold_out = 0.05, # Pvals over .05 are dropped\n",
    "                       verbose=True):\n",
    " \n",
    "    included = list(initial_list)\n",
    "    while True:\n",
    "        changed=False\n",
    "        # forward step\n",
    "        excluded = list(set(X.columns)-set(included))\n",
    "        new_pval = pd.Series(index=excluded)\n",
    "        for new_column in excluded:\n",
    "            model = sm.OLS(y, sm.add_constant(pd.DataFrame(X[included+[new_column]]))).fit()\n",
    "            new_pval[new_column] = model.pvalues[new_column]\n",
    "        best_pval = new_pval.min()\n",
    "        if best_pval < threshold_in:\n",
    "            best_feature = new_pval.idxmin()\n",
    "            included.append(best_feature)\n",
    "            changed=True\n",
    "            if verbose:\n",
    "                print('Add  {:30} with p-value {:.6}'.format(best_feature, best_pval)) #Adding pvals under the threshold\n",
    "\n",
    "        # backward step\n",
    "        model = sm.OLS(y, sm.add_constant(pd.DataFrame(X[included]))).fit()\n",
    "        # use all coefs except intercept\n",
    "        pvalues = model.pvalues.iloc[1:]\n",
    "        worst_pval = pvalues.max() # null if pvalues is empty\n",
    "        if worst_pval > threshold_out:\n",
    "            changed=True\n",
    "            worst_feature = pvalues.argmax()\n",
    "            included.remove(worst_feature)\n",
    "            if verbose:\n",
    "                print('Drop {:30} with p-value {:.6}'.format(worst_feature, worst_pval)) #drops pvals over thershold\n",
    "        if not changed:\n",
    "            break\n",
    "    return included"
   ]
  },
  {
   "cell_type": "code",
   "execution_count": 3,
   "metadata": {},
   "outputs": [],
   "source": [
    "from sklearn.model_selection import train_test_split"
   ]
  },
  {
   "cell_type": "code",
   "execution_count": 4,
   "metadata": {},
   "outputs": [],
   "source": [
    "X = preprocessed.drop('price_log', axis=1)\n",
    "y = preprocessed['price_log']"
   ]
  },
  {
   "cell_type": "code",
   "execution_count": 5,
   "metadata": {},
   "outputs": [],
   "source": [
    "X_train, X_test, y_train, y_test = train_test_split(X, y, test_size=0.20)\n",
    "# Using a test size of 20%"
   ]
  },
  {
   "cell_type": "code",
   "execution_count": 6,
   "metadata": {
    "scrolled": false
   },
   "outputs": [
    {
     "name": "stderr",
     "output_type": "stream",
     "text": [
      "C:\\Users\\eduar\\anaconda3\\envs\\learn-env\\lib\\site-packages\\numpy\\core\\fromnumeric.py:2389: FutureWarning: Method .ptp is deprecated and will be removed in a future version. Use numpy.ptp instead.\n",
      "  return ptp(axis=axis, out=out, **kwargs)\n"
     ]
    },
    {
     "name": "stdout",
     "output_type": "stream",
     "text": [
      "Add  grade_10                       with p-value 0.0\n",
      "Add  grade_9                        with p-value 0.0\n",
      "Add  sqft_living_log                with p-value 0.0\n",
      "Add  grade_11                       with p-value 5.40535e-149\n",
      "Add  zipcode_98023                  with p-value 6.07803e-147\n",
      "Add  zipcode_98004                  with p-value 1.6457e-134\n",
      "Add  zipcode_98042                  with p-value 9.79653e-119\n",
      "Add  waterfront_1.0                 with p-value 2.50108e-112\n",
      "Add  grade_8                        with p-value 2.41449e-117\n",
      "Add  grade_12                       with p-value 2.45053e-126\n",
      "Add  zipcode_98112                  with p-value 8.89403e-108\n",
      "Add  zipcode_98092                  with p-value 3.11201e-106\n",
      "Add  zipcode_98115                  with p-value 1.17609e-103\n",
      "Add  zipcode_98103                  with p-value 2.41446e-107\n",
      "Add  zipcode_98117                  with p-value 1.74719e-109\n",
      "Add  zipcode_98105                  with p-value 1.09911e-97\n",
      "Add  zipcode_98199                  with p-value 4.31173e-89\n",
      "Add  zipcode_98040                  with p-value 1.22149e-90\n",
      "Add  zipcode_98033                  with p-value 1.62587e-91\n",
      "Add  zipcode_98119                  with p-value 4.00363e-90\n",
      "Add  zipcode_98107                  with p-value 1.84517e-90\n",
      "Add  zipcode_98039                  with p-value 2.01305e-90\n",
      "Add  zipcode_98116                  with p-value 5.62111e-92\n",
      "Add  zipcode_98122                  with p-value 1.28845e-96\n",
      "Add  zipcode_98003                  with p-value 1.18354e-82\n",
      "Add  zipcode_98109                  with p-value 1.23883e-79\n",
      "Add  zipcode_98030                  with p-value 1.47474e-76\n",
      "Add  zipcode_98002                  with p-value 1.40849e-77\n",
      "Add  zipcode_98038                  with p-value 2.34106e-81\n",
      "Add  zipcode_98168                  with p-value 1.18996e-83\n",
      "Add  zipcode_98058                  with p-value 9.54233e-80\n",
      "Add  zipcode_98031                  with p-value 3.33873e-84\n",
      "Add  zipcode_98198                  with p-value 2.85366e-81\n",
      "Add  zipcode_98032                  with p-value 2.00601e-74\n",
      "Add  zipcode_98055                  with p-value 8.54941e-76\n",
      "Add  zipcode_98022                  with p-value 3.28003e-77\n",
      "Add  condition_3                    with p-value 8.31354e-77\n",
      "Add  zipcode_98102                  with p-value 6.33494e-67\n",
      "Add  zipcode_98178                  with p-value 2.30641e-66\n",
      "Add  grade_13                       with p-value 1.5916e-55\n",
      "Add  zipcode_98188                  with p-value 3.29901e-54\n",
      "Add  grade_7                        with p-value 2.19517e-49\n",
      "Add  sqft_lot_log                   with p-value 4.09853e-56\n",
      "Add  zipcode_98136                  with p-value 2.44928e-57\n",
      "Add  zipcode_98144                  with p-value 5.1472e-63\n",
      "Add  zipcode_98006                  with p-value 5.56925e-49\n",
      "Add  zipcode_98052                  with p-value 1.35131e-49\n",
      "Add  zipcode_98008                  with p-value 2.85992e-48\n",
      "Add  zipcode_98005                  with p-value 1.96148e-43\n",
      "Add  zipcode_98053                  with p-value 7.14708e-36\n",
      "Add  zipcode_98177                  with p-value 1.89871e-37\n",
      "Add  zipcode_98125                  with p-value 1.22821e-38\n",
      "Add  zipcode_98034                  with p-value 7.36579e-43\n",
      "Add  zipcode_98029                  with p-value 5.89154e-44\n",
      "Add  zipcode_98126                  with p-value 3.33603e-44\n",
      "Add  zipcode_98074                  with p-value 2.55087e-35\n",
      "Add  zipcode_98075                  with p-value 3.76321e-41\n",
      "Add  zipcode_98007                  with p-value 2.23175e-37\n",
      "Add  sale_month_4                   with p-value 3.67304e-34\n",
      "Add  zipcode_98118                  with p-value 1.08362e-32\n",
      "Add  zipcode_98027                  with p-value 7.93868e-36\n",
      "Add  zipcode_98133                  with p-value 3.79122e-32\n",
      "Add  condition_5                    with p-value 1.76868e-29\n",
      "Add  condition_4                    with p-value 5.35069e-32\n",
      "Add  zipcode_98065                  with p-value 9.53493e-22\n",
      "Add  zipcode_98155                  with p-value 9.50662e-22\n",
      "Add  zipcode_98072                  with p-value 3.43956e-25\n",
      "Add  zipcode_98011                  with p-value 4.14087e-19\n",
      "Add  zipcode_98028                  with p-value 3.27415e-16\n",
      "Add  sale_month_3                   with p-value 9.28422e-16\n",
      "Add  floors_2.0                     with p-value 5.52272e-13\n",
      "Add  zipcode_98077                  with p-value 1.53823e-11\n",
      "Add  zipcode_98059                  with p-value 6.19548e-12\n",
      "Add  zipcode_98106                  with p-value 2.12578e-13\n",
      "Add  zipcode_98108                  with p-value 1.77858e-15\n",
      "Add  zipcode_98056                  with p-value 1.02985e-15\n",
      "Add  zipcode_98166                  with p-value 5.47195e-11\n",
      "Drop zipcode_98178                  with p-value 0.111733\n"
     ]
    },
    {
     "name": "stderr",
     "output_type": "stream",
     "text": [
      "C:\\Users\\eduar\\anaconda3\\envs\\learn-env\\lib\\site-packages\\ipykernel_launcher.py:33: FutureWarning: \n",
      "The current behaviour of 'Series.argmax' is deprecated, use 'idxmax'\n",
      "instead.\n",
      "The behavior of 'argmax' will be corrected to return the positional\n",
      "maximum in the future. For now, use 'series.values.argmax' or\n",
      "'np.argmax(np.array(values))' to get the position of the maximum\n",
      "row.\n"
     ]
    },
    {
     "name": "stdout",
     "output_type": "stream",
     "text": [
      "Add  zipcode_98019                  with p-value 1.24266e-12\n",
      "Drop zipcode_98038                  with p-value 0.1012\n",
      "Add  zipcode_98045                  with p-value 1.61476e-16\n",
      "Drop zipcode_98055                  with p-value 0.150715\n",
      "Add  zipcode_98146                  with p-value 4.29093e-19\n",
      "Drop zipcode_98058                  with p-value 0.585176\n",
      "Add  zipcode_98024                  with p-value 2.89141e-17\n",
      "Add  zipcode_98014                  with p-value 1.66838e-09\n",
      "Add  zipcode_98070                  with p-value 2.64427e-09\n",
      "Add  condition_2                    with p-value 5.85638e-08\n",
      "Add  zipcode_98038                  with p-value 5.21907e-07\n",
      "Drop zipcode_98198                  with p-value 0.148034\n",
      "Add  zipcode_98178                  with p-value 1.46263e-07\n",
      "Drop zipcode_98188                  with p-value 0.440481\n",
      "Add  zipcode_98058                  with p-value 6.59457e-07\n",
      "Drop zipcode_98031                  with p-value 0.354096\n",
      "Add  zipcode_98010                  with p-value 1.06444e-08\n",
      "Drop zipcode_98168                  with p-value 0.314591\n",
      "Add  zipcode_98055                  with p-value 7.32997e-11\n",
      "Drop zipcode_98022                  with p-value 0.948736\n",
      "Add  bedrooms_2                     with p-value 3.31551e-06\n",
      "Drop zipcode_98042                  with p-value 0.853301\n",
      "Add  floors_1.5                     with p-value 7.01705e-06\n",
      "Drop zipcode_98030                  with p-value 0.2506\n",
      "Add  floors_2.5                     with p-value 3.50456e-05\n",
      "Add  sale_month_2                   with p-value 0.000136861\n",
      "Add  sale_month_5                   with p-value 0.00027443\n",
      "Add  floors_3.0                     with p-value 0.000293214\n",
      "Add  grade_5                        with p-value 0.000328653\n",
      "Add  zipcode_98148                  with p-value 0.000534217\n",
      "Add  zipcode_98198                  with p-value 0.000416555\n",
      "Add  bedrooms_7                     with p-value 0.00207912\n",
      "resulting features:\n",
      "['grade_10', 'grade_9', 'sqft_living_log', 'grade_11', 'zipcode_98023', 'zipcode_98004', 'waterfront_1.0', 'grade_8', 'grade_12', 'zipcode_98112', 'zipcode_98092', 'zipcode_98115', 'zipcode_98103', 'zipcode_98117', 'zipcode_98105', 'zipcode_98199', 'zipcode_98040', 'zipcode_98033', 'zipcode_98119', 'zipcode_98107', 'zipcode_98039', 'zipcode_98116', 'zipcode_98122', 'zipcode_98003', 'zipcode_98109', 'zipcode_98002', 'zipcode_98032', 'condition_3', 'zipcode_98102', 'grade_13', 'grade_7', 'sqft_lot_log', 'zipcode_98136', 'zipcode_98144', 'zipcode_98006', 'zipcode_98052', 'zipcode_98008', 'zipcode_98005', 'zipcode_98053', 'zipcode_98177', 'zipcode_98125', 'zipcode_98034', 'zipcode_98029', 'zipcode_98126', 'zipcode_98074', 'zipcode_98075', 'zipcode_98007', 'sale_month_4', 'zipcode_98118', 'zipcode_98027', 'zipcode_98133', 'condition_5', 'condition_4', 'zipcode_98065', 'zipcode_98155', 'zipcode_98072', 'zipcode_98011', 'zipcode_98028', 'sale_month_3', 'floors_2.0', 'zipcode_98077', 'zipcode_98059', 'zipcode_98106', 'zipcode_98108', 'zipcode_98056', 'zipcode_98166', 'zipcode_98019', 'zipcode_98045', 'zipcode_98146', 'zipcode_98024', 'zipcode_98014', 'zipcode_98070', 'condition_2', 'zipcode_98038', 'zipcode_98178', 'zipcode_98058', 'zipcode_98010', 'zipcode_98055', 'bedrooms_2', 'floors_1.5', 'floors_2.5', 'sale_month_2', 'sale_month_5', 'floors_3.0', 'grade_5', 'zipcode_98148', 'zipcode_98198', 'bedrooms_7']\n"
     ]
    }
   ],
   "source": [
    "result = stepwise_selection(X_train, y_train, verbose = True)\n",
    "print('resulting features:')\n",
    "print(result)\n",
    "#Feed x_train and Y_train into the stepwise function"
   ]
  },
  {
   "cell_type": "code",
   "execution_count": 7,
   "metadata": {
    "scrolled": false
   },
   "outputs": [
    {
     "data": {
      "text/html": [
       "<table class=\"simpletable\">\n",
       "<caption>OLS Regression Results</caption>\n",
       "<tr>\n",
       "  <th>Dep. Variable:</th>        <td>price_log</td>    <th>  R-squared:         </th> <td>   0.877</td>\n",
       "</tr>\n",
       "<tr>\n",
       "  <th>Model:</th>                   <td>OLS</td>       <th>  Adj. R-squared:    </th> <td>   0.877</td>\n",
       "</tr>\n",
       "<tr>\n",
       "  <th>Method:</th>             <td>Least Squares</td>  <th>  F-statistic:       </th> <td>   1241.</td>\n",
       "</tr>\n",
       "<tr>\n",
       "  <th>Date:</th>             <td>Fri, 30 Oct 2020</td> <th>  Prob (F-statistic):</th>  <td>  0.00</td> \n",
       "</tr>\n",
       "<tr>\n",
       "  <th>Time:</th>                 <td>14:09:39</td>     <th>  Log-Likelihood:    </th> <td>  4033.8</td>\n",
       "</tr>\n",
       "<tr>\n",
       "  <th>No. Observations:</th>      <td> 15372</td>      <th>  AIC:               </th> <td>  -7890.</td>\n",
       "</tr>\n",
       "<tr>\n",
       "  <th>Df Residuals:</th>          <td> 15283</td>      <th>  BIC:               </th> <td>  -7210.</td>\n",
       "</tr>\n",
       "<tr>\n",
       "  <th>Df Model:</th>              <td>    88</td>      <th>                     </th>     <td> </td>   \n",
       "</tr>\n",
       "<tr>\n",
       "  <th>Covariance Type:</th>      <td>nonrobust</td>    <th>                     </th>     <td> </td>   \n",
       "</tr>\n",
       "</table>\n",
       "<table class=\"simpletable\">\n",
       "<tr>\n",
       "         <td></td>            <th>coef</th>     <th>std err</th>      <th>t</th>      <th>P>|t|</th>  <th>[0.025</th>    <th>0.975]</th>  \n",
       "</tr>\n",
       "<tr>\n",
       "  <th>const</th>           <td>    7.8562</td> <td>    0.062</td> <td>  127.540</td> <td> 0.000</td> <td>    7.736</td> <td>    7.977</td>\n",
       "</tr>\n",
       "<tr>\n",
       "  <th>grade_10</th>        <td>    0.4508</td> <td>    0.011</td> <td>   41.075</td> <td> 0.000</td> <td>    0.429</td> <td>    0.472</td>\n",
       "</tr>\n",
       "<tr>\n",
       "  <th>grade_9</th>         <td>    0.3411</td> <td>    0.009</td> <td>   38.409</td> <td> 0.000</td> <td>    0.324</td> <td>    0.359</td>\n",
       "</tr>\n",
       "<tr>\n",
       "  <th>sqft_living_log</th> <td>    0.4688</td> <td>    0.006</td> <td>   74.736</td> <td> 0.000</td> <td>    0.457</td> <td>    0.481</td>\n",
       "</tr>\n",
       "<tr>\n",
       "  <th>grade_11</th>        <td>    0.6071</td> <td>    0.015</td> <td>   40.904</td> <td> 0.000</td> <td>    0.578</td> <td>    0.636</td>\n",
       "</tr>\n",
       "<tr>\n",
       "  <th>zipcode_98023</th>   <td>   -0.0702</td> <td>    0.011</td> <td>   -6.336</td> <td> 0.000</td> <td>   -0.092</td> <td>   -0.048</td>\n",
       "</tr>\n",
       "<tr>\n",
       "  <th>zipcode_98004</th>   <td>    1.0759</td> <td>    0.014</td> <td>   77.236</td> <td> 0.000</td> <td>    1.049</td> <td>    1.103</td>\n",
       "</tr>\n",
       "<tr>\n",
       "  <th>waterfront_1.0</th>  <td>    0.6920</td> <td>    0.018</td> <td>   39.062</td> <td> 0.000</td> <td>    0.657</td> <td>    0.727</td>\n",
       "</tr>\n",
       "<tr>\n",
       "  <th>grade_8</th>         <td>    0.1915</td> <td>    0.007</td> <td>   26.745</td> <td> 0.000</td> <td>    0.177</td> <td>    0.205</td>\n",
       "</tr>\n",
       "<tr>\n",
       "  <th>grade_12</th>        <td>    0.7887</td> <td>    0.025</td> <td>   31.448</td> <td> 0.000</td> <td>    0.740</td> <td>    0.838</td>\n",
       "</tr>\n",
       "<tr>\n",
       "  <th>zipcode_98112</th>   <td>    1.0262</td> <td>    0.014</td> <td>   70.906</td> <td> 0.000</td> <td>    0.998</td> <td>    1.055</td>\n",
       "</tr>\n",
       "<tr>\n",
       "  <th>zipcode_98092</th>   <td>   -0.0311</td> <td>    0.013</td> <td>   -2.388</td> <td> 0.017</td> <td>   -0.057</td> <td>   -0.006</td>\n",
       "</tr>\n",
       "<tr>\n",
       "  <th>zipcode_98115</th>   <td>    0.7931</td> <td>    0.011</td> <td>   73.601</td> <td> 0.000</td> <td>    0.772</td> <td>    0.814</td>\n",
       "</tr>\n",
       "<tr>\n",
       "  <th>zipcode_98103</th>   <td>    0.8196</td> <td>    0.011</td> <td>   74.341</td> <td> 0.000</td> <td>    0.798</td> <td>    0.841</td>\n",
       "</tr>\n",
       "<tr>\n",
       "  <th>zipcode_98117</th>   <td>    0.7912</td> <td>    0.011</td> <td>   71.635</td> <td> 0.000</td> <td>    0.770</td> <td>    0.813</td>\n",
       "</tr>\n",
       "<tr>\n",
       "  <th>zipcode_98105</th>   <td>    0.9372</td> <td>    0.016</td> <td>   60.445</td> <td> 0.000</td> <td>    0.907</td> <td>    0.968</td>\n",
       "</tr>\n",
       "<tr>\n",
       "  <th>zipcode_98199</th>   <td>    0.8421</td> <td>    0.014</td> <td>   62.312</td> <td> 0.000</td> <td>    0.816</td> <td>    0.869</td>\n",
       "</tr>\n",
       "<tr>\n",
       "  <th>zipcode_98040</th>   <td>    0.8553</td> <td>    0.015</td> <td>   58.336</td> <td> 0.000</td> <td>    0.827</td> <td>    0.884</td>\n",
       "</tr>\n",
       "<tr>\n",
       "  <th>zipcode_98033</th>   <td>    0.7373</td> <td>    0.012</td> <td>   62.564</td> <td> 0.000</td> <td>    0.714</td> <td>    0.760</td>\n",
       "</tr>\n",
       "<tr>\n",
       "  <th>zipcode_98119</th>   <td>    0.9736</td> <td>    0.018</td> <td>   55.134</td> <td> 0.000</td> <td>    0.939</td> <td>    1.008</td>\n",
       "</tr>\n",
       "<tr>\n",
       "  <th>zipcode_98107</th>   <td>    0.8443</td> <td>    0.015</td> <td>   56.420</td> <td> 0.000</td> <td>    0.815</td> <td>    0.874</td>\n",
       "</tr>\n",
       "<tr>\n",
       "  <th>zipcode_98039</th>   <td>    1.2560</td> <td>    0.030</td> <td>   41.433</td> <td> 0.000</td> <td>    1.197</td> <td>    1.315</td>\n",
       "</tr>\n",
       "<tr>\n",
       "  <th>zipcode_98116</th>   <td>    0.7546</td> <td>    0.013</td> <td>   57.395</td> <td> 0.000</td> <td>    0.729</td> <td>    0.780</td>\n",
       "</tr>\n",
       "<tr>\n",
       "  <th>zipcode_98122</th>   <td>    0.8146</td> <td>    0.014</td> <td>   57.310</td> <td> 0.000</td> <td>    0.787</td> <td>    0.842</td>\n",
       "</tr>\n",
       "<tr>\n",
       "  <th>zipcode_98003</th>   <td>   -0.0359</td> <td>    0.014</td> <td>   -2.532</td> <td> 0.011</td> <td>   -0.064</td> <td>   -0.008</td>\n",
       "</tr>\n",
       "<tr>\n",
       "  <th>zipcode_98109</th>   <td>    0.9845</td> <td>    0.022</td> <td>   45.060</td> <td> 0.000</td> <td>    0.942</td> <td>    1.027</td>\n",
       "</tr>\n",
       "<tr>\n",
       "  <th>zipcode_98002</th>   <td>   -0.0660</td> <td>    0.016</td> <td>   -4.006</td> <td> 0.000</td> <td>   -0.098</td> <td>   -0.034</td>\n",
       "</tr>\n",
       "<tr>\n",
       "  <th>zipcode_98032</th>   <td>   -0.0912</td> <td>    0.020</td> <td>   -4.469</td> <td> 0.000</td> <td>   -0.131</td> <td>   -0.051</td>\n",
       "</tr>\n",
       "<tr>\n",
       "  <th>condition_3</th>     <td>    0.3573</td> <td>    0.041</td> <td>    8.650</td> <td> 0.000</td> <td>    0.276</td> <td>    0.438</td>\n",
       "</tr>\n",
       "<tr>\n",
       "  <th>zipcode_98102</th>   <td>    0.9546</td> <td>    0.024</td> <td>   39.862</td> <td> 0.000</td> <td>    0.908</td> <td>    1.002</td>\n",
       "</tr>\n",
       "<tr>\n",
       "  <th>grade_13</th>        <td>    1.0880</td> <td>    0.058</td> <td>   18.687</td> <td> 0.000</td> <td>    0.974</td> <td>    1.202</td>\n",
       "</tr>\n",
       "<tr>\n",
       "  <th>grade_7</th>         <td>    0.0781</td> <td>    0.006</td> <td>   13.062</td> <td> 0.000</td> <td>    0.066</td> <td>    0.090</td>\n",
       "</tr>\n",
       "<tr>\n",
       "  <th>sqft_lot_log</th>    <td>    0.0710</td> <td>    0.002</td> <td>   29.139</td> <td> 0.000</td> <td>    0.066</td> <td>    0.076</td>\n",
       "</tr>\n",
       "<tr>\n",
       "  <th>zipcode_98136</th>   <td>    0.6960</td> <td>    0.014</td> <td>   48.081</td> <td> 0.000</td> <td>    0.668</td> <td>    0.724</td>\n",
       "</tr>\n",
       "<tr>\n",
       "  <th>zipcode_98144</th>   <td>    0.6628</td> <td>    0.013</td> <td>   49.953</td> <td> 0.000</td> <td>    0.637</td> <td>    0.689</td>\n",
       "</tr>\n",
       "<tr>\n",
       "  <th>zipcode_98006</th>   <td>    0.6125</td> <td>    0.012</td> <td>   52.965</td> <td> 0.000</td> <td>    0.590</td> <td>    0.635</td>\n",
       "</tr>\n",
       "<tr>\n",
       "  <th>zipcode_98052</th>   <td>    0.5824</td> <td>    0.011</td> <td>   54.400</td> <td> 0.000</td> <td>    0.561</td> <td>    0.603</td>\n",
       "</tr>\n",
       "<tr>\n",
       "  <th>zipcode_98008</th>   <td>    0.6291</td> <td>    0.014</td> <td>   44.792</td> <td> 0.000</td> <td>    0.602</td> <td>    0.657</td>\n",
       "</tr>\n",
       "<tr>\n",
       "  <th>zipcode_98005</th>   <td>    0.6667</td> <td>    0.017</td> <td>   38.705</td> <td> 0.000</td> <td>    0.633</td> <td>    0.700</td>\n",
       "</tr>\n",
       "<tr>\n",
       "  <th>zipcode_98053</th>   <td>    0.5368</td> <td>    0.012</td> <td>   43.273</td> <td> 0.000</td> <td>    0.512</td> <td>    0.561</td>\n",
       "</tr>\n",
       "<tr>\n",
       "  <th>zipcode_98177</th>   <td>    0.5883</td> <td>    0.015</td> <td>   40.441</td> <td> 0.000</td> <td>    0.560</td> <td>    0.617</td>\n",
       "</tr>\n",
       "<tr>\n",
       "  <th>zipcode_98125</th>   <td>    0.5364</td> <td>    0.012</td> <td>   44.993</td> <td> 0.000</td> <td>    0.513</td> <td>    0.560</td>\n",
       "</tr>\n",
       "<tr>\n",
       "  <th>zipcode_98034</th>   <td>    0.5142</td> <td>    0.011</td> <td>   48.403</td> <td> 0.000</td> <td>    0.493</td> <td>    0.535</td>\n",
       "</tr>\n",
       "<tr>\n",
       "  <th>zipcode_98029</th>   <td>    0.5493</td> <td>    0.013</td> <td>   41.528</td> <td> 0.000</td> <td>    0.523</td> <td>    0.575</td>\n",
       "</tr>\n",
       "<tr>\n",
       "  <th>zipcode_98126</th>   <td>    0.5256</td> <td>    0.013</td> <td>   40.146</td> <td> 0.000</td> <td>    0.500</td> <td>    0.551</td>\n",
       "</tr>\n",
       "<tr>\n",
       "  <th>zipcode_98074</th>   <td>    0.4941</td> <td>    0.012</td> <td>   41.773</td> <td> 0.000</td> <td>    0.471</td> <td>    0.517</td>\n",
       "</tr>\n",
       "<tr>\n",
       "  <th>zipcode_98075</th>   <td>    0.5077</td> <td>    0.013</td> <td>   38.932</td> <td> 0.000</td> <td>    0.482</td> <td>    0.533</td>\n",
       "</tr>\n",
       "<tr>\n",
       "  <th>zipcode_98007</th>   <td>    0.6003</td> <td>    0.020</td> <td>   29.789</td> <td> 0.000</td> <td>    0.561</td> <td>    0.640</td>\n",
       "</tr>\n",
       "<tr>\n",
       "  <th>sale_month_4</th>    <td>    0.0739</td> <td>    0.005</td> <td>   14.567</td> <td> 0.000</td> <td>    0.064</td> <td>    0.084</td>\n",
       "</tr>\n",
       "<tr>\n",
       "  <th>zipcode_98118</th>   <td>    0.4433</td> <td>    0.011</td> <td>   39.367</td> <td> 0.000</td> <td>    0.421</td> <td>    0.465</td>\n",
       "</tr>\n",
       "<tr>\n",
       "  <th>zipcode_98027</th>   <td>    0.4431</td> <td>    0.012</td> <td>   37.219</td> <td> 0.000</td> <td>    0.420</td> <td>    0.466</td>\n",
       "</tr>\n",
       "<tr>\n",
       "  <th>zipcode_98133</th>   <td>    0.4184</td> <td>    0.011</td> <td>   36.808</td> <td> 0.000</td> <td>    0.396</td> <td>    0.441</td>\n",
       "</tr>\n",
       "<tr>\n",
       "  <th>condition_5</th>     <td>    0.4656</td> <td>    0.042</td> <td>   11.200</td> <td> 0.000</td> <td>    0.384</td> <td>    0.547</td>\n",
       "</tr>\n",
       "<tr>\n",
       "  <th>condition_4</th>     <td>    0.3976</td> <td>    0.041</td> <td>    9.619</td> <td> 0.000</td> <td>    0.317</td> <td>    0.479</td>\n",
       "</tr>\n",
       "<tr>\n",
       "  <th>zipcode_98065</th>   <td>    0.3994</td> <td>    0.014</td> <td>   29.410</td> <td> 0.000</td> <td>    0.373</td> <td>    0.426</td>\n",
       "</tr>\n",
       "<tr>\n",
       "  <th>zipcode_98155</th>   <td>    0.3777</td> <td>    0.012</td> <td>   32.631</td> <td> 0.000</td> <td>    0.355</td> <td>    0.400</td>\n",
       "</tr>\n",
       "<tr>\n",
       "  <th>zipcode_98072</th>   <td>    0.4061</td> <td>    0.014</td> <td>   28.419</td> <td> 0.000</td> <td>    0.378</td> <td>    0.434</td>\n",
       "</tr>\n",
       "<tr>\n",
       "  <th>zipcode_98011</th>   <td>    0.3978</td> <td>    0.016</td> <td>   24.571</td> <td> 0.000</td> <td>    0.366</td> <td>    0.430</td>\n",
       "</tr>\n",
       "<tr>\n",
       "  <th>zipcode_98028</th>   <td>    0.3578</td> <td>    0.014</td> <td>   25.166</td> <td> 0.000</td> <td>    0.330</td> <td>    0.386</td>\n",
       "</tr>\n",
       "<tr>\n",
       "  <th>sale_month_3</th>    <td>    0.0498</td> <td>    0.005</td> <td>    9.063</td> <td> 0.000</td> <td>    0.039</td> <td>    0.061</td>\n",
       "</tr>\n",
       "<tr>\n",
       "  <th>floors_2.0</th>      <td>    0.0321</td> <td>    0.004</td> <td>    7.373</td> <td> 0.000</td> <td>    0.024</td> <td>    0.041</td>\n",
       "</tr>\n",
       "<tr>\n",
       "  <th>zipcode_98077</th>   <td>    0.3428</td> <td>    0.017</td> <td>   20.409</td> <td> 0.000</td> <td>    0.310</td> <td>    0.376</td>\n",
       "</tr>\n",
       "<tr>\n",
       "  <th>zipcode_98059</th>   <td>    0.2990</td> <td>    0.011</td> <td>   26.077</td> <td> 0.000</td> <td>    0.277</td> <td>    0.321</td>\n",
       "</tr>\n",
       "<tr>\n",
       "  <th>zipcode_98106</th>   <td>    0.3011</td> <td>    0.013</td> <td>   22.922</td> <td> 0.000</td> <td>    0.275</td> <td>    0.327</td>\n",
       "</tr>\n",
       "<tr>\n",
       "  <th>zipcode_98108</th>   <td>    0.3300</td> <td>    0.017</td> <td>   19.125</td> <td> 0.000</td> <td>    0.296</td> <td>    0.364</td>\n",
       "</tr>\n",
       "<tr>\n",
       "  <th>zipcode_98056</th>   <td>    0.2788</td> <td>    0.012</td> <td>   23.277</td> <td> 0.000</td> <td>    0.255</td> <td>    0.302</td>\n",
       "</tr>\n",
       "<tr>\n",
       "  <th>zipcode_98166</th>   <td>    0.2613</td> <td>    0.015</td> <td>   17.556</td> <td> 0.000</td> <td>    0.232</td> <td>    0.290</td>\n",
       "</tr>\n",
       "<tr>\n",
       "  <th>zipcode_98019</th>   <td>    0.2679</td> <td>    0.017</td> <td>   15.882</td> <td> 0.000</td> <td>    0.235</td> <td>    0.301</td>\n",
       "</tr>\n",
       "<tr>\n",
       "  <th>zipcode_98045</th>   <td>    0.2653</td> <td>    0.016</td> <td>   16.711</td> <td> 0.000</td> <td>    0.234</td> <td>    0.296</td>\n",
       "</tr>\n",
       "<tr>\n",
       "  <th>zipcode_98146</th>   <td>    0.2291</td> <td>    0.014</td> <td>   16.844</td> <td> 0.000</td> <td>    0.202</td> <td>    0.256</td>\n",
       "</tr>\n",
       "<tr>\n",
       "  <th>zipcode_98024</th>   <td>    0.3245</td> <td>    0.025</td> <td>   12.766</td> <td> 0.000</td> <td>    0.275</td> <td>    0.374</td>\n",
       "</tr>\n",
       "<tr>\n",
       "  <th>zipcode_98014</th>   <td>    0.2252</td> <td>    0.021</td> <td>   10.739</td> <td> 0.000</td> <td>    0.184</td> <td>    0.266</td>\n",
       "</tr>\n",
       "<tr>\n",
       "  <th>zipcode_98070</th>   <td>    0.2144</td> <td>    0.022</td> <td>    9.833</td> <td> 0.000</td> <td>    0.172</td> <td>    0.257</td>\n",
       "</tr>\n",
       "<tr>\n",
       "  <th>condition_2</th>     <td>    0.2335</td> <td>    0.045</td> <td>    5.229</td> <td> 0.000</td> <td>    0.146</td> <td>    0.321</td>\n",
       "</tr>\n",
       "<tr>\n",
       "  <th>zipcode_98038</th>   <td>    0.1256</td> <td>    0.010</td> <td>   12.054</td> <td> 0.000</td> <td>    0.105</td> <td>    0.146</td>\n",
       "</tr>\n",
       "<tr>\n",
       "  <th>zipcode_98178</th>   <td>    0.1325</td> <td>    0.015</td> <td>    9.077</td> <td> 0.000</td> <td>    0.104</td> <td>    0.161</td>\n",
       "</tr>\n",
       "<tr>\n",
       "  <th>zipcode_98058</th>   <td>    0.1029</td> <td>    0.012</td> <td>    8.809</td> <td> 0.000</td> <td>    0.080</td> <td>    0.126</td>\n",
       "</tr>\n",
       "<tr>\n",
       "  <th>zipcode_98010</th>   <td>    0.1600</td> <td>    0.023</td> <td>    7.021</td> <td> 0.000</td> <td>    0.115</td> <td>    0.205</td>\n",
       "</tr>\n",
       "<tr>\n",
       "  <th>zipcode_98055</th>   <td>    0.1044</td> <td>    0.014</td> <td>    7.396</td> <td> 0.000</td> <td>    0.077</td> <td>    0.132</td>\n",
       "</tr>\n",
       "<tr>\n",
       "  <th>bedrooms_2</th>      <td>    0.0257</td> <td>    0.005</td> <td>    4.853</td> <td> 0.000</td> <td>    0.015</td> <td>    0.036</td>\n",
       "</tr>\n",
       "<tr>\n",
       "  <th>floors_1.5</th>      <td>    0.0251</td> <td>    0.006</td> <td>    4.311</td> <td> 0.000</td> <td>    0.014</td> <td>    0.037</td>\n",
       "</tr>\n",
       "<tr>\n",
       "  <th>floors_2.5</th>      <td>    0.0690</td> <td>    0.017</td> <td>    3.955</td> <td> 0.000</td> <td>    0.035</td> <td>    0.103</td>\n",
       "</tr>\n",
       "<tr>\n",
       "  <th>sale_month_2</th>    <td>    0.0286</td> <td>    0.007</td> <td>    4.285</td> <td> 0.000</td> <td>    0.016</td> <td>    0.042</td>\n",
       "</tr>\n",
       "<tr>\n",
       "  <th>sale_month_5</th>    <td>    0.0182</td> <td>    0.005</td> <td>    3.755</td> <td> 0.000</td> <td>    0.009</td> <td>    0.028</td>\n",
       "</tr>\n",
       "<tr>\n",
       "  <th>floors_3.0</th>      <td>   -0.0371</td> <td>    0.011</td> <td>   -3.496</td> <td> 0.000</td> <td>   -0.058</td> <td>   -0.016</td>\n",
       "</tr>\n",
       "<tr>\n",
       "  <th>grade_5</th>         <td>   -0.0554</td> <td>    0.016</td> <td>   -3.573</td> <td> 0.000</td> <td>   -0.086</td> <td>   -0.025</td>\n",
       "</tr>\n",
       "<tr>\n",
       "  <th>zipcode_98148</th>   <td>    0.1084</td> <td>    0.030</td> <td>    3.663</td> <td> 0.000</td> <td>    0.050</td> <td>    0.166</td>\n",
       "</tr>\n",
       "<tr>\n",
       "  <th>zipcode_98198</th>   <td>    0.0501</td> <td>    0.014</td> <td>    3.536</td> <td> 0.000</td> <td>    0.022</td> <td>    0.078</td>\n",
       "</tr>\n",
       "<tr>\n",
       "  <th>bedrooms_7</th>      <td>   -0.1041</td> <td>    0.034</td> <td>   -3.079</td> <td> 0.002</td> <td>   -0.170</td> <td>   -0.038</td>\n",
       "</tr>\n",
       "</table>\n",
       "<table class=\"simpletable\">\n",
       "<tr>\n",
       "  <th>Omnibus:</th>       <td>916.301</td> <th>  Durbin-Watson:     </th> <td>   2.022</td>\n",
       "</tr>\n",
       "<tr>\n",
       "  <th>Prob(Omnibus):</th> <td> 0.000</td>  <th>  Jarque-Bera (JB):  </th> <td>3741.649</td>\n",
       "</tr>\n",
       "<tr>\n",
       "  <th>Skew:</th>          <td>-0.135</td>  <th>  Prob(JB):          </th> <td>    0.00</td>\n",
       "</tr>\n",
       "<tr>\n",
       "  <th>Kurtosis:</th>      <td> 5.402</td>  <th>  Cond. No.          </th> <td>    753.</td>\n",
       "</tr>\n",
       "</table><br/><br/>Warnings:<br/>[1] Standard Errors assume that the covariance matrix of the errors is correctly specified."
      ],
      "text/plain": [
       "<class 'statsmodels.iolib.summary.Summary'>\n",
       "\"\"\"\n",
       "                            OLS Regression Results                            \n",
       "==============================================================================\n",
       "Dep. Variable:              price_log   R-squared:                       0.877\n",
       "Model:                            OLS   Adj. R-squared:                  0.877\n",
       "Method:                 Least Squares   F-statistic:                     1241.\n",
       "Date:                Fri, 30 Oct 2020   Prob (F-statistic):               0.00\n",
       "Time:                        14:09:39   Log-Likelihood:                 4033.8\n",
       "No. Observations:               15372   AIC:                            -7890.\n",
       "Df Residuals:                   15283   BIC:                            -7210.\n",
       "Df Model:                          88                                         \n",
       "Covariance Type:            nonrobust                                         \n",
       "===================================================================================\n",
       "                      coef    std err          t      P>|t|      [0.025      0.975]\n",
       "-----------------------------------------------------------------------------------\n",
       "const               7.8562      0.062    127.540      0.000       7.736       7.977\n",
       "grade_10            0.4508      0.011     41.075      0.000       0.429       0.472\n",
       "grade_9             0.3411      0.009     38.409      0.000       0.324       0.359\n",
       "sqft_living_log     0.4688      0.006     74.736      0.000       0.457       0.481\n",
       "grade_11            0.6071      0.015     40.904      0.000       0.578       0.636\n",
       "zipcode_98023      -0.0702      0.011     -6.336      0.000      -0.092      -0.048\n",
       "zipcode_98004       1.0759      0.014     77.236      0.000       1.049       1.103\n",
       "waterfront_1.0      0.6920      0.018     39.062      0.000       0.657       0.727\n",
       "grade_8             0.1915      0.007     26.745      0.000       0.177       0.205\n",
       "grade_12            0.7887      0.025     31.448      0.000       0.740       0.838\n",
       "zipcode_98112       1.0262      0.014     70.906      0.000       0.998       1.055\n",
       "zipcode_98092      -0.0311      0.013     -2.388      0.017      -0.057      -0.006\n",
       "zipcode_98115       0.7931      0.011     73.601      0.000       0.772       0.814\n",
       "zipcode_98103       0.8196      0.011     74.341      0.000       0.798       0.841\n",
       "zipcode_98117       0.7912      0.011     71.635      0.000       0.770       0.813\n",
       "zipcode_98105       0.9372      0.016     60.445      0.000       0.907       0.968\n",
       "zipcode_98199       0.8421      0.014     62.312      0.000       0.816       0.869\n",
       "zipcode_98040       0.8553      0.015     58.336      0.000       0.827       0.884\n",
       "zipcode_98033       0.7373      0.012     62.564      0.000       0.714       0.760\n",
       "zipcode_98119       0.9736      0.018     55.134      0.000       0.939       1.008\n",
       "zipcode_98107       0.8443      0.015     56.420      0.000       0.815       0.874\n",
       "zipcode_98039       1.2560      0.030     41.433      0.000       1.197       1.315\n",
       "zipcode_98116       0.7546      0.013     57.395      0.000       0.729       0.780\n",
       "zipcode_98122       0.8146      0.014     57.310      0.000       0.787       0.842\n",
       "zipcode_98003      -0.0359      0.014     -2.532      0.011      -0.064      -0.008\n",
       "zipcode_98109       0.9845      0.022     45.060      0.000       0.942       1.027\n",
       "zipcode_98002      -0.0660      0.016     -4.006      0.000      -0.098      -0.034\n",
       "zipcode_98032      -0.0912      0.020     -4.469      0.000      -0.131      -0.051\n",
       "condition_3         0.3573      0.041      8.650      0.000       0.276       0.438\n",
       "zipcode_98102       0.9546      0.024     39.862      0.000       0.908       1.002\n",
       "grade_13            1.0880      0.058     18.687      0.000       0.974       1.202\n",
       "grade_7             0.0781      0.006     13.062      0.000       0.066       0.090\n",
       "sqft_lot_log        0.0710      0.002     29.139      0.000       0.066       0.076\n",
       "zipcode_98136       0.6960      0.014     48.081      0.000       0.668       0.724\n",
       "zipcode_98144       0.6628      0.013     49.953      0.000       0.637       0.689\n",
       "zipcode_98006       0.6125      0.012     52.965      0.000       0.590       0.635\n",
       "zipcode_98052       0.5824      0.011     54.400      0.000       0.561       0.603\n",
       "zipcode_98008       0.6291      0.014     44.792      0.000       0.602       0.657\n",
       "zipcode_98005       0.6667      0.017     38.705      0.000       0.633       0.700\n",
       "zipcode_98053       0.5368      0.012     43.273      0.000       0.512       0.561\n",
       "zipcode_98177       0.5883      0.015     40.441      0.000       0.560       0.617\n",
       "zipcode_98125       0.5364      0.012     44.993      0.000       0.513       0.560\n",
       "zipcode_98034       0.5142      0.011     48.403      0.000       0.493       0.535\n",
       "zipcode_98029       0.5493      0.013     41.528      0.000       0.523       0.575\n",
       "zipcode_98126       0.5256      0.013     40.146      0.000       0.500       0.551\n",
       "zipcode_98074       0.4941      0.012     41.773      0.000       0.471       0.517\n",
       "zipcode_98075       0.5077      0.013     38.932      0.000       0.482       0.533\n",
       "zipcode_98007       0.6003      0.020     29.789      0.000       0.561       0.640\n",
       "sale_month_4        0.0739      0.005     14.567      0.000       0.064       0.084\n",
       "zipcode_98118       0.4433      0.011     39.367      0.000       0.421       0.465\n",
       "zipcode_98027       0.4431      0.012     37.219      0.000       0.420       0.466\n",
       "zipcode_98133       0.4184      0.011     36.808      0.000       0.396       0.441\n",
       "condition_5         0.4656      0.042     11.200      0.000       0.384       0.547\n",
       "condition_4         0.3976      0.041      9.619      0.000       0.317       0.479\n",
       "zipcode_98065       0.3994      0.014     29.410      0.000       0.373       0.426\n",
       "zipcode_98155       0.3777      0.012     32.631      0.000       0.355       0.400\n",
       "zipcode_98072       0.4061      0.014     28.419      0.000       0.378       0.434\n",
       "zipcode_98011       0.3978      0.016     24.571      0.000       0.366       0.430\n",
       "zipcode_98028       0.3578      0.014     25.166      0.000       0.330       0.386\n",
       "sale_month_3        0.0498      0.005      9.063      0.000       0.039       0.061\n",
       "floors_2.0          0.0321      0.004      7.373      0.000       0.024       0.041\n",
       "zipcode_98077       0.3428      0.017     20.409      0.000       0.310       0.376\n",
       "zipcode_98059       0.2990      0.011     26.077      0.000       0.277       0.321\n",
       "zipcode_98106       0.3011      0.013     22.922      0.000       0.275       0.327\n",
       "zipcode_98108       0.3300      0.017     19.125      0.000       0.296       0.364\n",
       "zipcode_98056       0.2788      0.012     23.277      0.000       0.255       0.302\n",
       "zipcode_98166       0.2613      0.015     17.556      0.000       0.232       0.290\n",
       "zipcode_98019       0.2679      0.017     15.882      0.000       0.235       0.301\n",
       "zipcode_98045       0.2653      0.016     16.711      0.000       0.234       0.296\n",
       "zipcode_98146       0.2291      0.014     16.844      0.000       0.202       0.256\n",
       "zipcode_98024       0.3245      0.025     12.766      0.000       0.275       0.374\n",
       "zipcode_98014       0.2252      0.021     10.739      0.000       0.184       0.266\n",
       "zipcode_98070       0.2144      0.022      9.833      0.000       0.172       0.257\n",
       "condition_2         0.2335      0.045      5.229      0.000       0.146       0.321\n",
       "zipcode_98038       0.1256      0.010     12.054      0.000       0.105       0.146\n",
       "zipcode_98178       0.1325      0.015      9.077      0.000       0.104       0.161\n",
       "zipcode_98058       0.1029      0.012      8.809      0.000       0.080       0.126\n",
       "zipcode_98010       0.1600      0.023      7.021      0.000       0.115       0.205\n",
       "zipcode_98055       0.1044      0.014      7.396      0.000       0.077       0.132\n",
       "bedrooms_2          0.0257      0.005      4.853      0.000       0.015       0.036\n",
       "floors_1.5          0.0251      0.006      4.311      0.000       0.014       0.037\n",
       "floors_2.5          0.0690      0.017      3.955      0.000       0.035       0.103\n",
       "sale_month_2        0.0286      0.007      4.285      0.000       0.016       0.042\n",
       "sale_month_5        0.0182      0.005      3.755      0.000       0.009       0.028\n",
       "floors_3.0         -0.0371      0.011     -3.496      0.000      -0.058      -0.016\n",
       "grade_5            -0.0554      0.016     -3.573      0.000      -0.086      -0.025\n",
       "zipcode_98148       0.1084      0.030      3.663      0.000       0.050       0.166\n",
       "zipcode_98198       0.0501      0.014      3.536      0.000       0.022       0.078\n",
       "bedrooms_7         -0.1041      0.034     -3.079      0.002      -0.170      -0.038\n",
       "==============================================================================\n",
       "Omnibus:                      916.301   Durbin-Watson:                   2.022\n",
       "Prob(Omnibus):                  0.000   Jarque-Bera (JB):             3741.649\n",
       "Skew:                          -0.135   Prob(JB):                         0.00\n",
       "Kurtosis:                       5.402   Cond. No.                         753.\n",
       "==============================================================================\n",
       "\n",
       "Warnings:\n",
       "[1] Standard Errors assume that the covariance matrix of the errors is correctly specified.\n",
       "\"\"\""
      ]
     },
     "execution_count": 7,
     "metadata": {},
     "output_type": "execute_result"
    }
   ],
   "source": [
    "import statsmodels.api as sm\n",
    "X_fin = X_train[result]\n",
    "X_with_intercept = sm.add_constant(X_fin)\n",
    "model = sm.OLS(y_train,X_with_intercept).fit()\n",
    "model.summary()"
   ]
  },
  {
   "cell_type": "code",
   "execution_count": 8,
   "metadata": {},
   "outputs": [
    {
     "data": {
      "text/plain": [
       "array([ True,  True,  True,  True, False,  True,  True,  True,  True,\n",
       "        True, False,  True,  True,  True,  True,  True,  True,  True,\n",
       "        True,  True,  True,  True,  True, False,  True, False, False,\n",
       "        True,  True,  True, False, False,  True,  True,  True,  True,\n",
       "        True,  True,  True,  True,  True,  True,  True,  True,  True,\n",
       "        True,  True, False,  True,  True,  True,  True,  True,  True,\n",
       "        True,  True,  True,  True, False, False,  True,  True,  True,\n",
       "        True,  True,  True,  True,  True,  True,  True,  True,  True,\n",
       "        True,  True,  True,  True,  True,  True, False, False, False,\n",
       "       False, False, False, False,  True, False,  True])"
      ]
     },
     "execution_count": 8,
     "metadata": {},
     "output_type": "execute_result"
    }
   ],
   "source": [
    "from sklearn.feature_selection import RFE\n",
    "from sklearn.linear_model import LinearRegression\n",
    "\n",
    "linreg = LinearRegression()\n",
    "selector = RFE(linreg, n_features_to_select = 70)\n",
    "selector = selector.fit(X_fin, y_train.values.ravel()) \n",
    "selector.support_ "
   ]
  },
  {
   "cell_type": "code",
   "execution_count": 9,
   "metadata": {},
   "outputs": [
    {
     "data": {
      "text/plain": [
       "LinearRegression(copy_X=True, fit_intercept=True, n_jobs=None, normalize=False)"
      ]
     },
     "execution_count": 9,
     "metadata": {},
     "output_type": "execute_result"
    }
   ],
   "source": [
    "selected_columns = X_fin.columns[selector.support_ ]\n",
    "linreg.fit(X_fin[selected_columns],y_train)"
   ]
  },
  {
   "cell_type": "code",
   "execution_count": 10,
   "metadata": {},
   "outputs": [
    {
     "data": {
      "text/plain": [
       "Index(['grade_10', 'grade_9', 'sqft_living_log', 'grade_11', 'zipcode_98004',\n",
       "       'waterfront_1.0', 'grade_8', 'grade_12', 'zipcode_98112',\n",
       "       'zipcode_98115', 'zipcode_98103', 'zipcode_98117', 'zipcode_98105',\n",
       "       'zipcode_98199', 'zipcode_98040', 'zipcode_98033', 'zipcode_98119',\n",
       "       'zipcode_98107', 'zipcode_98039', 'zipcode_98116', 'zipcode_98122',\n",
       "       'zipcode_98109', 'condition_3', 'zipcode_98102', 'grade_13',\n",
       "       'zipcode_98136', 'zipcode_98144', 'zipcode_98006', 'zipcode_98052',\n",
       "       'zipcode_98008', 'zipcode_98005', 'zipcode_98053', 'zipcode_98177',\n",
       "       'zipcode_98125', 'zipcode_98034', 'zipcode_98029', 'zipcode_98126',\n",
       "       'zipcode_98074', 'zipcode_98075', 'zipcode_98007', 'zipcode_98118',\n",
       "       'zipcode_98027', 'zipcode_98133', 'condition_5', 'condition_4',\n",
       "       'zipcode_98065', 'zipcode_98155', 'zipcode_98072', 'zipcode_98011',\n",
       "       'zipcode_98028', 'zipcode_98077', 'zipcode_98059', 'zipcode_98106',\n",
       "       'zipcode_98108', 'zipcode_98056', 'zipcode_98166', 'zipcode_98019',\n",
       "       'zipcode_98045', 'zipcode_98146', 'zipcode_98024', 'zipcode_98014',\n",
       "       'zipcode_98070', 'condition_2', 'zipcode_98038', 'zipcode_98178',\n",
       "       'zipcode_98058', 'zipcode_98010', 'zipcode_98055', 'zipcode_98148',\n",
       "       'bedrooms_7'],\n",
       "      dtype='object')"
      ]
     },
     "execution_count": 10,
     "metadata": {},
     "output_type": "execute_result"
    }
   ],
   "source": [
    "selected_columns"
   ]
  },
  {
   "cell_type": "code",
   "execution_count": 11,
   "metadata": {},
   "outputs": [],
   "source": [
    "yhat = linreg.predict(X[selected_columns])\n",
    "y_hat_train = linreg.predict(X_fin[selected_columns])\n",
    "y_hat_test = linreg.predict(X_test[selected_columns])"
   ]
  },
  {
   "cell_type": "code",
   "execution_count": 12,
   "metadata": {},
   "outputs": [],
   "source": [
    "SS_Residual = np.sum((y-yhat)**2)\n",
    "SS_Total = np.sum((y-np.mean(y))**2)\n",
    "r_squared = 1 - (float(SS_Residual))/SS_Total\n",
    "adjusted_r_squared = 1 - (1-r_squared)*(len(y)-1)/(len(y)-X[selected_columns].shape[1]-1)"
   ]
  },
  {
   "cell_type": "code",
   "execution_count": 13,
   "metadata": {},
   "outputs": [
    {
     "data": {
      "text/plain": [
       "0.8628968694399499"
      ]
     },
     "execution_count": 13,
     "metadata": {},
     "output_type": "execute_result"
    }
   ],
   "source": [
    "r_squared"
   ]
  },
  {
   "cell_type": "code",
   "execution_count": 14,
   "metadata": {
    "scrolled": true
   },
   "outputs": [
    {
     "data": {
      "text/plain": [
       "0.8623955782861654"
      ]
     },
     "execution_count": 14,
     "metadata": {},
     "output_type": "execute_result"
    }
   ],
   "source": [
    "adjusted_r_squared"
   ]
  },
  {
   "cell_type": "code",
   "execution_count": 15,
   "metadata": {},
   "outputs": [
    {
     "data": {
      "text/plain": [
       "0.8646491645780046"
      ]
     },
     "execution_count": 15,
     "metadata": {},
     "output_type": "execute_result"
    }
   ],
   "source": [
    "linreg.score(X_fin[selected_columns], y_train)"
   ]
  },
  {
   "cell_type": "code",
   "execution_count": 16,
   "metadata": {},
   "outputs": [],
   "source": [
    "# def un_normalize(feature):\n",
    "#     kcc_log.apply(normalize)\n",
    "#     fm = feature.mean()\n",
    "#     fs = feature.std\n",
    "#     return (feature + fm) * fs\n",
    "\n",
    "# X_fin = X_fin.apply(un_normalize)\n",
    "# X_test = X_test.apply(un_normalize)\n",
    "# y_train = y_train.apply(un_normalize)\n",
    "# y_test = y_test.apply(un_normalize)"
   ]
  },
  {
   "cell_type": "code",
   "execution_count": 17,
   "metadata": {},
   "outputs": [],
   "source": [
    "# X_fin = np.exp(X_fin)\n",
    "# X_test = np.exp(X_test)\n",
    "# y_train = np.exp(y_train)\n",
    "# y_test = np.exp(y_test)"
   ]
  },
  {
   "cell_type": "code",
   "execution_count": 18,
   "metadata": {},
   "outputs": [
    {
     "name": "stdout",
     "output_type": "stream",
     "text": [
      "Train Mean Squarred Error: 0.038195467395405955\n",
      "Test Mean Squarred Error: 0.03789664662546213\n"
     ]
    }
   ],
   "source": [
    "mse_train = np.sum((y_train-y_hat_train)**2)/len(y_train)\n",
    "mse_test = np.sum((y_test-y_hat_test)**2)/len(y_test)\n",
    "print('Train Mean Squarred Error:', mse_train)\n",
    "print('Test Mean Squarred Error:', mse_test)"
   ]
  },
  {
   "cell_type": "code",
   "execution_count": 19,
   "metadata": {},
   "outputs": [
    {
     "name": "stdout",
     "output_type": "stream",
     "text": [
      "0.19543660710165317\n",
      "0.19467061058480845\n"
     ]
    }
   ],
   "source": [
    "train_error_log = np.sqrt(mse_train)\n",
    "test_error_log = np.sqrt(mse_test)\n",
    "print(train_error_log)\n",
    "print(test_error_log)"
   ]
  },
  {
   "cell_type": "code",
   "execution_count": 20,
   "metadata": {},
   "outputs": [
    {
     "name": "stdout",
     "output_type": "stream",
     "text": [
      "train error: 1.2158417157488002\n",
      "test error: 1.21491074183641\n"
     ]
    }
   ],
   "source": [
    "train_error = np.exp(train_error_log)\n",
    "test_error = np.exp(test_error_log)\n",
    "print('train error:',train_error)\n",
    "print('test error:', test_error)"
   ]
  },
  {
   "cell_type": "code",
   "execution_count": 21,
   "metadata": {},
   "outputs": [],
   "source": [
    "# def un_normalize(feature):\n",
    "#     return (feature + feature.mean()) * feature.std()"
   ]
  },
  {
   "cell_type": "code",
   "execution_count": 22,
   "metadata": {},
   "outputs": [
    {
     "ename": "AttributeError",
     "evalue": "'numpy.float64' object has no attribute 'apply'",
     "output_type": "error",
     "traceback": [
      "\u001b[1;31m---------------------------------------------------------------------------\u001b[0m",
      "\u001b[1;31mAttributeError\u001b[0m                            Traceback (most recent call last)",
      "\u001b[1;32m<ipython-input-22-d812ee3717d1>\u001b[0m in \u001b[0;36m<module>\u001b[1;34m\u001b[0m\n\u001b[1;32m----> 1\u001b[1;33m \u001b[0mtrain_error\u001b[0m\u001b[1;33m.\u001b[0m\u001b[0mapply\u001b[0m\u001b[1;33m(\u001b[0m\u001b[0mun_normalize\u001b[0m\u001b[1;33m)\u001b[0m\u001b[1;33m\u001b[0m\u001b[1;33m\u001b[0m\u001b[0m\n\u001b[0m\u001b[0;32m      2\u001b[0m \u001b[0mtest_error\u001b[0m\u001b[1;33m.\u001b[0m\u001b[0mapply\u001b[0m\u001b[1;33m(\u001b[0m\u001b[0mun_normalize\u001b[0m\u001b[1;33m)\u001b[0m\u001b[1;33m\u001b[0m\u001b[1;33m\u001b[0m\u001b[0m\n",
      "\u001b[1;31mAttributeError\u001b[0m: 'numpy.float64' object has no attribute 'apply'"
     ]
    }
   ],
   "source": [
    "# train_error.apply(un_normalize)\n",
    "# test_error.apply(un_normalize)"
   ]
  },
  {
   "cell_type": "code",
   "execution_count": 23,
   "metadata": {},
   "outputs": [],
   "source": [
    "import scipy.stats as stats"
   ]
  },
  {
   "cell_type": "code",
   "execution_count": 24,
   "metadata": {},
   "outputs": [],
   "source": [
    "fig = sm.graphics.qqplot(model.resid, dist=stats.norm, line='45', fit=True)"
   ]
  },
  {
   "cell_type": "code",
   "execution_count": 25,
   "metadata": {},
   "outputs": [],
   "source": [
    "import matplotlib.pyplot as plt\n",
    "import seaborn as sns\n",
    "%matplotlib inline"
   ]
  },
  {
   "cell_type": "code",
   "execution_count": 26,
   "metadata": {},
   "outputs": [],
   "source": [
    "# plt.scatter(model.predict(y_hat_train))"
   ]
  },
  {
   "cell_type": "code",
   "execution_count": 27,
   "metadata": {
    "scrolled": true
   },
   "outputs": [
    {
     "data": {
      "text/plain": [
       "<matplotlib.collections.PathCollection at 0x19fb5e20160>"
      ]
     },
     "execution_count": 27,
     "metadata": {},
     "output_type": "execute_result"
    },
    {
     "data": {
      "image/png": "[encoded data removed]",
      "text/plain": [
       "<Figure size 432x288 with 1 Axes>"
      ]
     },
     "metadata": {
      "needs_background": "light"
     },
     "output_type": "display_data"
    }
   ],
   "source": [
    "plt.scatter(y_hat_train, model.resid)\n",
    "# plt.plot(y_hat_train(X_train[selected_columns])"
   ]
  },
  {
   "cell_type": "code",
   "execution_count": 28,
   "metadata": {},
   "outputs": [
    {
     "data": {
      "image/png": "[encoded data removed]",
      "text/plain": [
       "<Figure size 432x288 with 1 Axes>"
      ]
     },
     "metadata": {
      "needs_background": "light"
     },
     "output_type": "display_data"
    }
   ],
   "source": [
    "fig = sm.graphics.qqplot(model.resid, dist=stats.norm, line='45', fit=True)"
   ]
  },
  {
   "cell_type": "code",
   "execution_count": 29,
   "metadata": {},
   "outputs": [
    {
     "data": {
      "text/html": [
       "<table class=\"simpletable\">\n",
       "<caption>OLS Regression Results</caption>\n",
       "<tr>\n",
       "  <th>Dep. Variable:</th>        <td>price_log</td>    <th>  R-squared (uncentered):</th>      <td>   0.999</td> \n",
       "</tr>\n",
       "<tr>\n",
       "  <th>Model:</th>                   <td>OLS</td>       <th>  Adj. R-squared (uncentered):</th> <td>   0.999</td> \n",
       "</tr>\n",
       "<tr>\n",
       "  <th>Method:</th>             <td>Least Squares</td>  <th>  F-statistic:       </th>          <td>1.056e+05</td>\n",
       "</tr>\n",
       "<tr>\n",
       "  <th>Date:</th>             <td>Fri, 30 Oct 2020</td> <th>  Prob (F-statistic):</th>           <td>  0.00</td>  \n",
       "</tr>\n",
       "<tr>\n",
       "  <th>Time:</th>                 <td>14:10:22</td>     <th>  Log-Likelihood:    </th>          <td> -764.75</td> \n",
       "</tr>\n",
       "<tr>\n",
       "  <th>No. Observations:</th>      <td>  3844</td>      <th>  AIC:               </th>          <td>   1669.</td> \n",
       "</tr>\n",
       "<tr>\n",
       "  <th>Df Residuals:</th>          <td>  3774</td>      <th>  BIC:               </th>          <td>   2107.</td> \n",
       "</tr>\n",
       "<tr>\n",
       "  <th>Df Model:</th>              <td>    70</td>      <th>                     </th>              <td> </td>    \n",
       "</tr>\n",
       "<tr>\n",
       "  <th>Covariance Type:</th>      <td>nonrobust</td>    <th>                     </th>              <td> </td>    \n",
       "</tr>\n",
       "</table>\n",
       "<table class=\"simpletable\">\n",
       "<tr>\n",
       "         <td></td>            <th>coef</th>     <th>std err</th>      <th>t</th>      <th>P>|t|</th>  <th>[0.025</th>    <th>0.975]</th>  \n",
       "</tr>\n",
       "<tr>\n",
       "  <th>grade_10</th>        <td>    0.0194</td> <td>    0.027</td> <td>    0.733</td> <td> 0.464</td> <td>   -0.033</td> <td>    0.071</td>\n",
       "</tr>\n",
       "<tr>\n",
       "  <th>grade_9</th>         <td>   -0.0269</td> <td>    0.018</td> <td>   -1.466</td> <td> 0.143</td> <td>   -0.063</td> <td>    0.009</td>\n",
       "</tr>\n",
       "<tr>\n",
       "  <th>sqft_living_log</th> <td>    0.9912</td> <td>    0.013</td> <td>   74.765</td> <td> 0.000</td> <td>    0.965</td> <td>    1.017</td>\n",
       "</tr>\n",
       "<tr>\n",
       "  <th>grade_11</th>        <td>   -0.0213</td> <td>    0.040</td> <td>   -0.534</td> <td> 0.593</td> <td>   -0.100</td> <td>    0.057</td>\n",
       "</tr>\n",
       "<tr>\n",
       "  <th>zipcode_98004</th>   <td>    1.2619</td> <td>    0.039</td> <td>   32.745</td> <td> 0.000</td> <td>    1.186</td> <td>    1.337</td>\n",
       "</tr>\n",
       "<tr>\n",
       "  <th>waterfront_1.0</th>  <td>    0.7000</td> <td>    0.061</td> <td>   11.527</td> <td> 0.000</td> <td>    0.581</td> <td>    0.819</td>\n",
       "</tr>\n",
       "<tr>\n",
       "  <th>grade_8</th>         <td>   -0.0379</td> <td>    0.013</td> <td>   -3.031</td> <td> 0.002</td> <td>   -0.062</td> <td>   -0.013</td>\n",
       "</tr>\n",
       "<tr>\n",
       "  <th>grade_12</th>        <td>   -0.0174</td> <td>    0.090</td> <td>   -0.193</td> <td> 0.847</td> <td>   -0.194</td> <td>    0.160</td>\n",
       "</tr>\n",
       "<tr>\n",
       "  <th>zipcode_98112</th>   <td>    1.1293</td> <td>    0.047</td> <td>   23.885</td> <td> 0.000</td> <td>    1.037</td> <td>    1.222</td>\n",
       "</tr>\n",
       "<tr>\n",
       "  <th>zipcode_98115</th>   <td>    0.8594</td> <td>    0.031</td> <td>   28.056</td> <td> 0.000</td> <td>    0.799</td> <td>    0.919</td>\n",
       "</tr>\n",
       "<tr>\n",
       "  <th>zipcode_98103</th>   <td>    0.8868</td> <td>    0.030</td> <td>   29.451</td> <td> 0.000</td> <td>    0.828</td> <td>    0.946</td>\n",
       "</tr>\n",
       "<tr>\n",
       "  <th>zipcode_98117</th>   <td>    0.8767</td> <td>    0.030</td> <td>   28.862</td> <td> 0.000</td> <td>    0.817</td> <td>    0.936</td>\n",
       "</tr>\n",
       "<tr>\n",
       "  <th>zipcode_98105</th>   <td>    0.9657</td> <td>    0.048</td> <td>   20.262</td> <td> 0.000</td> <td>    0.872</td> <td>    1.059</td>\n",
       "</tr>\n",
       "<tr>\n",
       "  <th>zipcode_98199</th>   <td>    0.8813</td> <td>    0.046</td> <td>   19.353</td> <td> 0.000</td> <td>    0.792</td> <td>    0.971</td>\n",
       "</tr>\n",
       "<tr>\n",
       "  <th>zipcode_98040</th>   <td>    0.8679</td> <td>    0.044</td> <td>   19.889</td> <td> 0.000</td> <td>    0.782</td> <td>    0.953</td>\n",
       "</tr>\n",
       "<tr>\n",
       "  <th>zipcode_98033</th>   <td>    0.8990</td> <td>    0.038</td> <td>   23.499</td> <td> 0.000</td> <td>    0.824</td> <td>    0.974</td>\n",
       "</tr>\n",
       "<tr>\n",
       "  <th>zipcode_98119</th>   <td>    1.0645</td> <td>    0.050</td> <td>   21.326</td> <td> 0.000</td> <td>    0.967</td> <td>    1.162</td>\n",
       "</tr>\n",
       "<tr>\n",
       "  <th>zipcode_98107</th>   <td>    0.9659</td> <td>    0.044</td> <td>   22.038</td> <td> 0.000</td> <td>    0.880</td> <td>    1.052</td>\n",
       "</tr>\n",
       "<tr>\n",
       "  <th>zipcode_98039</th>   <td>    1.4179</td> <td>    0.134</td> <td>   10.551</td> <td> 0.000</td> <td>    1.154</td> <td>    1.681</td>\n",
       "</tr>\n",
       "<tr>\n",
       "  <th>zipcode_98116</th>   <td>    0.7952</td> <td>    0.043</td> <td>   18.461</td> <td> 0.000</td> <td>    0.711</td> <td>    0.880</td>\n",
       "</tr>\n",
       "<tr>\n",
       "  <th>zipcode_98122</th>   <td>    0.8511</td> <td>    0.043</td> <td>   19.776</td> <td> 0.000</td> <td>    0.767</td> <td>    0.936</td>\n",
       "</tr>\n",
       "<tr>\n",
       "  <th>zipcode_98109</th>   <td>    1.0145</td> <td>    0.073</td> <td>   13.815</td> <td> 0.000</td> <td>    0.871</td> <td>    1.159</td>\n",
       "</tr>\n",
       "<tr>\n",
       "  <th>condition_3</th>     <td>    5.0633</td> <td>    0.098</td> <td>   51.796</td> <td> 0.000</td> <td>    4.872</td> <td>    5.255</td>\n",
       "</tr>\n",
       "<tr>\n",
       "  <th>zipcode_98102</th>   <td>    0.9284</td> <td>    0.063</td> <td>   14.653</td> <td> 0.000</td> <td>    0.804</td> <td>    1.053</td>\n",
       "</tr>\n",
       "<tr>\n",
       "  <th>grade_13</th>        <td>    0.2214</td> <td>    0.214</td> <td>    1.036</td> <td> 0.300</td> <td>   -0.198</td> <td>    0.640</td>\n",
       "</tr>\n",
       "<tr>\n",
       "  <th>zipcode_98136</th>   <td>    0.6877</td> <td>    0.047</td> <td>   14.491</td> <td> 0.000</td> <td>    0.595</td> <td>    0.781</td>\n",
       "</tr>\n",
       "<tr>\n",
       "  <th>zipcode_98144</th>   <td>    0.6899</td> <td>    0.040</td> <td>   17.149</td> <td> 0.000</td> <td>    0.611</td> <td>    0.769</td>\n",
       "</tr>\n",
       "<tr>\n",
       "  <th>zipcode_98006</th>   <td>    0.6725</td> <td>    0.034</td> <td>   19.935</td> <td> 0.000</td> <td>    0.606</td> <td>    0.739</td>\n",
       "</tr>\n",
       "<tr>\n",
       "  <th>zipcode_98052</th>   <td>    0.6243</td> <td>    0.031</td> <td>   20.343</td> <td> 0.000</td> <td>    0.564</td> <td>    0.684</td>\n",
       "</tr>\n",
       "<tr>\n",
       "  <th>zipcode_98008</th>   <td>    0.6421</td> <td>    0.043</td> <td>   14.804</td> <td> 0.000</td> <td>    0.557</td> <td>    0.727</td>\n",
       "</tr>\n",
       "<tr>\n",
       "  <th>zipcode_98005</th>   <td>    0.7439</td> <td>    0.059</td> <td>   12.652</td> <td> 0.000</td> <td>    0.629</td> <td>    0.859</td>\n",
       "</tr>\n",
       "<tr>\n",
       "  <th>zipcode_98053</th>   <td>    0.5664</td> <td>    0.035</td> <td>   16.279</td> <td> 0.000</td> <td>    0.498</td> <td>    0.635</td>\n",
       "</tr>\n",
       "<tr>\n",
       "  <th>zipcode_98177</th>   <td>    0.6400</td> <td>    0.046</td> <td>   13.989</td> <td> 0.000</td> <td>    0.550</td> <td>    0.730</td>\n",
       "</tr>\n",
       "<tr>\n",
       "  <th>zipcode_98125</th>   <td>    0.5835</td> <td>    0.039</td> <td>   14.936</td> <td> 0.000</td> <td>    0.507</td> <td>    0.660</td>\n",
       "</tr>\n",
       "<tr>\n",
       "  <th>zipcode_98034</th>   <td>    0.5350</td> <td>    0.034</td> <td>   15.889</td> <td> 0.000</td> <td>    0.469</td> <td>    0.601</td>\n",
       "</tr>\n",
       "<tr>\n",
       "  <th>zipcode_98029</th>   <td>    0.6246</td> <td>    0.044</td> <td>   14.311</td> <td> 0.000</td> <td>    0.539</td> <td>    0.710</td>\n",
       "</tr>\n",
       "<tr>\n",
       "  <th>zipcode_98126</th>   <td>    0.6526</td> <td>    0.038</td> <td>   17.028</td> <td> 0.000</td> <td>    0.577</td> <td>    0.728</td>\n",
       "</tr>\n",
       "<tr>\n",
       "  <th>zipcode_98074</th>   <td>    0.5740</td> <td>    0.039</td> <td>   14.751</td> <td> 0.000</td> <td>    0.498</td> <td>    0.650</td>\n",
       "</tr>\n",
       "<tr>\n",
       "  <th>zipcode_98075</th>   <td>    0.5607</td> <td>    0.038</td> <td>   14.919</td> <td> 0.000</td> <td>    0.487</td> <td>    0.634</td>\n",
       "</tr>\n",
       "<tr>\n",
       "  <th>zipcode_98007</th>   <td>    0.6434</td> <td>    0.057</td> <td>   11.318</td> <td> 0.000</td> <td>    0.532</td> <td>    0.755</td>\n",
       "</tr>\n",
       "<tr>\n",
       "  <th>zipcode_98118</th>   <td>    0.5636</td> <td>    0.033</td> <td>   17.098</td> <td> 0.000</td> <td>    0.499</td> <td>    0.628</td>\n",
       "</tr>\n",
       "<tr>\n",
       "  <th>zipcode_98027</th>   <td>    0.5489</td> <td>    0.037</td> <td>   14.674</td> <td> 0.000</td> <td>    0.476</td> <td>    0.622</td>\n",
       "</tr>\n",
       "<tr>\n",
       "  <th>zipcode_98133</th>   <td>    0.4842</td> <td>    0.034</td> <td>   14.440</td> <td> 0.000</td> <td>    0.418</td> <td>    0.550</td>\n",
       "</tr>\n",
       "<tr>\n",
       "  <th>condition_5</th>     <td>    5.1014</td> <td>    0.101</td> <td>   50.638</td> <td> 0.000</td> <td>    4.904</td> <td>    5.299</td>\n",
       "</tr>\n",
       "<tr>\n",
       "  <th>condition_4</th>     <td>    5.1030</td> <td>    0.098</td> <td>   52.026</td> <td> 0.000</td> <td>    4.911</td> <td>    5.295</td>\n",
       "</tr>\n",
       "<tr>\n",
       "  <th>zipcode_98065</th>   <td>    0.3463</td> <td>    0.042</td> <td>    8.318</td> <td> 0.000</td> <td>    0.265</td> <td>    0.428</td>\n",
       "</tr>\n",
       "<tr>\n",
       "  <th>zipcode_98155</th>   <td>    0.4657</td> <td>    0.035</td> <td>   13.177</td> <td> 0.000</td> <td>    0.396</td> <td>    0.535</td>\n",
       "</tr>\n",
       "<tr>\n",
       "  <th>zipcode_98072</th>   <td>    0.4987</td> <td>    0.045</td> <td>   11.060</td> <td> 0.000</td> <td>    0.410</td> <td>    0.587</td>\n",
       "</tr>\n",
       "<tr>\n",
       "  <th>zipcode_98011</th>   <td>    0.4604</td> <td>    0.058</td> <td>    8.002</td> <td> 0.000</td> <td>    0.348</td> <td>    0.573</td>\n",
       "</tr>\n",
       "<tr>\n",
       "  <th>zipcode_98028</th>   <td>    0.4295</td> <td>    0.041</td> <td>   10.587</td> <td> 0.000</td> <td>    0.350</td> <td>    0.509</td>\n",
       "</tr>\n",
       "<tr>\n",
       "  <th>zipcode_98077</th>   <td>    0.5151</td> <td>    0.053</td> <td>    9.736</td> <td> 0.000</td> <td>    0.411</td> <td>    0.619</td>\n",
       "</tr>\n",
       "<tr>\n",
       "  <th>zipcode_98059</th>   <td>    0.3154</td> <td>    0.035</td> <td>    8.908</td> <td> 0.000</td> <td>    0.246</td> <td>    0.385</td>\n",
       "</tr>\n",
       "<tr>\n",
       "  <th>zipcode_98106</th>   <td>    0.4408</td> <td>    0.042</td> <td>   10.591</td> <td> 0.000</td> <td>    0.359</td> <td>    0.522</td>\n",
       "</tr>\n",
       "<tr>\n",
       "  <th>zipcode_98108</th>   <td>    0.3780</td> <td>    0.050</td> <td>    7.486</td> <td> 0.000</td> <td>    0.279</td> <td>    0.477</td>\n",
       "</tr>\n",
       "<tr>\n",
       "  <th>zipcode_98056</th>   <td>    0.3024</td> <td>    0.037</td> <td>    8.066</td> <td> 0.000</td> <td>    0.229</td> <td>    0.376</td>\n",
       "</tr>\n",
       "<tr>\n",
       "  <th>zipcode_98166</th>   <td>    0.3460</td> <td>    0.048</td> <td>    7.156</td> <td> 0.000</td> <td>    0.251</td> <td>    0.441</td>\n",
       "</tr>\n",
       "<tr>\n",
       "  <th>zipcode_98019</th>   <td>    0.2852</td> <td>    0.054</td> <td>    5.273</td> <td> 0.000</td> <td>    0.179</td> <td>    0.391</td>\n",
       "</tr>\n",
       "<tr>\n",
       "  <th>zipcode_98045</th>   <td>    0.3912</td> <td>    0.052</td> <td>    7.456</td> <td> 0.000</td> <td>    0.288</td> <td>    0.494</td>\n",
       "</tr>\n",
       "<tr>\n",
       "  <th>zipcode_98146</th>   <td>    0.4692</td> <td>    0.049</td> <td>    9.672</td> <td> 0.000</td> <td>    0.374</td> <td>    0.564</td>\n",
       "</tr>\n",
       "<tr>\n",
       "  <th>zipcode_98024</th>   <td>    0.6095</td> <td>    0.075</td> <td>    8.074</td> <td> 0.000</td> <td>    0.461</td> <td>    0.757</td>\n",
       "</tr>\n",
       "<tr>\n",
       "  <th>zipcode_98014</th>   <td>    0.3457</td> <td>    0.062</td> <td>    5.555</td> <td> 0.000</td> <td>    0.224</td> <td>    0.468</td>\n",
       "</tr>\n",
       "<tr>\n",
       "  <th>zipcode_98070</th>   <td>    0.4582</td> <td>    0.062</td> <td>    7.346</td> <td> 0.000</td> <td>    0.336</td> <td>    0.580</td>\n",
       "</tr>\n",
       "<tr>\n",
       "  <th>condition_2</th>     <td>    4.9491</td> <td>    0.107</td> <td>   46.075</td> <td> 0.000</td> <td>    4.739</td> <td>    5.160</td>\n",
       "</tr>\n",
       "<tr>\n",
       "  <th>zipcode_98038</th>   <td>    0.1406</td> <td>    0.031</td> <td>    4.591</td> <td> 0.000</td> <td>    0.081</td> <td>    0.201</td>\n",
       "</tr>\n",
       "<tr>\n",
       "  <th>zipcode_98178</th>   <td>    0.0563</td> <td>    0.046</td> <td>    1.226</td> <td> 0.220</td> <td>   -0.034</td> <td>    0.146</td>\n",
       "</tr>\n",
       "<tr>\n",
       "  <th>zipcode_98058</th>   <td>    0.1839</td> <td>    0.034</td> <td>    5.382</td> <td> 0.000</td> <td>    0.117</td> <td>    0.251</td>\n",
       "</tr>\n",
       "<tr>\n",
       "  <th>zipcode_98010</th>   <td>    0.2702</td> <td>    0.075</td> <td>    3.580</td> <td> 0.000</td> <td>    0.122</td> <td>    0.418</td>\n",
       "</tr>\n",
       "<tr>\n",
       "  <th>zipcode_98055</th>   <td>    0.1488</td> <td>    0.050</td> <td>    2.990</td> <td> 0.003</td> <td>    0.051</td> <td>    0.246</td>\n",
       "</tr>\n",
       "<tr>\n",
       "  <th>zipcode_98148</th>   <td>    0.8571</td> <td>    0.095</td> <td>    8.997</td> <td> 0.000</td> <td>    0.670</td> <td>    1.044</td>\n",
       "</tr>\n",
       "<tr>\n",
       "  <th>bedrooms_7</th>      <td>   -0.4028</td> <td>    0.151</td> <td>   -2.666</td> <td> 0.008</td> <td>   -0.699</td> <td>   -0.107</td>\n",
       "</tr>\n",
       "</table>\n",
       "<table class=\"simpletable\">\n",
       "<tr>\n",
       "  <th>Omnibus:</th>       <td>4861.146</td> <th>  Durbin-Watson:     </th>  <td>   1.989</td>  \n",
       "</tr>\n",
       "<tr>\n",
       "  <th>Prob(Omnibus):</th>  <td> 0.000</td>  <th>  Jarque-Bera (JB):  </th> <td>2271213.332</td>\n",
       "</tr>\n",
       "<tr>\n",
       "  <th>Skew:</th>           <td> 6.439</td>  <th>  Prob(JB):          </th>  <td>    0.00</td>  \n",
       "</tr>\n",
       "<tr>\n",
       "  <th>Kurtosis:</th>       <td>121.383</td> <th>  Cond. No.          </th>  <td>    346.</td>  \n",
       "</tr>\n",
       "</table><br/><br/>Warnings:<br/>[1] Standard Errors assume that the covariance matrix of the errors is correctly specified."
      ],
      "text/plain": [
       "<class 'statsmodels.iolib.summary.Summary'>\n",
       "\"\"\"\n",
       "                                 OLS Regression Results                                \n",
       "=======================================================================================\n",
       "Dep. Variable:              price_log   R-squared (uncentered):                   0.999\n",
       "Model:                            OLS   Adj. R-squared (uncentered):              0.999\n",
       "Method:                 Least Squares   F-statistic:                          1.056e+05\n",
       "Date:                Fri, 30 Oct 2020   Prob (F-statistic):                        0.00\n",
       "Time:                        14:10:22   Log-Likelihood:                         -764.75\n",
       "No. Observations:                3844   AIC:                                      1669.\n",
       "Df Residuals:                    3774   BIC:                                      2107.\n",
       "Df Model:                          70                                                  \n",
       "Covariance Type:            nonrobust                                                  \n",
       "===================================================================================\n",
       "                      coef    std err          t      P>|t|      [0.025      0.975]\n",
       "-----------------------------------------------------------------------------------\n",
       "grade_10            0.0194      0.027      0.733      0.464      -0.033       0.071\n",
       "grade_9            -0.0269      0.018     -1.466      0.143      -0.063       0.009\n",
       "sqft_living_log     0.9912      0.013     74.765      0.000       0.965       1.017\n",
       "grade_11           -0.0213      0.040     -0.534      0.593      -0.100       0.057\n",
       "zipcode_98004       1.2619      0.039     32.745      0.000       1.186       1.337\n",
       "waterfront_1.0      0.7000      0.061     11.527      0.000       0.581       0.819\n",
       "grade_8            -0.0379      0.013     -3.031      0.002      -0.062      -0.013\n",
       "grade_12           -0.0174      0.090     -0.193      0.847      -0.194       0.160\n",
       "zipcode_98112       1.1293      0.047     23.885      0.000       1.037       1.222\n",
       "zipcode_98115       0.8594      0.031     28.056      0.000       0.799       0.919\n",
       "zipcode_98103       0.8868      0.030     29.451      0.000       0.828       0.946\n",
       "zipcode_98117       0.8767      0.030     28.862      0.000       0.817       0.936\n",
       "zipcode_98105       0.9657      0.048     20.262      0.000       0.872       1.059\n",
       "zipcode_98199       0.8813      0.046     19.353      0.000       0.792       0.971\n",
       "zipcode_98040       0.8679      0.044     19.889      0.000       0.782       0.953\n",
       "zipcode_98033       0.8990      0.038     23.499      0.000       0.824       0.974\n",
       "zipcode_98119       1.0645      0.050     21.326      0.000       0.967       1.162\n",
       "zipcode_98107       0.9659      0.044     22.038      0.000       0.880       1.052\n",
       "zipcode_98039       1.4179      0.134     10.551      0.000       1.154       1.681\n",
       "zipcode_98116       0.7952      0.043     18.461      0.000       0.711       0.880\n",
       "zipcode_98122       0.8511      0.043     19.776      0.000       0.767       0.936\n",
       "zipcode_98109       1.0145      0.073     13.815      0.000       0.871       1.159\n",
       "condition_3         5.0633      0.098     51.796      0.000       4.872       5.255\n",
       "zipcode_98102       0.9284      0.063     14.653      0.000       0.804       1.053\n",
       "grade_13            0.2214      0.214      1.036      0.300      -0.198       0.640\n",
       "zipcode_98136       0.6877      0.047     14.491      0.000       0.595       0.781\n",
       "zipcode_98144       0.6899      0.040     17.149      0.000       0.611       0.769\n",
       "zipcode_98006       0.6725      0.034     19.935      0.000       0.606       0.739\n",
       "zipcode_98052       0.6243      0.031     20.343      0.000       0.564       0.684\n",
       "zipcode_98008       0.6421      0.043     14.804      0.000       0.557       0.727\n",
       "zipcode_98005       0.7439      0.059     12.652      0.000       0.629       0.859\n",
       "zipcode_98053       0.5664      0.035     16.279      0.000       0.498       0.635\n",
       "zipcode_98177       0.6400      0.046     13.989      0.000       0.550       0.730\n",
       "zipcode_98125       0.5835      0.039     14.936      0.000       0.507       0.660\n",
       "zipcode_98034       0.5350      0.034     15.889      0.000       0.469       0.601\n",
       "zipcode_98029       0.6246      0.044     14.311      0.000       0.539       0.710\n",
       "zipcode_98126       0.6526      0.038     17.028      0.000       0.577       0.728\n",
       "zipcode_98074       0.5740      0.039     14.751      0.000       0.498       0.650\n",
       "zipcode_98075       0.5607      0.038     14.919      0.000       0.487       0.634\n",
       "zipcode_98007       0.6434      0.057     11.318      0.000       0.532       0.755\n",
       "zipcode_98118       0.5636      0.033     17.098      0.000       0.499       0.628\n",
       "zipcode_98027       0.5489      0.037     14.674      0.000       0.476       0.622\n",
       "zipcode_98133       0.4842      0.034     14.440      0.000       0.418       0.550\n",
       "condition_5         5.1014      0.101     50.638      0.000       4.904       5.299\n",
       "condition_4         5.1030      0.098     52.026      0.000       4.911       5.295\n",
       "zipcode_98065       0.3463      0.042      8.318      0.000       0.265       0.428\n",
       "zipcode_98155       0.4657      0.035     13.177      0.000       0.396       0.535\n",
       "zipcode_98072       0.4987      0.045     11.060      0.000       0.410       0.587\n",
       "zipcode_98011       0.4604      0.058      8.002      0.000       0.348       0.573\n",
       "zipcode_98028       0.4295      0.041     10.587      0.000       0.350       0.509\n",
       "zipcode_98077       0.5151      0.053      9.736      0.000       0.411       0.619\n",
       "zipcode_98059       0.3154      0.035      8.908      0.000       0.246       0.385\n",
       "zipcode_98106       0.4408      0.042     10.591      0.000       0.359       0.522\n",
       "zipcode_98108       0.3780      0.050      7.486      0.000       0.279       0.477\n",
       "zipcode_98056       0.3024      0.037      8.066      0.000       0.229       0.376\n",
       "zipcode_98166       0.3460      0.048      7.156      0.000       0.251       0.441\n",
       "zipcode_98019       0.2852      0.054      5.273      0.000       0.179       0.391\n",
       "zipcode_98045       0.3912      0.052      7.456      0.000       0.288       0.494\n",
       "zipcode_98146       0.4692      0.049      9.672      0.000       0.374       0.564\n",
       "zipcode_98024       0.6095      0.075      8.074      0.000       0.461       0.757\n",
       "zipcode_98014       0.3457      0.062      5.555      0.000       0.224       0.468\n",
       "zipcode_98070       0.4582      0.062      7.346      0.000       0.336       0.580\n",
       "condition_2         4.9491      0.107     46.075      0.000       4.739       5.160\n",
       "zipcode_98038       0.1406      0.031      4.591      0.000       0.081       0.201\n",
       "zipcode_98178       0.0563      0.046      1.226      0.220      -0.034       0.146\n",
       "zipcode_98058       0.1839      0.034      5.382      0.000       0.117       0.251\n",
       "zipcode_98010       0.2702      0.075      3.580      0.000       0.122       0.418\n",
       "zipcode_98055       0.1488      0.050      2.990      0.003       0.051       0.246\n",
       "zipcode_98148       0.8571      0.095      8.997      0.000       0.670       1.044\n",
       "bedrooms_7         -0.4028      0.151     -2.666      0.008      -0.699      -0.107\n",
       "==============================================================================\n",
       "Omnibus:                     4861.146   Durbin-Watson:                   1.989\n",
       "Prob(Omnibus):                  0.000   Jarque-Bera (JB):          2271213.332\n",
       "Skew:                           6.439   Prob(JB):                         0.00\n",
       "Kurtosis:                     121.383   Cond. No.                         346.\n",
       "==============================================================================\n",
       "\n",
       "Warnings:\n",
       "[1] Standard Errors assume that the covariance matrix of the errors is correctly specified.\n",
       "\"\"\""
      ]
     },
     "execution_count": 29,
     "metadata": {},
     "output_type": "execute_result"
    }
   ],
   "source": [
    "model = sm.OLS(y_test,X_test[selected_columns]).fit()\n",
    "model.summary()"
   ]
  },
  {
   "cell_type": "code",
   "execution_count": 30,
   "metadata": {},
   "outputs": [
    {
     "data": {
      "image/png": "[encoded data removed]",
      "text/plain": [
       "<Figure size 432x288 with 1 Axes>"
      ]
     },
     "metadata": {
      "needs_background": "light"
     },
     "output_type": "display_data"
    }
   ],
   "source": [
    "fig = sm.graphics.qqplot(model.resid, dist=stats.norm, line='45', fit=True)"
   ]
  },
  {
   "cell_type": "code",
   "execution_count": 31,
   "metadata": {},
   "outputs": [
    {
     "data": {
      "text/plain": [
       "3844"
      ]
     },
     "execution_count": 31,
     "metadata": {},
     "output_type": "execute_result"
    }
   ],
   "source": [
    "len(model.resid)"
   ]
  },
  {
   "cell_type": "code",
   "execution_count": 32,
   "metadata": {},
   "outputs": [
    {
     "data": {
      "text/plain": [
       "(15372, 110)"
      ]
     },
     "execution_count": 32,
     "metadata": {},
     "output_type": "execute_result"
    }
   ],
   "source": [
    "X_train.shape"
   ]
  },
  {
   "cell_type": "code",
   "execution_count": 33,
   "metadata": {
    "scrolled": true
   },
   "outputs": [
    {
     "ename": "ValueError",
     "evalue": "x and y must be the same size",
     "output_type": "error",
     "traceback": [
      "\u001b[1;31m---------------------------------------------------------------------------\u001b[0m",
      "\u001b[1;31mValueError\u001b[0m                                Traceback (most recent call last)",
      "\u001b[1;32m<ipython-input-33-284b34b49ab1>\u001b[0m in \u001b[0;36m<module>\u001b[1;34m\u001b[0m\n\u001b[1;32m----> 1\u001b[1;33m \u001b[0mplt\u001b[0m\u001b[1;33m.\u001b[0m\u001b[0mscatter\u001b[0m\u001b[1;33m(\u001b[0m\u001b[0mmodel\u001b[0m\u001b[1;33m.\u001b[0m\u001b[0mpredict\u001b[0m\u001b[1;33m(\u001b[0m\u001b[0mX_train\u001b[0m\u001b[1;33m[\u001b[0m\u001b[0mselected_columns\u001b[0m\u001b[1;33m]\u001b[0m\u001b[1;33m)\u001b[0m\u001b[1;33m,\u001b[0m \u001b[0mmodel\u001b[0m\u001b[1;33m.\u001b[0m\u001b[0mresid\u001b[0m\u001b[1;33m)\u001b[0m\u001b[1;33m\u001b[0m\u001b[1;33m\u001b[0m\u001b[0m\n\u001b[0m\u001b[0;32m      2\u001b[0m \u001b[0mplt\u001b[0m\u001b[1;33m.\u001b[0m\u001b[0mplot\u001b[0m\u001b[1;33m(\u001b[0m\u001b[0mmodel\u001b[0m\u001b[1;33m.\u001b[0m\u001b[0mpredict\u001b[0m\u001b[1;33m(\u001b[0m\u001b[0mX_train\u001b[0m\u001b[1;33m[\u001b[0m\u001b[0mselected_columns\u001b[0m\u001b[1;33m]\u001b[0m\u001b[1;33m)\u001b[0m\u001b[1;33m,\u001b[0m \u001b[1;33m[\u001b[0m\u001b[1;36m0\u001b[0m \u001b[1;32mfor\u001b[0m \u001b[0mi\u001b[0m \u001b[1;32min\u001b[0m \u001b[0mrange\u001b[0m\u001b[1;33m(\u001b[0m\u001b[0mlen\u001b[0m\u001b[1;33m(\u001b[0m\u001b[0mX_train\u001b[0m\u001b[1;33m[\u001b[0m\u001b[0mselected_columns\u001b[0m\u001b[1;33m]\u001b[0m\u001b[1;33m)\u001b[0m\u001b[1;33m)\u001b[0m\u001b[1;33m]\u001b[0m\u001b[1;33m)\u001b[0m\u001b[1;33m\u001b[0m\u001b[1;33m\u001b[0m\u001b[0m\n",
      "\u001b[1;32m~\\anaconda3\\envs\\learn-env\\lib\\site-packages\\matplotlib\\pyplot.py\u001b[0m in \u001b[0;36mscatter\u001b[1;34m(x, y, s, c, marker, cmap, norm, vmin, vmax, alpha, linewidths, verts, edgecolors, plotnonfinite, data, **kwargs)\u001b[0m\n\u001b[0;32m   2845\u001b[0m         \u001b[0mverts\u001b[0m\u001b[1;33m=\u001b[0m\u001b[0mverts\u001b[0m\u001b[1;33m,\u001b[0m \u001b[0medgecolors\u001b[0m\u001b[1;33m=\u001b[0m\u001b[0medgecolors\u001b[0m\u001b[1;33m,\u001b[0m\u001b[1;33m\u001b[0m\u001b[1;33m\u001b[0m\u001b[0m\n\u001b[0;32m   2846\u001b[0m         plotnonfinite=plotnonfinite, **({\"data\": data} if data is not\n\u001b[1;32m-> 2847\u001b[1;33m         None else {}), **kwargs)\n\u001b[0m\u001b[0;32m   2848\u001b[0m     \u001b[0msci\u001b[0m\u001b[1;33m(\u001b[0m\u001b[0m__ret\u001b[0m\u001b[1;33m)\u001b[0m\u001b[1;33m\u001b[0m\u001b[1;33m\u001b[0m\u001b[0m\n\u001b[0;32m   2849\u001b[0m     \u001b[1;32mreturn\u001b[0m \u001b[0m__ret\u001b[0m\u001b[1;33m\u001b[0m\u001b[1;33m\u001b[0m\u001b[0m\n",
      "\u001b[1;32m~\\anaconda3\\envs\\learn-env\\lib\\site-packages\\matplotlib\\__init__.py\u001b[0m in \u001b[0;36minner\u001b[1;34m(ax, data, *args, **kwargs)\u001b[0m\n\u001b[0;32m   1599\u001b[0m     \u001b[1;32mdef\u001b[0m \u001b[0minner\u001b[0m\u001b[1;33m(\u001b[0m\u001b[0max\u001b[0m\u001b[1;33m,\u001b[0m \u001b[1;33m*\u001b[0m\u001b[0margs\u001b[0m\u001b[1;33m,\u001b[0m \u001b[0mdata\u001b[0m\u001b[1;33m=\u001b[0m\u001b[1;32mNone\u001b[0m\u001b[1;33m,\u001b[0m \u001b[1;33m**\u001b[0m\u001b[0mkwargs\u001b[0m\u001b[1;33m)\u001b[0m\u001b[1;33m:\u001b[0m\u001b[1;33m\u001b[0m\u001b[1;33m\u001b[0m\u001b[0m\n\u001b[0;32m   1600\u001b[0m         \u001b[1;32mif\u001b[0m \u001b[0mdata\u001b[0m \u001b[1;32mis\u001b[0m \u001b[1;32mNone\u001b[0m\u001b[1;33m:\u001b[0m\u001b[1;33m\u001b[0m\u001b[1;33m\u001b[0m\u001b[0m\n\u001b[1;32m-> 1601\u001b[1;33m             \u001b[1;32mreturn\u001b[0m \u001b[0mfunc\u001b[0m\u001b[1;33m(\u001b[0m\u001b[0max\u001b[0m\u001b[1;33m,\u001b[0m \u001b[1;33m*\u001b[0m\u001b[0mmap\u001b[0m\u001b[1;33m(\u001b[0m\u001b[0msanitize_sequence\u001b[0m\u001b[1;33m,\u001b[0m \u001b[0margs\u001b[0m\u001b[1;33m)\u001b[0m\u001b[1;33m,\u001b[0m \u001b[1;33m**\u001b[0m\u001b[0mkwargs\u001b[0m\u001b[1;33m)\u001b[0m\u001b[1;33m\u001b[0m\u001b[1;33m\u001b[0m\u001b[0m\n\u001b[0m\u001b[0;32m   1602\u001b[0m \u001b[1;33m\u001b[0m\u001b[0m\n\u001b[0;32m   1603\u001b[0m         \u001b[0mbound\u001b[0m \u001b[1;33m=\u001b[0m \u001b[0mnew_sig\u001b[0m\u001b[1;33m.\u001b[0m\u001b[0mbind\u001b[0m\u001b[1;33m(\u001b[0m\u001b[0max\u001b[0m\u001b[1;33m,\u001b[0m \u001b[1;33m*\u001b[0m\u001b[0margs\u001b[0m\u001b[1;33m,\u001b[0m \u001b[1;33m**\u001b[0m\u001b[0mkwargs\u001b[0m\u001b[1;33m)\u001b[0m\u001b[1;33m\u001b[0m\u001b[1;33m\u001b[0m\u001b[0m\n",
      "\u001b[1;32m~\\anaconda3\\envs\\learn-env\\lib\\site-packages\\matplotlib\\axes\\_axes.py\u001b[0m in \u001b[0;36mscatter\u001b[1;34m(self, x, y, s, c, marker, cmap, norm, vmin, vmax, alpha, linewidths, verts, edgecolors, plotnonfinite, **kwargs)\u001b[0m\n\u001b[0;32m   4442\u001b[0m         \u001b[0my\u001b[0m \u001b[1;33m=\u001b[0m \u001b[0mnp\u001b[0m\u001b[1;33m.\u001b[0m\u001b[0mma\u001b[0m\u001b[1;33m.\u001b[0m\u001b[0mravel\u001b[0m\u001b[1;33m(\u001b[0m\u001b[0my\u001b[0m\u001b[1;33m)\u001b[0m\u001b[1;33m\u001b[0m\u001b[1;33m\u001b[0m\u001b[0m\n\u001b[0;32m   4443\u001b[0m         \u001b[1;32mif\u001b[0m \u001b[0mx\u001b[0m\u001b[1;33m.\u001b[0m\u001b[0msize\u001b[0m \u001b[1;33m!=\u001b[0m \u001b[0my\u001b[0m\u001b[1;33m.\u001b[0m\u001b[0msize\u001b[0m\u001b[1;33m:\u001b[0m\u001b[1;33m\u001b[0m\u001b[1;33m\u001b[0m\u001b[0m\n\u001b[1;32m-> 4444\u001b[1;33m             \u001b[1;32mraise\u001b[0m \u001b[0mValueError\u001b[0m\u001b[1;33m(\u001b[0m\u001b[1;34m\"x and y must be the same size\"\u001b[0m\u001b[1;33m)\u001b[0m\u001b[1;33m\u001b[0m\u001b[1;33m\u001b[0m\u001b[0m\n\u001b[0m\u001b[0;32m   4445\u001b[0m \u001b[1;33m\u001b[0m\u001b[0m\n\u001b[0;32m   4446\u001b[0m         \u001b[1;32mif\u001b[0m \u001b[0ms\u001b[0m \u001b[1;32mis\u001b[0m \u001b[1;32mNone\u001b[0m\u001b[1;33m:\u001b[0m\u001b[1;33m\u001b[0m\u001b[1;33m\u001b[0m\u001b[0m\n",
      "\u001b[1;31mValueError\u001b[0m: x and y must be the same size"
     ]
    },
    {
     "data": {
      "image/png": "[encoded data removed]",
      "text/plain": [
       "<Figure size 432x288 with 1 Axes>"
      ]
     },
     "metadata": {
      "needs_background": "light"
     },
     "output_type": "display_data"
    }
   ],
   "source": [
    "plt.scatter(model.predict(X_train[selected_columns]), model.resid)\n",
    "plt.plot(model.predict(X_train[selected_columns]), [0 for i in range(len(X_train[selected_columns]))])"
   ]
  },
  {
   "cell_type": "code",
   "execution_count": null,
   "metadata": {},
   "outputs": [],
   "source": []
  }
 ],
 "metadata": {
  "kernelspec": {
   "display_name": "Python [conda env:learn-env] *",
   "language": "python",
   "name": "conda-env-learn-env-py"
  },
  "language_info": {
   "codemirror_mode": {
    "name": "ipython",
    "version": 3
   },
   "file_extension": ".py",
   "mimetype": "text/x-python",
   "name": "python",
   "nbconvert_exporter": "python",
   "pygments_lexer": "ipython3",
   "version": "3.6.9"
  }
 },
 "nbformat": 4,
 "nbformat_minor": 2
}
