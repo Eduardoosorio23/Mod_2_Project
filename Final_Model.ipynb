{
 "cells": [
  {
   "cell_type": "markdown",
   "metadata": {},
   "source": [
    "## Final Project Submission¶\n",
    "\n",
    "Student name: Eduardo Osorio\n",
    "\n",
    "Student pace: part time \n",
    "\n",
    "Scheduled project review date/time:\n",
    "\n",
    "Instructor name: Yish Lim\n",
    "\n",
    "Blog post URL:"
   ]
  },
  {
   "cell_type": "markdown",
   "metadata": {},
   "source": [
    "## Log Transforming\n",
    "- The first step were taking is log transforming the data to adjust the skewness"
   ]
  },
  {
   "cell_type": "code",
   "execution_count": 1,
   "metadata": {},
   "outputs": [],
   "source": [
    "import pandas as pd\n",
    "import numpy as np\n",
    "import matplotlib.pyplot as plt\n",
    "\n",
    "kcc = pd.read_csv('data_files/kc_cleaned.csv')\n",
    "\n",
    "continuous = ['price', 'sqft_living', 'sqft_lot']\n",
    "categoricals = ['bedrooms', 'floors', 'condition', 'waterfront', 'grade', 'zipcode', 'sale_month']\n",
    "\n",
    "kcc_cont = kcc[continuous]\n",
    "\n",
    "# log features\n",
    "log_names = [f'{column}_log' for column in kcc_cont.columns]\n",
    "\n",
    "kcc_log = np.log(kcc_cont)\n",
    "kcc_log.columns = log_names\n",
    "\n",
    "\n",
    "kcc_ohe = pd.get_dummies(kcc[categoricals], columns=['bedrooms', 'floors','condition', 'waterfront', 'zipcode', 'grade', 'sale_month'], drop_first=True)\n",
    "\n",
    "preprocessed = pd.concat([kcc_log, kcc_ohe], axis=1)"
   ]
  },
  {
   "cell_type": "markdown",
   "metadata": {},
   "source": [
    "## Stepwise function with backwards elimination\n",
    "- This function will test the features and drop any features with p-values under .05"
   ]
  },
  {
   "cell_type": "code",
   "execution_count": 2,
   "metadata": {},
   "outputs": [],
   "source": [
    "import statsmodels.api as sm\n",
    "\n",
    "def stepwise_selection(X, y, \n",
    "                       initial_list=[], \n",
    "                       threshold_in=0.01, \n",
    "                       threshold_out = 0.05, # Pvals over .05 are dropped\n",
    "                       verbose=True):\n",
    " \n",
    "    included = list(initial_list)\n",
    "    while True:\n",
    "        changed=False\n",
    "        # forward step\n",
    "        excluded = list(set(X.columns)-set(included))\n",
    "        new_pval = pd.Series(index=excluded)\n",
    "        for new_column in excluded:\n",
    "            model = sm.OLS(y, sm.add_constant(pd.DataFrame(X[included+[new_column]]))).fit()\n",
    "            new_pval[new_column] = model.pvalues[new_column]\n",
    "        best_pval = new_pval.min()\n",
    "        if best_pval < threshold_in:\n",
    "            best_feature = new_pval.idxmin()\n",
    "            included.append(best_feature)\n",
    "            changed=True\n",
    "            if verbose:\n",
    "                print('Add  {:30} with p-value {:.6}'.format(best_feature, best_pval)) #Adding pvals under the threshold\n",
    "\n",
    "        # backward step\n",
    "        model = sm.OLS(y, sm.add_constant(pd.DataFrame(X[included]))).fit()\n",
    "        # use all coefs except intercept\n",
    "        pvalues = model.pvalues.iloc[1:]\n",
    "        worst_pval = pvalues.max() # null if pvalues is empty\n",
    "        if worst_pval > threshold_out:\n",
    "            changed=True\n",
    "            worst_feature = pvalues.argmax()\n",
    "            included.remove(worst_feature)\n",
    "            if verbose:\n",
    "                print('Drop {:30} with p-value {:.6}'.format(worst_feature, worst_pval)) #drops pvals over thershold\n",
    "        if not changed:\n",
    "            break\n",
    "    return included"
   ]
  },
  {
   "cell_type": "markdown",
   "metadata": {},
   "source": [
    "## Train-Test Split\n",
    "- Spliting the data with a train sample of 80%"
   ]
  },
  {
   "cell_type": "code",
   "execution_count": 3,
   "metadata": {},
   "outputs": [],
   "source": [
    "from sklearn.model_selection import train_test_split"
   ]
  },
  {
   "cell_type": "code",
   "execution_count": 4,
   "metadata": {},
   "outputs": [],
   "source": [
    "X = preprocessed.drop('price_log', axis=1)\n",
    "y = preprocessed['price_log']"
   ]
  },
  {
   "cell_type": "code",
   "execution_count": 5,
   "metadata": {},
   "outputs": [],
   "source": [
    "X_train, X_test, y_train, y_test = train_test_split(X, y, test_size=0.20)\n",
    "# Using a test size of 20%"
   ]
  },
  {
   "cell_type": "markdown",
   "metadata": {},
   "source": [
    "## Feeding the train sample into the stepwise function"
   ]
  },
  {
   "cell_type": "code",
   "execution_count": 6,
   "metadata": {
    "scrolled": false
   },
   "outputs": [
    {
     "name": "stderr",
     "output_type": "stream",
     "text": [
      "C:\\Users\\eduar\\anaconda3\\envs\\learn-env\\lib\\site-packages\\numpy\\core\\fromnumeric.py:2389: FutureWarning: Method .ptp is deprecated and will be removed in a future version. Use numpy.ptp instead.\n",
      "  return ptp(axis=axis, out=out, **kwargs)\n"
     ]
    },
    {
     "name": "stdout",
     "output_type": "stream",
     "text": [
      "Add  grade_7                        with p-value 0.0\n",
      "Add  grade_6                        with p-value 0.0\n",
      "Add  grade_8                        with p-value 0.0\n",
      "Add  grade_5                        with p-value 0.0\n",
      "Add  sqft_living_log                with p-value 0.0\n",
      "Add  zipcode_98023                  with p-value 2.65628e-162\n",
      "Add  zipcode_98004                  with p-value 2.91593e-162\n",
      "Add  zipcode_98042                  with p-value 2.50415e-124\n",
      "Add  zipcode_98092                  with p-value 1.49367e-113\n",
      "Add  waterfront_1.0                 with p-value 4.09702e-110\n",
      "Add  zipcode_98112                  with p-value 3.56427e-105\n",
      "Add  zipcode_98003                  with p-value 3.02648e-99\n",
      "Add  zipcode_98038                  with p-value 1.07296e-106\n",
      "Add  zipcode_98030                  with p-value 1.42718e-102\n",
      "Add  zipcode_98031                  with p-value 7.04371e-97\n",
      "Add  zipcode_98058                  with p-value 4.75427e-97\n",
      "Add  zipcode_98198                  with p-value 1.49642e-90\n",
      "Add  zipcode_98002                  with p-value 1.64152e-93\n",
      "Add  zipcode_98168                  with p-value 2.41239e-99\n",
      "Add  grade_9                        with p-value 1.73925e-81\n",
      "Add  condition_3                    with p-value 1.59016e-85\n",
      "Add  zipcode_98032                  with p-value 3.1553e-88\n",
      "Add  zipcode_98022                  with p-value 9.58223e-90\n",
      "Add  zipcode_98055                  with p-value 4.31735e-87\n",
      "Add  zipcode_98039                  with p-value 2.91983e-78\n",
      "Add  zipcode_98115                  with p-value 6.62372e-79\n",
      "Add  zipcode_98103                  with p-value 7.42637e-86\n",
      "Add  zipcode_98117                  with p-value 2.1439e-90\n",
      "Add  zipcode_98105                  with p-value 6.51283e-86\n",
      "Add  zipcode_98119                  with p-value 2.6366e-82\n",
      "Add  zipcode_98040                  with p-value 3.91797e-82\n",
      "Add  zipcode_98199                  with p-value 2.53453e-88\n",
      "Add  zipcode_98033                  with p-value 3.55485e-82\n",
      "Add  zipcode_98107                  with p-value 4.46241e-78\n",
      "Add  zipcode_98122                  with p-value 1.40251e-73\n",
      "Add  zipcode_98116                  with p-value 9.95393e-79\n",
      "Add  zipcode_98109                  with p-value 5.66441e-82\n",
      "Add  zipcode_98178                  with p-value 9.62568e-67\n",
      "Add  zipcode_98188                  with p-value 1.19703e-57\n",
      "Add  zipcode_98102                  with p-value 1.33044e-51\n",
      "Add  sqft_lot_log                   with p-value 2.66268e-56\n",
      "Add  zipcode_98144                  with p-value 7.7854e-61\n",
      "Add  zipcode_98006                  with p-value 2.61999e-59\n",
      "Add  zipcode_98136                  with p-value 3.94208e-62\n",
      "Add  zipcode_98052                  with p-value 1.77527e-55\n",
      "Add  zipcode_98008                  with p-value 3.37482e-45\n",
      "Add  zipcode_98005                  with p-value 9.97281e-47\n",
      "Add  zipcode_98177                  with p-value 2.40019e-37\n",
      "Add  zipcode_98053                  with p-value 6.86328e-35\n",
      "Add  zipcode_98126                  with p-value 1.33817e-36\n",
      "Add  zipcode_98029                  with p-value 8.61978e-38\n",
      "Add  zipcode_98125                  with p-value 1.33207e-40\n",
      "Add  zipcode_98034                  with p-value 2.22444e-45\n",
      "Add  zipcode_98075                  with p-value 1.61428e-36\n",
      "Add  zipcode_98074                  with p-value 5.99399e-39\n",
      "Add  zipcode_98007                  with p-value 6.42988e-38\n",
      "Add  sale_month_4                   with p-value 9.84919e-36\n",
      "Add  grade_10                       with p-value 2.78461e-33\n",
      "Add  grade_4                        with p-value 1.30583e-44\n",
      "Add  zipcode_98118                  with p-value 3.21403e-33\n",
      "Add  zipcode_98027                  with p-value 1.87567e-34\n",
      "Add  condition_5                    with p-value 9.51529e-33\n",
      "Add  zipcode_98133                  with p-value 3.54393e-32\n",
      "Add  condition_4                    with p-value 2.23022e-29\n",
      "Add  zipcode_98072                  with p-value 6.47889e-21\n",
      "Add  zipcode_98155                  with p-value 4.8547e-23\n",
      "Add  zipcode_98065                  with p-value 1.18453e-24\n",
      "Add  zipcode_98011                  with p-value 1.46555e-17\n",
      "Add  zipcode_98028                  with p-value 1.13675e-18\n",
      "Add  grade_11                       with p-value 1.6866e-17\n",
      "Add  sale_month_3                   with p-value 1.72237e-16\n",
      "Add  zipcode_98077                  with p-value 6.9659e-12\n",
      "Add  zipcode_98059                  with p-value 4.12026e-14\n",
      "Add  zipcode_98106                  with p-value 6.28318e-13\n",
      "Add  zipcode_98108                  with p-value 9.1509e-14\n",
      "Add  zipcode_98056                  with p-value 7.30849e-16\n",
      "Add  floors_2.0                     with p-value 5.5391e-13\n",
      "Add  zipcode_98166                  with p-value 5.88462e-12\n",
      "Add  zipcode_98045                  with p-value 2.77265e-15\n",
      "Drop zipcode_98038                  with p-value 0.0868041\n"
     ]
    },
    {
     "name": "stderr",
     "output_type": "stream",
     "text": [
      "C:\\Users\\eduar\\anaconda3\\envs\\learn-env\\lib\\site-packages\\ipykernel_launcher.py:33: FutureWarning: \n",
      "The current behaviour of 'Series.argmax' is deprecated, use 'idxmax'\n",
      "instead.\n",
      "The behavior of 'argmax' will be corrected to return the positional\n",
      "maximum in the future. For now, use 'series.values.argmax' or\n",
      "'np.argmax(np.array(values))' to get the position of the maximum\n",
      "row.\n"
     ]
    },
    {
     "name": "stdout",
     "output_type": "stream",
     "text": [
      "Add  zipcode_98019                  with p-value 4.03334e-16\n",
      "Drop zipcode_98055                  with p-value 0.528464\n",
      "Add  zipcode_98146                  with p-value 8.56164e-18\n",
      "Drop zipcode_98058                  with p-value 0.594966\n",
      "Add  zipcode_98024                  with p-value 7.47091e-19\n",
      "Drop zipcode_98178                  with p-value 0.346747\n",
      "Add  zipcode_98070                  with p-value 3.8948e-13\n",
      "Add  grade_13                       with p-value 1.37257e-09\n",
      "Add  zipcode_98014                  with p-value 1.23638e-08\n",
      "Add  zipcode_98038                  with p-value 2.83246e-07\n",
      "Drop zipcode_98188                  with p-value 0.102068\n",
      "Add  zipcode_98058                  with p-value 3.91749e-07\n",
      "Drop zipcode_98198                  with p-value 0.810804\n",
      "Add  zipcode_98055                  with p-value 9.31921e-08\n",
      "Drop zipcode_98022                  with p-value 0.329653\n",
      "Add  zipcode_98178                  with p-value 7.8222e-10\n",
      "Drop zipcode_98168                  with p-value 0.965181\n",
      "Add  zipcode_98010                  with p-value 1.03298e-08\n",
      "Drop zipcode_98042                  with p-value 0.721863\n",
      "Add  sale_month_2                   with p-value 1.43822e-06\n",
      "Drop zipcode_98031                  with p-value 0.565046\n",
      "Add  bedrooms_2                     with p-value 1.29661e-05\n",
      "Drop zipcode_98030                  with p-value 0.130677\n",
      "Add  floors_1.5                     with p-value 1.04943e-05\n",
      "Add  sale_month_5                   with p-value 0.000108791\n",
      "Add  bedrooms_7                     with p-value 0.000620325\n",
      "Add  floors_3.0                     with p-value 0.00069427\n",
      "Add  condition_2                    with p-value 0.00109785\n",
      "Add  zipcode_98198                  with p-value 0.00137668\n",
      "Add  zipcode_98148                  with p-value 0.00126937\n",
      "Add  floors_2.5                     with p-value 0.00826672\n",
      "resulting features:\n",
      "['grade_7', 'grade_6', 'grade_8', 'grade_5', 'sqft_living_log', 'zipcode_98023', 'zipcode_98004', 'zipcode_98092', 'waterfront_1.0', 'zipcode_98112', 'zipcode_98003', 'zipcode_98002', 'grade_9', 'condition_3', 'zipcode_98032', 'zipcode_98039', 'zipcode_98115', 'zipcode_98103', 'zipcode_98117', 'zipcode_98105', 'zipcode_98119', 'zipcode_98040', 'zipcode_98199', 'zipcode_98033', 'zipcode_98107', 'zipcode_98122', 'zipcode_98116', 'zipcode_98109', 'zipcode_98102', 'sqft_lot_log', 'zipcode_98144', 'zipcode_98006', 'zipcode_98136', 'zipcode_98052', 'zipcode_98008', 'zipcode_98005', 'zipcode_98177', 'zipcode_98053', 'zipcode_98126', 'zipcode_98029', 'zipcode_98125', 'zipcode_98034', 'zipcode_98075', 'zipcode_98074', 'zipcode_98007', 'sale_month_4', 'grade_10', 'grade_4', 'zipcode_98118', 'zipcode_98027', 'condition_5', 'zipcode_98133', 'condition_4', 'zipcode_98072', 'zipcode_98155', 'zipcode_98065', 'zipcode_98011', 'zipcode_98028', 'grade_11', 'sale_month_3', 'zipcode_98077', 'zipcode_98059', 'zipcode_98106', 'zipcode_98108', 'zipcode_98056', 'floors_2.0', 'zipcode_98166', 'zipcode_98045', 'zipcode_98019', 'zipcode_98146', 'zipcode_98024', 'zipcode_98070', 'grade_13', 'zipcode_98014', 'zipcode_98038', 'zipcode_98058', 'zipcode_98055', 'zipcode_98178', 'zipcode_98010', 'sale_month_2', 'bedrooms_2', 'floors_1.5', 'sale_month_5', 'bedrooms_7', 'floors_3.0', 'condition_2', 'zipcode_98198', 'zipcode_98148', 'floors_2.5']\n"
     ]
    }
   ],
   "source": [
    "result = stepwise_selection(X_train, y_train, verbose = True)\n",
    "print('resulting features:')\n",
    "print(result)\n",
    "#Feed x_train and Y_train into the stepwise function"
   ]
  },
  {
   "cell_type": "markdown",
   "metadata": {},
   "source": [
    "## OLS"
   ]
  },
  {
   "cell_type": "code",
   "execution_count": 7,
   "metadata": {
    "scrolled": true
   },
   "outputs": [
    {
     "data": {
      "text/html": [
       "<table class=\"simpletable\">\n",
       "<caption>OLS Regression Results</caption>\n",
       "<tr>\n",
       "  <th>Dep. Variable:</th>        <td>price_log</td>    <th>  R-squared:         </th> <td>   0.878</td>\n",
       "</tr>\n",
       "<tr>\n",
       "  <th>Model:</th>                   <td>OLS</td>       <th>  Adj. R-squared:    </th> <td>   0.877</td>\n",
       "</tr>\n",
       "<tr>\n",
       "  <th>Method:</th>             <td>Least Squares</td>  <th>  F-statistic:       </th> <td>   1233.</td>\n",
       "</tr>\n",
       "<tr>\n",
       "  <th>Date:</th>             <td>Tue, 03 Nov 2020</td> <th>  Prob (F-statistic):</th>  <td>  0.00</td> \n",
       "</tr>\n",
       "<tr>\n",
       "  <th>Time:</th>                 <td>10:46:38</td>     <th>  Log-Likelihood:    </th> <td>  4165.7</td>\n",
       "</tr>\n",
       "<tr>\n",
       "  <th>No. Observations:</th>      <td> 15372</td>      <th>  AIC:               </th> <td>  -8151.</td>\n",
       "</tr>\n",
       "<tr>\n",
       "  <th>Df Residuals:</th>          <td> 15282</td>      <th>  BIC:               </th> <td>  -7464.</td>\n",
       "</tr>\n",
       "<tr>\n",
       "  <th>Df Model:</th>              <td>    89</td>      <th>                     </th>     <td> </td>   \n",
       "</tr>\n",
       "<tr>\n",
       "  <th>Covariance Type:</th>      <td>nonrobust</td>    <th>                     </th>     <td> </td>   \n",
       "</tr>\n",
       "</table>\n",
       "<table class=\"simpletable\">\n",
       "<tr>\n",
       "         <td></td>            <th>coef</th>     <th>std err</th>      <th>t</th>      <th>P>|t|</th>  <th>[0.025</th>    <th>0.975]</th>  \n",
       "</tr>\n",
       "<tr>\n",
       "  <th>const</th>           <td>    8.7105</td> <td>    0.070</td> <td>  125.272</td> <td> 0.000</td> <td>    8.574</td> <td>    8.847</td>\n",
       "</tr>\n",
       "<tr>\n",
       "  <th>grade_7</th>         <td>   -0.6709</td> <td>    0.024</td> <td>  -27.919</td> <td> 0.000</td> <td>   -0.718</td> <td>   -0.624</td>\n",
       "</tr>\n",
       "<tr>\n",
       "  <th>grade_6</th>         <td>   -0.7501</td> <td>    0.025</td> <td>  -29.941</td> <td> 0.000</td> <td>   -0.799</td> <td>   -0.701</td>\n",
       "</tr>\n",
       "<tr>\n",
       "  <th>grade_8</th>         <td>   -0.5582</td> <td>    0.024</td> <td>  -23.695</td> <td> 0.000</td> <td>   -0.604</td> <td>   -0.512</td>\n",
       "</tr>\n",
       "<tr>\n",
       "  <th>grade_5</th>         <td>   -0.8221</td> <td>    0.029</td> <td>  -28.482</td> <td> 0.000</td> <td>   -0.879</td> <td>   -0.766</td>\n",
       "</tr>\n",
       "<tr>\n",
       "  <th>sqft_living_log</th> <td>    0.4676</td> <td>    0.006</td> <td>   75.164</td> <td> 0.000</td> <td>    0.455</td> <td>    0.480</td>\n",
       "</tr>\n",
       "<tr>\n",
       "  <th>zipcode_98023</th>   <td>   -0.0663</td> <td>    0.011</td> <td>   -6.121</td> <td> 0.000</td> <td>   -0.088</td> <td>   -0.045</td>\n",
       "</tr>\n",
       "<tr>\n",
       "  <th>zipcode_98004</th>   <td>    1.1039</td> <td>    0.014</td> <td>   80.625</td> <td> 0.000</td> <td>    1.077</td> <td>    1.131</td>\n",
       "</tr>\n",
       "<tr>\n",
       "  <th>zipcode_98092</th>   <td>   -0.0347</td> <td>    0.013</td> <td>   -2.706</td> <td> 0.007</td> <td>   -0.060</td> <td>   -0.010</td>\n",
       "</tr>\n",
       "<tr>\n",
       "  <th>waterfront_1.0</th>  <td>    0.6843</td> <td>    0.019</td> <td>   36.592</td> <td> 0.000</td> <td>    0.648</td> <td>    0.721</td>\n",
       "</tr>\n",
       "<tr>\n",
       "  <th>zipcode_98112</th>   <td>    1.0345</td> <td>    0.014</td> <td>   71.681</td> <td> 0.000</td> <td>    1.006</td> <td>    1.063</td>\n",
       "</tr>\n",
       "<tr>\n",
       "  <th>zipcode_98003</th>   <td>   -0.0320</td> <td>    0.014</td> <td>   -2.305</td> <td> 0.021</td> <td>   -0.059</td> <td>   -0.005</td>\n",
       "</tr>\n",
       "<tr>\n",
       "  <th>zipcode_98002</th>   <td>   -0.0533</td> <td>    0.017</td> <td>   -3.228</td> <td> 0.001</td> <td>   -0.086</td> <td>   -0.021</td>\n",
       "</tr>\n",
       "<tr>\n",
       "  <th>grade_9</th>         <td>   -0.4078</td> <td>    0.023</td> <td>  -17.424</td> <td> 0.000</td> <td>   -0.454</td> <td>   -0.362</td>\n",
       "</tr>\n",
       "<tr>\n",
       "  <th>condition_3</th>     <td>    0.2688</td> <td>    0.038</td> <td>    7.017</td> <td> 0.000</td> <td>    0.194</td> <td>    0.344</td>\n",
       "</tr>\n",
       "<tr>\n",
       "  <th>zipcode_98032</th>   <td>   -0.0770</td> <td>    0.020</td> <td>   -3.823</td> <td> 0.000</td> <td>   -0.116</td> <td>   -0.038</td>\n",
       "</tr>\n",
       "<tr>\n",
       "  <th>zipcode_98039</th>   <td>    1.2962</td> <td>    0.030</td> <td>   42.652</td> <td> 0.000</td> <td>    1.237</td> <td>    1.356</td>\n",
       "</tr>\n",
       "<tr>\n",
       "  <th>zipcode_98115</th>   <td>    0.7934</td> <td>    0.011</td> <td>   74.572</td> <td> 0.000</td> <td>    0.773</td> <td>    0.814</td>\n",
       "</tr>\n",
       "<tr>\n",
       "  <th>zipcode_98103</th>   <td>    0.8244</td> <td>    0.011</td> <td>   75.747</td> <td> 0.000</td> <td>    0.803</td> <td>    0.846</td>\n",
       "</tr>\n",
       "<tr>\n",
       "  <th>zipcode_98117</th>   <td>    0.7968</td> <td>    0.011</td> <td>   73.707</td> <td> 0.000</td> <td>    0.776</td> <td>    0.818</td>\n",
       "</tr>\n",
       "<tr>\n",
       "  <th>zipcode_98105</th>   <td>    0.9340</td> <td>    0.016</td> <td>   60.108</td> <td> 0.000</td> <td>    0.904</td> <td>    0.964</td>\n",
       "</tr>\n",
       "<tr>\n",
       "  <th>zipcode_98119</th>   <td>    0.9943</td> <td>    0.018</td> <td>   56.647</td> <td> 0.000</td> <td>    0.960</td> <td>    1.029</td>\n",
       "</tr>\n",
       "<tr>\n",
       "  <th>zipcode_98040</th>   <td>    0.8606</td> <td>    0.015</td> <td>   59.121</td> <td> 0.000</td> <td>    0.832</td> <td>    0.889</td>\n",
       "</tr>\n",
       "<tr>\n",
       "  <th>zipcode_98199</th>   <td>    0.8424</td> <td>    0.013</td> <td>   62.906</td> <td> 0.000</td> <td>    0.816</td> <td>    0.869</td>\n",
       "</tr>\n",
       "<tr>\n",
       "  <th>zipcode_98033</th>   <td>    0.7479</td> <td>    0.012</td> <td>   63.506</td> <td> 0.000</td> <td>    0.725</td> <td>    0.771</td>\n",
       "</tr>\n",
       "<tr>\n",
       "  <th>zipcode_98107</th>   <td>    0.8500</td> <td>    0.015</td> <td>   57.611</td> <td> 0.000</td> <td>    0.821</td> <td>    0.879</td>\n",
       "</tr>\n",
       "<tr>\n",
       "  <th>zipcode_98122</th>   <td>    0.8099</td> <td>    0.014</td> <td>   57.407</td> <td> 0.000</td> <td>    0.782</td> <td>    0.838</td>\n",
       "</tr>\n",
       "<tr>\n",
       "  <th>zipcode_98116</th>   <td>    0.7592</td> <td>    0.013</td> <td>   58.458</td> <td> 0.000</td> <td>    0.734</td> <td>    0.785</td>\n",
       "</tr>\n",
       "<tr>\n",
       "  <th>zipcode_98109</th>   <td>    1.0142</td> <td>    0.022</td> <td>   46.235</td> <td> 0.000</td> <td>    0.971</td> <td>    1.057</td>\n",
       "</tr>\n",
       "<tr>\n",
       "  <th>zipcode_98102</th>   <td>    0.9269</td> <td>    0.024</td> <td>   38.479</td> <td> 0.000</td> <td>    0.880</td> <td>    0.974</td>\n",
       "</tr>\n",
       "<tr>\n",
       "  <th>sqft_lot_log</th>    <td>    0.0700</td> <td>    0.002</td> <td>   29.064</td> <td> 0.000</td> <td>    0.065</td> <td>    0.075</td>\n",
       "</tr>\n",
       "<tr>\n",
       "  <th>zipcode_98144</th>   <td>    0.6792</td> <td>    0.013</td> <td>   51.047</td> <td> 0.000</td> <td>    0.653</td> <td>    0.705</td>\n",
       "</tr>\n",
       "<tr>\n",
       "  <th>zipcode_98006</th>   <td>    0.6226</td> <td>    0.011</td> <td>   54.882</td> <td> 0.000</td> <td>    0.600</td> <td>    0.645</td>\n",
       "</tr>\n",
       "<tr>\n",
       "  <th>zipcode_98136</th>   <td>    0.6886</td> <td>    0.015</td> <td>   47.464</td> <td> 0.000</td> <td>    0.660</td> <td>    0.717</td>\n",
       "</tr>\n",
       "<tr>\n",
       "  <th>zipcode_98052</th>   <td>    0.5911</td> <td>    0.010</td> <td>   57.103</td> <td> 0.000</td> <td>    0.571</td> <td>    0.611</td>\n",
       "</tr>\n",
       "<tr>\n",
       "  <th>zipcode_98008</th>   <td>    0.6295</td> <td>    0.014</td> <td>   44.648</td> <td> 0.000</td> <td>    0.602</td> <td>    0.657</td>\n",
       "</tr>\n",
       "<tr>\n",
       "  <th>zipcode_98005</th>   <td>    0.6777</td> <td>    0.018</td> <td>   38.654</td> <td> 0.000</td> <td>    0.643</td> <td>    0.712</td>\n",
       "</tr>\n",
       "<tr>\n",
       "  <th>zipcode_98177</th>   <td>    0.5920</td> <td>    0.015</td> <td>   40.503</td> <td> 0.000</td> <td>    0.563</td> <td>    0.621</td>\n",
       "</tr>\n",
       "<tr>\n",
       "  <th>zipcode_98053</th>   <td>    0.5298</td> <td>    0.012</td> <td>   43.927</td> <td> 0.000</td> <td>    0.506</td> <td>    0.553</td>\n",
       "</tr>\n",
       "<tr>\n",
       "  <th>zipcode_98126</th>   <td>    0.5361</td> <td>    0.013</td> <td>   42.688</td> <td> 0.000</td> <td>    0.512</td> <td>    0.561</td>\n",
       "</tr>\n",
       "<tr>\n",
       "  <th>zipcode_98029</th>   <td>    0.5578</td> <td>    0.014</td> <td>   40.833</td> <td> 0.000</td> <td>    0.531</td> <td>    0.585</td>\n",
       "</tr>\n",
       "<tr>\n",
       "  <th>zipcode_98125</th>   <td>    0.5333</td> <td>    0.012</td> <td>   44.217</td> <td> 0.000</td> <td>    0.510</td> <td>    0.557</td>\n",
       "</tr>\n",
       "<tr>\n",
       "  <th>zipcode_98034</th>   <td>    0.5075</td> <td>    0.011</td> <td>   47.845</td> <td> 0.000</td> <td>    0.487</td> <td>    0.528</td>\n",
       "</tr>\n",
       "<tr>\n",
       "  <th>zipcode_98075</th>   <td>    0.5210</td> <td>    0.013</td> <td>   40.722</td> <td> 0.000</td> <td>    0.496</td> <td>    0.546</td>\n",
       "</tr>\n",
       "<tr>\n",
       "  <th>zipcode_98074</th>   <td>    0.5004</td> <td>    0.012</td> <td>   42.015</td> <td> 0.000</td> <td>    0.477</td> <td>    0.524</td>\n",
       "</tr>\n",
       "<tr>\n",
       "  <th>zipcode_98007</th>   <td>    0.6043</td> <td>    0.019</td> <td>   31.146</td> <td> 0.000</td> <td>    0.566</td> <td>    0.642</td>\n",
       "</tr>\n",
       "<tr>\n",
       "  <th>sale_month_4</th>    <td>    0.0750</td> <td>    0.005</td> <td>   14.973</td> <td> 0.000</td> <td>    0.065</td> <td>    0.085</td>\n",
       "</tr>\n",
       "<tr>\n",
       "  <th>grade_10</th>        <td>   -0.3020</td> <td>    0.024</td> <td>  -12.746</td> <td> 0.000</td> <td>   -0.348</td> <td>   -0.256</td>\n",
       "</tr>\n",
       "<tr>\n",
       "  <th>grade_4</th>         <td>   -0.7412</td> <td>    0.050</td> <td>  -14.866</td> <td> 0.000</td> <td>   -0.839</td> <td>   -0.643</td>\n",
       "</tr>\n",
       "<tr>\n",
       "  <th>zipcode_98118</th>   <td>    0.4487</td> <td>    0.011</td> <td>   40.141</td> <td> 0.000</td> <td>    0.427</td> <td>    0.471</td>\n",
       "</tr>\n",
       "<tr>\n",
       "  <th>zipcode_98027</th>   <td>    0.4445</td> <td>    0.012</td> <td>   37.966</td> <td> 0.000</td> <td>    0.422</td> <td>    0.467</td>\n",
       "</tr>\n",
       "<tr>\n",
       "  <th>condition_5</th>     <td>    0.3761</td> <td>    0.039</td> <td>    9.743</td> <td> 0.000</td> <td>    0.300</td> <td>    0.452</td>\n",
       "</tr>\n",
       "<tr>\n",
       "  <th>zipcode_98133</th>   <td>    0.4204</td> <td>    0.011</td> <td>   37.609</td> <td> 0.000</td> <td>    0.398</td> <td>    0.442</td>\n",
       "</tr>\n",
       "<tr>\n",
       "  <th>condition_4</th>     <td>    0.3046</td> <td>    0.038</td> <td>    7.944</td> <td> 0.000</td> <td>    0.229</td> <td>    0.380</td>\n",
       "</tr>\n",
       "<tr>\n",
       "  <th>zipcode_98072</th>   <td>    0.4156</td> <td>    0.014</td> <td>   29.689</td> <td> 0.000</td> <td>    0.388</td> <td>    0.443</td>\n",
       "</tr>\n",
       "<tr>\n",
       "  <th>zipcode_98155</th>   <td>    0.3858</td> <td>    0.011</td> <td>   33.954</td> <td> 0.000</td> <td>    0.364</td> <td>    0.408</td>\n",
       "</tr>\n",
       "<tr>\n",
       "  <th>zipcode_98065</th>   <td>    0.3915</td> <td>    0.014</td> <td>   28.707</td> <td> 0.000</td> <td>    0.365</td> <td>    0.418</td>\n",
       "</tr>\n",
       "<tr>\n",
       "  <th>zipcode_98011</th>   <td>    0.3998</td> <td>    0.017</td> <td>   24.204</td> <td> 0.000</td> <td>    0.367</td> <td>    0.432</td>\n",
       "</tr>\n",
       "<tr>\n",
       "  <th>zipcode_98028</th>   <td>    0.3695</td> <td>    0.014</td> <td>   26.321</td> <td> 0.000</td> <td>    0.342</td> <td>    0.397</td>\n",
       "</tr>\n",
       "<tr>\n",
       "  <th>grade_11</th>        <td>   -0.1602</td> <td>    0.025</td> <td>   -6.394</td> <td> 0.000</td> <td>   -0.209</td> <td>   -0.111</td>\n",
       "</tr>\n",
       "<tr>\n",
       "  <th>sale_month_3</th>    <td>    0.0515</td> <td>    0.005</td> <td>    9.509</td> <td> 0.000</td> <td>    0.041</td> <td>    0.062</td>\n",
       "</tr>\n",
       "<tr>\n",
       "  <th>zipcode_98077</th>   <td>    0.3483</td> <td>    0.017</td> <td>   20.785</td> <td> 0.000</td> <td>    0.315</td> <td>    0.381</td>\n",
       "</tr>\n",
       "<tr>\n",
       "  <th>zipcode_98059</th>   <td>    0.3053</td> <td>    0.011</td> <td>   27.257</td> <td> 0.000</td> <td>    0.283</td> <td>    0.327</td>\n",
       "</tr>\n",
       "<tr>\n",
       "  <th>zipcode_98106</th>   <td>    0.3069</td> <td>    0.013</td> <td>   23.392</td> <td> 0.000</td> <td>    0.281</td> <td>    0.333</td>\n",
       "</tr>\n",
       "<tr>\n",
       "  <th>zipcode_98108</th>   <td>    0.3245</td> <td>    0.017</td> <td>   19.474</td> <td> 0.000</td> <td>    0.292</td> <td>    0.357</td>\n",
       "</tr>\n",
       "<tr>\n",
       "  <th>zipcode_98056</th>   <td>    0.2818</td> <td>    0.012</td> <td>   23.328</td> <td> 0.000</td> <td>    0.258</td> <td>    0.306</td>\n",
       "</tr>\n",
       "<tr>\n",
       "  <th>floors_2.0</th>      <td>    0.0315</td> <td>    0.004</td> <td>    7.310</td> <td> 0.000</td> <td>    0.023</td> <td>    0.040</td>\n",
       "</tr>\n",
       "<tr>\n",
       "  <th>zipcode_98166</th>   <td>    0.2744</td> <td>    0.015</td> <td>   17.963</td> <td> 0.000</td> <td>    0.244</td> <td>    0.304</td>\n",
       "</tr>\n",
       "<tr>\n",
       "  <th>zipcode_98045</th>   <td>    0.2838</td> <td>    0.016</td> <td>   17.779</td> <td> 0.000</td> <td>    0.253</td> <td>    0.315</td>\n",
       "</tr>\n",
       "<tr>\n",
       "  <th>zipcode_98019</th>   <td>    0.2652</td> <td>    0.017</td> <td>   15.915</td> <td> 0.000</td> <td>    0.233</td> <td>    0.298</td>\n",
       "</tr>\n",
       "<tr>\n",
       "  <th>zipcode_98146</th>   <td>    0.2254</td> <td>    0.014</td> <td>   16.449</td> <td> 0.000</td> <td>    0.199</td> <td>    0.252</td>\n",
       "</tr>\n",
       "<tr>\n",
       "  <th>zipcode_98024</th>   <td>    0.3312</td> <td>    0.025</td> <td>   13.330</td> <td> 0.000</td> <td>    0.282</td> <td>    0.380</td>\n",
       "</tr>\n",
       "<tr>\n",
       "  <th>zipcode_98070</th>   <td>    0.2463</td> <td>    0.021</td> <td>   11.715</td> <td> 0.000</td> <td>    0.205</td> <td>    0.288</td>\n",
       "</tr>\n",
       "<tr>\n",
       "  <th>grade_13</th>        <td>    0.3367</td> <td>    0.057</td> <td>    5.958</td> <td> 0.000</td> <td>    0.226</td> <td>    0.447</td>\n",
       "</tr>\n",
       "<tr>\n",
       "  <th>zipcode_98014</th>   <td>    0.2016</td> <td>    0.020</td> <td>   10.007</td> <td> 0.000</td> <td>    0.162</td> <td>    0.241</td>\n",
       "</tr>\n",
       "<tr>\n",
       "  <th>zipcode_98038</th>   <td>    0.1255</td> <td>    0.010</td> <td>   12.141</td> <td> 0.000</td> <td>    0.105</td> <td>    0.146</td>\n",
       "</tr>\n",
       "<tr>\n",
       "  <th>zipcode_98058</th>   <td>    0.1143</td> <td>    0.011</td> <td>    9.947</td> <td> 0.000</td> <td>    0.092</td> <td>    0.137</td>\n",
       "</tr>\n",
       "<tr>\n",
       "  <th>zipcode_98055</th>   <td>    0.1145</td> <td>    0.014</td> <td>    7.894</td> <td> 0.000</td> <td>    0.086</td> <td>    0.143</td>\n",
       "</tr>\n",
       "<tr>\n",
       "  <th>zipcode_98178</th>   <td>    0.1123</td> <td>    0.015</td> <td>    7.400</td> <td> 0.000</td> <td>    0.083</td> <td>    0.142</td>\n",
       "</tr>\n",
       "<tr>\n",
       "  <th>zipcode_98010</th>   <td>    0.1422</td> <td>    0.024</td> <td>    6.032</td> <td> 0.000</td> <td>    0.096</td> <td>    0.188</td>\n",
       "</tr>\n",
       "<tr>\n",
       "  <th>sale_month_2</th>    <td>    0.0348</td> <td>    0.007</td> <td>    5.335</td> <td> 0.000</td> <td>    0.022</td> <td>    0.048</td>\n",
       "</tr>\n",
       "<tr>\n",
       "  <th>bedrooms_2</th>      <td>    0.0240</td> <td>    0.005</td> <td>    4.581</td> <td> 0.000</td> <td>    0.014</td> <td>    0.034</td>\n",
       "</tr>\n",
       "<tr>\n",
       "  <th>floors_1.5</th>      <td>    0.0246</td> <td>    0.006</td> <td>    4.247</td> <td> 0.000</td> <td>    0.013</td> <td>    0.036</td>\n",
       "</tr>\n",
       "<tr>\n",
       "  <th>sale_month_5</th>    <td>    0.0190</td> <td>    0.005</td> <td>    3.938</td> <td> 0.000</td> <td>    0.010</td> <td>    0.028</td>\n",
       "</tr>\n",
       "<tr>\n",
       "  <th>bedrooms_7</th>      <td>   -0.1273</td> <td>    0.037</td> <td>   -3.479</td> <td> 0.001</td> <td>   -0.199</td> <td>   -0.056</td>\n",
       "</tr>\n",
       "<tr>\n",
       "  <th>floors_3.0</th>      <td>   -0.0321</td> <td>    0.011</td> <td>   -3.030</td> <td> 0.002</td> <td>   -0.053</td> <td>   -0.011</td>\n",
       "</tr>\n",
       "<tr>\n",
       "  <th>condition_2</th>     <td>    0.1380</td> <td>    0.041</td> <td>    3.330</td> <td> 0.001</td> <td>    0.057</td> <td>    0.219</td>\n",
       "</tr>\n",
       "<tr>\n",
       "  <th>zipcode_98198</th>   <td>    0.0472</td> <td>    0.014</td> <td>    3.406</td> <td> 0.001</td> <td>    0.020</td> <td>    0.074</td>\n",
       "</tr>\n",
       "<tr>\n",
       "  <th>zipcode_98148</th>   <td>    0.0972</td> <td>    0.030</td> <td>    3.231</td> <td> 0.001</td> <td>    0.038</td> <td>    0.156</td>\n",
       "</tr>\n",
       "<tr>\n",
       "  <th>floors_2.5</th>      <td>    0.0474</td> <td>    0.018</td> <td>    2.641</td> <td> 0.008</td> <td>    0.012</td> <td>    0.083</td>\n",
       "</tr>\n",
       "</table>\n",
       "<table class=\"simpletable\">\n",
       "<tr>\n",
       "  <th>Omnibus:</th>       <td>953.901</td> <th>  Durbin-Watson:     </th> <td>   2.029</td>\n",
       "</tr>\n",
       "<tr>\n",
       "  <th>Prob(Omnibus):</th> <td> 0.000</td>  <th>  Jarque-Bera (JB):  </th> <td>3835.760</td>\n",
       "</tr>\n",
       "<tr>\n",
       "  <th>Skew:</th>          <td>-0.174</td>  <th>  Prob(JB):          </th> <td>    0.00</td>\n",
       "</tr>\n",
       "<tr>\n",
       "  <th>Kurtosis:</th>      <td> 5.422</td>  <th>  Cond. No.          </th> <td>    767.</td>\n",
       "</tr>\n",
       "</table><br/><br/>Warnings:<br/>[1] Standard Errors assume that the covariance matrix of the errors is correctly specified."
      ],
      "text/plain": [
       "<class 'statsmodels.iolib.summary.Summary'>\n",
       "\"\"\"\n",
       "                            OLS Regression Results                            \n",
       "==============================================================================\n",
       "Dep. Variable:              price_log   R-squared:                       0.878\n",
       "Model:                            OLS   Adj. R-squared:                  0.877\n",
       "Method:                 Least Squares   F-statistic:                     1233.\n",
       "Date:                Tue, 03 Nov 2020   Prob (F-statistic):               0.00\n",
       "Time:                        10:46:38   Log-Likelihood:                 4165.7\n",
       "No. Observations:               15372   AIC:                            -8151.\n",
       "Df Residuals:                   15282   BIC:                            -7464.\n",
       "Df Model:                          89                                         \n",
       "Covariance Type:            nonrobust                                         \n",
       "===================================================================================\n",
       "                      coef    std err          t      P>|t|      [0.025      0.975]\n",
       "-----------------------------------------------------------------------------------\n",
       "const               8.7105      0.070    125.272      0.000       8.574       8.847\n",
       "grade_7            -0.6709      0.024    -27.919      0.000      -0.718      -0.624\n",
       "grade_6            -0.7501      0.025    -29.941      0.000      -0.799      -0.701\n",
       "grade_8            -0.5582      0.024    -23.695      0.000      -0.604      -0.512\n",
       "grade_5            -0.8221      0.029    -28.482      0.000      -0.879      -0.766\n",
       "sqft_living_log     0.4676      0.006     75.164      0.000       0.455       0.480\n",
       "zipcode_98023      -0.0663      0.011     -6.121      0.000      -0.088      -0.045\n",
       "zipcode_98004       1.1039      0.014     80.625      0.000       1.077       1.131\n",
       "zipcode_98092      -0.0347      0.013     -2.706      0.007      -0.060      -0.010\n",
       "waterfront_1.0      0.6843      0.019     36.592      0.000       0.648       0.721\n",
       "zipcode_98112       1.0345      0.014     71.681      0.000       1.006       1.063\n",
       "zipcode_98003      -0.0320      0.014     -2.305      0.021      -0.059      -0.005\n",
       "zipcode_98002      -0.0533      0.017     -3.228      0.001      -0.086      -0.021\n",
       "grade_9            -0.4078      0.023    -17.424      0.000      -0.454      -0.362\n",
       "condition_3         0.2688      0.038      7.017      0.000       0.194       0.344\n",
       "zipcode_98032      -0.0770      0.020     -3.823      0.000      -0.116      -0.038\n",
       "zipcode_98039       1.2962      0.030     42.652      0.000       1.237       1.356\n",
       "zipcode_98115       0.7934      0.011     74.572      0.000       0.773       0.814\n",
       "zipcode_98103       0.8244      0.011     75.747      0.000       0.803       0.846\n",
       "zipcode_98117       0.7968      0.011     73.707      0.000       0.776       0.818\n",
       "zipcode_98105       0.9340      0.016     60.108      0.000       0.904       0.964\n",
       "zipcode_98119       0.9943      0.018     56.647      0.000       0.960       1.029\n",
       "zipcode_98040       0.8606      0.015     59.121      0.000       0.832       0.889\n",
       "zipcode_98199       0.8424      0.013     62.906      0.000       0.816       0.869\n",
       "zipcode_98033       0.7479      0.012     63.506      0.000       0.725       0.771\n",
       "zipcode_98107       0.8500      0.015     57.611      0.000       0.821       0.879\n",
       "zipcode_98122       0.8099      0.014     57.407      0.000       0.782       0.838\n",
       "zipcode_98116       0.7592      0.013     58.458      0.000       0.734       0.785\n",
       "zipcode_98109       1.0142      0.022     46.235      0.000       0.971       1.057\n",
       "zipcode_98102       0.9269      0.024     38.479      0.000       0.880       0.974\n",
       "sqft_lot_log        0.0700      0.002     29.064      0.000       0.065       0.075\n",
       "zipcode_98144       0.6792      0.013     51.047      0.000       0.653       0.705\n",
       "zipcode_98006       0.6226      0.011     54.882      0.000       0.600       0.645\n",
       "zipcode_98136       0.6886      0.015     47.464      0.000       0.660       0.717\n",
       "zipcode_98052       0.5911      0.010     57.103      0.000       0.571       0.611\n",
       "zipcode_98008       0.6295      0.014     44.648      0.000       0.602       0.657\n",
       "zipcode_98005       0.6777      0.018     38.654      0.000       0.643       0.712\n",
       "zipcode_98177       0.5920      0.015     40.503      0.000       0.563       0.621\n",
       "zipcode_98053       0.5298      0.012     43.927      0.000       0.506       0.553\n",
       "zipcode_98126       0.5361      0.013     42.688      0.000       0.512       0.561\n",
       "zipcode_98029       0.5578      0.014     40.833      0.000       0.531       0.585\n",
       "zipcode_98125       0.5333      0.012     44.217      0.000       0.510       0.557\n",
       "zipcode_98034       0.5075      0.011     47.845      0.000       0.487       0.528\n",
       "zipcode_98075       0.5210      0.013     40.722      0.000       0.496       0.546\n",
       "zipcode_98074       0.5004      0.012     42.015      0.000       0.477       0.524\n",
       "zipcode_98007       0.6043      0.019     31.146      0.000       0.566       0.642\n",
       "sale_month_4        0.0750      0.005     14.973      0.000       0.065       0.085\n",
       "grade_10           -0.3020      0.024    -12.746      0.000      -0.348      -0.256\n",
       "grade_4            -0.7412      0.050    -14.866      0.000      -0.839      -0.643\n",
       "zipcode_98118       0.4487      0.011     40.141      0.000       0.427       0.471\n",
       "zipcode_98027       0.4445      0.012     37.966      0.000       0.422       0.467\n",
       "condition_5         0.3761      0.039      9.743      0.000       0.300       0.452\n",
       "zipcode_98133       0.4204      0.011     37.609      0.000       0.398       0.442\n",
       "condition_4         0.3046      0.038      7.944      0.000       0.229       0.380\n",
       "zipcode_98072       0.4156      0.014     29.689      0.000       0.388       0.443\n",
       "zipcode_98155       0.3858      0.011     33.954      0.000       0.364       0.408\n",
       "zipcode_98065       0.3915      0.014     28.707      0.000       0.365       0.418\n",
       "zipcode_98011       0.3998      0.017     24.204      0.000       0.367       0.432\n",
       "zipcode_98028       0.3695      0.014     26.321      0.000       0.342       0.397\n",
       "grade_11           -0.1602      0.025     -6.394      0.000      -0.209      -0.111\n",
       "sale_month_3        0.0515      0.005      9.509      0.000       0.041       0.062\n",
       "zipcode_98077       0.3483      0.017     20.785      0.000       0.315       0.381\n",
       "zipcode_98059       0.3053      0.011     27.257      0.000       0.283       0.327\n",
       "zipcode_98106       0.3069      0.013     23.392      0.000       0.281       0.333\n",
       "zipcode_98108       0.3245      0.017     19.474      0.000       0.292       0.357\n",
       "zipcode_98056       0.2818      0.012     23.328      0.000       0.258       0.306\n",
       "floors_2.0          0.0315      0.004      7.310      0.000       0.023       0.040\n",
       "zipcode_98166       0.2744      0.015     17.963      0.000       0.244       0.304\n",
       "zipcode_98045       0.2838      0.016     17.779      0.000       0.253       0.315\n",
       "zipcode_98019       0.2652      0.017     15.915      0.000       0.233       0.298\n",
       "zipcode_98146       0.2254      0.014     16.449      0.000       0.199       0.252\n",
       "zipcode_98024       0.3312      0.025     13.330      0.000       0.282       0.380\n",
       "zipcode_98070       0.2463      0.021     11.715      0.000       0.205       0.288\n",
       "grade_13            0.3367      0.057      5.958      0.000       0.226       0.447\n",
       "zipcode_98014       0.2016      0.020     10.007      0.000       0.162       0.241\n",
       "zipcode_98038       0.1255      0.010     12.141      0.000       0.105       0.146\n",
       "zipcode_98058       0.1143      0.011      9.947      0.000       0.092       0.137\n",
       "zipcode_98055       0.1145      0.014      7.894      0.000       0.086       0.143\n",
       "zipcode_98178       0.1123      0.015      7.400      0.000       0.083       0.142\n",
       "zipcode_98010       0.1422      0.024      6.032      0.000       0.096       0.188\n",
       "sale_month_2        0.0348      0.007      5.335      0.000       0.022       0.048\n",
       "bedrooms_2          0.0240      0.005      4.581      0.000       0.014       0.034\n",
       "floors_1.5          0.0246      0.006      4.247      0.000       0.013       0.036\n",
       "sale_month_5        0.0190      0.005      3.938      0.000       0.010       0.028\n",
       "bedrooms_7         -0.1273      0.037     -3.479      0.001      -0.199      -0.056\n",
       "floors_3.0         -0.0321      0.011     -3.030      0.002      -0.053      -0.011\n",
       "condition_2         0.1380      0.041      3.330      0.001       0.057       0.219\n",
       "zipcode_98198       0.0472      0.014      3.406      0.001       0.020       0.074\n",
       "zipcode_98148       0.0972      0.030      3.231      0.001       0.038       0.156\n",
       "floors_2.5          0.0474      0.018      2.641      0.008       0.012       0.083\n",
       "==============================================================================\n",
       "Omnibus:                      953.901   Durbin-Watson:                   2.029\n",
       "Prob(Omnibus):                  0.000   Jarque-Bera (JB):             3835.760\n",
       "Skew:                          -0.174   Prob(JB):                         0.00\n",
       "Kurtosis:                       5.422   Cond. No.                         767.\n",
       "==============================================================================\n",
       "\n",
       "Warnings:\n",
       "[1] Standard Errors assume that the covariance matrix of the errors is correctly specified.\n",
       "\"\"\""
      ]
     },
     "execution_count": 7,
     "metadata": {},
     "output_type": "execute_result"
    }
   ],
   "source": [
    "import statsmodels.api as sm\n",
    "X_fin = X_train[result]\n",
    "X_with_intercept = sm.add_constant(X_fin)\n",
    "model = sm.OLS(y_train,X_with_intercept).fit()\n",
    "model.summary()"
   ]
  },
  {
   "cell_type": "markdown",
   "metadata": {},
   "source": [
    "## Recursive Feature Elimination\n",
    "- This will automatically pic the most relevant features for our model"
   ]
  },
  {
   "cell_type": "code",
   "execution_count": 8,
   "metadata": {},
   "outputs": [
    {
     "data": {
      "text/plain": [
       "array([ True,  True,  True,  True,  True, False,  True, False,  True,\n",
       "        True, False, False,  True,  True, False,  True,  True,  True,\n",
       "        True,  True,  True,  True,  True,  True,  True,  True,  True,\n",
       "        True,  True, False,  True,  True,  True,  True,  True,  True,\n",
       "        True,  True,  True,  True,  True,  True,  True,  True,  True,\n",
       "       False,  True,  True,  True,  True,  True,  True,  True,  True,\n",
       "        True,  True,  True,  True,  True, False,  True,  True,  True,\n",
       "        True,  True, False,  True,  True,  True,  True,  True,  True,\n",
       "        True,  True,  True,  True, False, False,  True, False, False,\n",
       "       False, False,  True, False,  True, False, False, False])"
      ]
     },
     "execution_count": 8,
     "metadata": {},
     "output_type": "execute_result"
    }
   ],
   "source": [
    "from sklearn.feature_selection import RFE\n",
    "from sklearn.linear_model import LinearRegression\n",
    "\n",
    "linreg = LinearRegression()\n",
    "selector = RFE(linreg, n_features_to_select = 70)\n",
    "selector = selector.fit(X_fin, y_train.values.ravel()) \n",
    "selector.support_ "
   ]
  },
  {
   "cell_type": "code",
   "execution_count": 9,
   "metadata": {},
   "outputs": [
    {
     "data": {
      "text/plain": [
       "LinearRegression(copy_X=True, fit_intercept=True, n_jobs=None, normalize=False)"
      ]
     },
     "execution_count": 9,
     "metadata": {},
     "output_type": "execute_result"
    }
   ],
   "source": [
    "selected_columns = X_fin.columns[selector.support_ ]\n",
    "linreg.fit(X_fin[selected_columns],y_train)"
   ]
  },
  {
   "cell_type": "code",
   "execution_count": 10,
   "metadata": {},
   "outputs": [
    {
     "data": {
      "text/plain": [
       "Index(['grade_7', 'grade_6', 'grade_8', 'grade_5', 'sqft_living_log',\n",
       "       'zipcode_98004', 'waterfront_1.0', 'zipcode_98112', 'grade_9',\n",
       "       'condition_3', 'zipcode_98039', 'zipcode_98115', 'zipcode_98103',\n",
       "       'zipcode_98117', 'zipcode_98105', 'zipcode_98119', 'zipcode_98040',\n",
       "       'zipcode_98199', 'zipcode_98033', 'zipcode_98107', 'zipcode_98122',\n",
       "       'zipcode_98116', 'zipcode_98109', 'zipcode_98102', 'zipcode_98144',\n",
       "       'zipcode_98006', 'zipcode_98136', 'zipcode_98052', 'zipcode_98008',\n",
       "       'zipcode_98005', 'zipcode_98177', 'zipcode_98053', 'zipcode_98126',\n",
       "       'zipcode_98029', 'zipcode_98125', 'zipcode_98034', 'zipcode_98075',\n",
       "       'zipcode_98074', 'zipcode_98007', 'grade_10', 'grade_4',\n",
       "       'zipcode_98118', 'zipcode_98027', 'condition_5', 'zipcode_98133',\n",
       "       'condition_4', 'zipcode_98072', 'zipcode_98155', 'zipcode_98065',\n",
       "       'zipcode_98011', 'zipcode_98028', 'grade_11', 'zipcode_98077',\n",
       "       'zipcode_98059', 'zipcode_98106', 'zipcode_98108', 'zipcode_98056',\n",
       "       'zipcode_98166', 'zipcode_98045', 'zipcode_98019', 'zipcode_98146',\n",
       "       'zipcode_98024', 'zipcode_98070', 'grade_13', 'zipcode_98014',\n",
       "       'zipcode_98038', 'zipcode_98058', 'zipcode_98010', 'bedrooms_7',\n",
       "       'condition_2'],\n",
       "      dtype='object')"
      ]
     },
     "execution_count": 10,
     "metadata": {},
     "output_type": "execute_result"
    }
   ],
   "source": [
    "selected_columns"
   ]
  },
  {
   "cell_type": "code",
   "execution_count": 11,
   "metadata": {},
   "outputs": [],
   "source": [
    "yhat = linreg.predict(X[selected_columns])\n",
    "y_hat_train = linreg.predict(X_fin[selected_columns])\n",
    "y_hat_test = linreg.predict(X_test[selected_columns])"
   ]
  },
  {
   "cell_type": "markdown",
   "metadata": {},
   "source": [
    "## Checking R^2 and MSE\n",
    "- Since we log transformed the data we need to un-log it to get an accurate squared error"
   ]
  },
  {
   "cell_type": "code",
   "execution_count": 12,
   "metadata": {},
   "outputs": [],
   "source": [
    "SS_Residual = np.sum((y-yhat)**2)\n",
    "SS_Total = np.sum((y-np.mean(y))**2)\n",
    "r_squared = 1 - (float(SS_Residual))/SS_Total\n",
    "adjusted_r_squared = 1 - (1-r_squared)*(len(y)-1)/(len(y)-X[selected_columns].shape[1]-1)"
   ]
  },
  {
   "cell_type": "code",
   "execution_count": 13,
   "metadata": {},
   "outputs": [
    {
     "data": {
      "text/plain": [
       "0.8629249647129205"
      ]
     },
     "execution_count": 13,
     "metadata": {},
     "output_type": "execute_result"
    }
   ],
   "source": [
    "r_squared"
   ]
  },
  {
   "cell_type": "code",
   "execution_count": 14,
   "metadata": {
    "scrolled": true
   },
   "outputs": [
    {
     "data": {
      "text/plain": [
       "0.8624237762840828"
      ]
     },
     "execution_count": 14,
     "metadata": {},
     "output_type": "execute_result"
    }
   ],
   "source": [
    "adjusted_r_squared"
   ]
  },
  {
   "cell_type": "code",
   "execution_count": 15,
   "metadata": {},
   "outputs": [
    {
     "data": {
      "text/plain": [
       "0.8655120207160176"
      ]
     },
     "execution_count": 15,
     "metadata": {},
     "output_type": "execute_result"
    }
   ],
   "source": [
    "linreg.score(X_fin[selected_columns], y_train)"
   ]
  },
  {
   "cell_type": "code",
   "execution_count": 18,
   "metadata": {},
   "outputs": [
    {
     "name": "stdout",
     "output_type": "stream",
     "text": [
      "Train Mean Squarred Error: 0.03747158560568107\n",
      "Test Mean Squarred Error: 0.040752354690299315\n"
     ]
    }
   ],
   "source": [
    "mse_train = np.sum((y_train-y_hat_train)**2)/len(y_train)\n",
    "mse_test = np.sum((y_test-y_hat_test)**2)/len(y_test)\n",
    "print('Train Mean Squarred Error:', mse_train)\n",
    "print('Test Mean Squarred Error:', mse_test)"
   ]
  },
  {
   "cell_type": "code",
   "execution_count": 19,
   "metadata": {},
   "outputs": [
    {
     "name": "stdout",
     "output_type": "stream",
     "text": [
      "0.19357578775683976\n",
      "0.20187212459945855\n"
     ]
    }
   ],
   "source": [
    "train_error_log = np.sqrt(mse_train)\n",
    "test_error_log = np.sqrt(mse_test)\n",
    "print(train_error_log)\n",
    "print(test_error_log)"
   ]
  },
  {
   "cell_type": "code",
   "execution_count": 20,
   "metadata": {},
   "outputs": [
    {
     "name": "stdout",
     "output_type": "stream",
     "text": [
      "train error: 1.213581357675154\n",
      "test error: 1.223691518062946\n"
     ]
    }
   ],
   "source": [
    "train_error = np.exp(train_error_log)\n",
    "test_error = np.exp(test_error_log)\n",
    "print('train error:',train_error)\n",
    "print('test error:', test_error)"
   ]
  },
  {
   "cell_type": "markdown",
   "metadata": {},
   "source": [
    "## Checking QQ Plot and Homoscedasticity"
   ]
  },
  {
   "cell_type": "code",
   "execution_count": 23,
   "metadata": {},
   "outputs": [],
   "source": [
    "import scipy.stats as stats"
   ]
  },
  {
   "cell_type": "code",
   "execution_count": 24,
   "metadata": {},
   "outputs": [
    {
     "data": {
      "image/png": "[encoded data removed]",
      "text/plain": [
       "<Figure size 432x288 with 1 Axes>"
      ]
     },
     "metadata": {
      "needs_background": "light"
     },
     "output_type": "display_data"
    }
   ],
   "source": [
    "fig = sm.graphics.qqplot(model.resid, dist=stats.norm, line='45', fit=True)"
   ]
  },
  {
   "cell_type": "code",
   "execution_count": 25,
   "metadata": {},
   "outputs": [],
   "source": [
    "import matplotlib.pyplot as plt\n",
    "import seaborn as sns\n",
    "%matplotlib inline"
   ]
  },
  {
   "cell_type": "code",
   "execution_count": 27,
   "metadata": {
    "scrolled": true
   },
   "outputs": [
    {
     "data": {
      "text/plain": [
       "<matplotlib.collections.PathCollection at 0x23435914668>"
      ]
     },
     "execution_count": 27,
     "metadata": {},
     "output_type": "execute_result"
    },
    {
     "data": {
      "image/png": "[encoded data removed]",
      "text/plain": [
       "<Figure size 432x288 with 1 Axes>"
      ]
     },
     "metadata": {
      "needs_background": "light"
     },
     "output_type": "display_data"
    }
   ],
   "source": [
    "plt.scatter(y_hat_train, model.resid)\n",
    "# plt.plot(y_hat_train(X_train[selected_columns])"
   ]
  },
  {
   "cell_type": "markdown",
   "metadata": {},
   "source": [
    "## OLS\n",
    "- Running OLS again to see how the model fits the test data"
   ]
  },
  {
   "cell_type": "code",
   "execution_count": 30,
   "metadata": {},
   "outputs": [
    {
     "data": {
      "text/html": [
       "<table class=\"simpletable\">\n",
       "<caption>OLS Regression Results</caption>\n",
       "<tr>\n",
       "  <th>Dep. Variable:</th>        <td>price_log</td>    <th>  R-squared (uncentered):</th>      <td>   1.000</td> \n",
       "</tr>\n",
       "<tr>\n",
       "  <th>Model:</th>                   <td>OLS</td>       <th>  Adj. R-squared (uncentered):</th> <td>   1.000</td> \n",
       "</tr>\n",
       "<tr>\n",
       "  <th>Method:</th>             <td>Least Squares</td>  <th>  F-statistic:       </th>          <td>1.559e+05</td>\n",
       "</tr>\n",
       "<tr>\n",
       "  <th>Date:</th>             <td>Tue, 03 Nov 2020</td> <th>  Prob (F-statistic):</th>           <td>  0.00</td>  \n",
       "</tr>\n",
       "<tr>\n",
       "  <th>Time:</th>                 <td>10:52:19</td>     <th>  Log-Likelihood:    </th>          <td> -43.305</td> \n",
       "</tr>\n",
       "<tr>\n",
       "  <th>No. Observations:</th>      <td>  3844</td>      <th>  AIC:               </th>          <td>   224.6</td> \n",
       "</tr>\n",
       "<tr>\n",
       "  <th>Df Residuals:</th>          <td>  3775</td>      <th>  BIC:               </th>          <td>   656.2</td> \n",
       "</tr>\n",
       "<tr>\n",
       "  <th>Df Model:</th>              <td>    69</td>      <th>                     </th>              <td> </td>    \n",
       "</tr>\n",
       "<tr>\n",
       "  <th>Covariance Type:</th>      <td>nonrobust</td>    <th>                     </th>              <td> </td>    \n",
       "</tr>\n",
       "</table>\n",
       "<table class=\"simpletable\">\n",
       "<tr>\n",
       "         <td></td>            <th>coef</th>     <th>std err</th>      <th>t</th>      <th>P>|t|</th>  <th>[0.025</th>    <th>0.975]</th>  \n",
       "</tr>\n",
       "<tr>\n",
       "  <th>grade_7</th>         <td>    0.0499</td> <td>    0.066</td> <td>    0.757</td> <td> 0.449</td> <td>   -0.079</td> <td>    0.179</td>\n",
       "</tr>\n",
       "<tr>\n",
       "  <th>grade_6</th>         <td>    0.0915</td> <td>    0.068</td> <td>    1.350</td> <td> 0.177</td> <td>   -0.041</td> <td>    0.224</td>\n",
       "</tr>\n",
       "<tr>\n",
       "  <th>grade_8</th>         <td>    0.0799</td> <td>    0.065</td> <td>    1.221</td> <td> 0.222</td> <td>   -0.048</td> <td>    0.208</td>\n",
       "</tr>\n",
       "<tr>\n",
       "  <th>grade_5</th>         <td>    0.3342</td> <td>    0.075</td> <td>    4.430</td> <td> 0.000</td> <td>    0.186</td> <td>    0.482</td>\n",
       "</tr>\n",
       "<tr>\n",
       "  <th>sqft_living_log</th> <td>    0.7454</td> <td>    0.013</td> <td>   55.973</td> <td> 0.000</td> <td>    0.719</td> <td>    0.771</td>\n",
       "</tr>\n",
       "<tr>\n",
       "  <th>zipcode_98004</th>   <td>    1.0838</td> <td>    0.033</td> <td>   33.211</td> <td> 0.000</td> <td>    1.020</td> <td>    1.148</td>\n",
       "</tr>\n",
       "<tr>\n",
       "  <th>waterfront_1.0</th>  <td>    0.6982</td> <td>    0.041</td> <td>   17.183</td> <td> 0.000</td> <td>    0.619</td> <td>    0.778</td>\n",
       "</tr>\n",
       "<tr>\n",
       "  <th>zipcode_98112</th>   <td>    1.0335</td> <td>    0.038</td> <td>   27.445</td> <td> 0.000</td> <td>    0.960</td> <td>    1.107</td>\n",
       "</tr>\n",
       "<tr>\n",
       "  <th>grade_9</th>         <td>    0.1731</td> <td>    0.066</td> <td>    2.635</td> <td> 0.008</td> <td>    0.044</td> <td>    0.302</td>\n",
       "</tr>\n",
       "<tr>\n",
       "  <th>condition_3</th>     <td>    6.8734</td> <td>    0.125</td> <td>   55.145</td> <td> 0.000</td> <td>    6.629</td> <td>    7.118</td>\n",
       "</tr>\n",
       "<tr>\n",
       "  <th>zipcode_98039</th>   <td>    1.2520</td> <td>    0.102</td> <td>   12.228</td> <td> 0.000</td> <td>    1.051</td> <td>    1.453</td>\n",
       "</tr>\n",
       "<tr>\n",
       "  <th>zipcode_98115</th>   <td>    0.7850</td> <td>    0.026</td> <td>   30.588</td> <td> 0.000</td> <td>    0.735</td> <td>    0.835</td>\n",
       "</tr>\n",
       "<tr>\n",
       "  <th>zipcode_98103</th>   <td>    0.7761</td> <td>    0.025</td> <td>   30.854</td> <td> 0.000</td> <td>    0.727</td> <td>    0.825</td>\n",
       "</tr>\n",
       "<tr>\n",
       "  <th>zipcode_98117</th>   <td>    0.7568</td> <td>    0.027</td> <td>   28.460</td> <td> 0.000</td> <td>    0.705</td> <td>    0.809</td>\n",
       "</tr>\n",
       "<tr>\n",
       "  <th>zipcode_98105</th>   <td>    0.9165</td> <td>    0.038</td> <td>   24.261</td> <td> 0.000</td> <td>    0.842</td> <td>    0.991</td>\n",
       "</tr>\n",
       "<tr>\n",
       "  <th>zipcode_98119</th>   <td>    0.9420</td> <td>    0.041</td> <td>   23.129</td> <td> 0.000</td> <td>    0.862</td> <td>    1.022</td>\n",
       "</tr>\n",
       "<tr>\n",
       "  <th>zipcode_98040</th>   <td>    0.8414</td> <td>    0.036</td> <td>   23.437</td> <td> 0.000</td> <td>    0.771</td> <td>    0.912</td>\n",
       "</tr>\n",
       "<tr>\n",
       "  <th>zipcode_98199</th>   <td>    0.8432</td> <td>    0.038</td> <td>   22.120</td> <td> 0.000</td> <td>    0.768</td> <td>    0.918</td>\n",
       "</tr>\n",
       "<tr>\n",
       "  <th>zipcode_98033</th>   <td>    0.7286</td> <td>    0.030</td> <td>   23.951</td> <td> 0.000</td> <td>    0.669</td> <td>    0.788</td>\n",
       "</tr>\n",
       "<tr>\n",
       "  <th>zipcode_98107</th>   <td>    0.8144</td> <td>    0.037</td> <td>   21.877</td> <td> 0.000</td> <td>    0.741</td> <td>    0.887</td>\n",
       "</tr>\n",
       "<tr>\n",
       "  <th>zipcode_98122</th>   <td>    0.7715</td> <td>    0.036</td> <td>   21.653</td> <td> 0.000</td> <td>    0.702</td> <td>    0.841</td>\n",
       "</tr>\n",
       "<tr>\n",
       "  <th>zipcode_98116</th>   <td>    0.7057</td> <td>    0.036</td> <td>   19.505</td> <td> 0.000</td> <td>    0.635</td> <td>    0.777</td>\n",
       "</tr>\n",
       "<tr>\n",
       "  <th>zipcode_98109</th>   <td>    0.8998</td> <td>    0.057</td> <td>   15.671</td> <td> 0.000</td> <td>    0.787</td> <td>    1.012</td>\n",
       "</tr>\n",
       "<tr>\n",
       "  <th>zipcode_98102</th>   <td>    0.9876</td> <td>    0.051</td> <td>   19.547</td> <td> 0.000</td> <td>    0.889</td> <td>    1.087</td>\n",
       "</tr>\n",
       "<tr>\n",
       "  <th>zipcode_98144</th>   <td>    0.5898</td> <td>    0.032</td> <td>   18.539</td> <td> 0.000</td> <td>    0.527</td> <td>    0.652</td>\n",
       "</tr>\n",
       "<tr>\n",
       "  <th>zipcode_98006</th>   <td>    0.6224</td> <td>    0.029</td> <td>   21.398</td> <td> 0.000</td> <td>    0.565</td> <td>    0.679</td>\n",
       "</tr>\n",
       "<tr>\n",
       "  <th>zipcode_98136</th>   <td>    0.6520</td> <td>    0.037</td> <td>   17.532</td> <td> 0.000</td> <td>    0.579</td> <td>    0.725</td>\n",
       "</tr>\n",
       "<tr>\n",
       "  <th>zipcode_98052</th>   <td>    0.5706</td> <td>    0.028</td> <td>   20.028</td> <td> 0.000</td> <td>    0.515</td> <td>    0.626</td>\n",
       "</tr>\n",
       "<tr>\n",
       "  <th>zipcode_98008</th>   <td>    0.6119</td> <td>    0.034</td> <td>   17.942</td> <td> 0.000</td> <td>    0.545</td> <td>    0.679</td>\n",
       "</tr>\n",
       "<tr>\n",
       "  <th>zipcode_98005</th>   <td>    0.6714</td> <td>    0.044</td> <td>   15.412</td> <td> 0.000</td> <td>    0.586</td> <td>    0.757</td>\n",
       "</tr>\n",
       "<tr>\n",
       "  <th>zipcode_98177</th>   <td>    0.6167</td> <td>    0.036</td> <td>   17.221</td> <td> 0.000</td> <td>    0.546</td> <td>    0.687</td>\n",
       "</tr>\n",
       "<tr>\n",
       "  <th>zipcode_98053</th>   <td>    0.5668</td> <td>    0.031</td> <td>   18.299</td> <td> 0.000</td> <td>    0.506</td> <td>    0.627</td>\n",
       "</tr>\n",
       "<tr>\n",
       "  <th>zipcode_98126</th>   <td>    0.5128</td> <td>    0.038</td> <td>   13.625</td> <td> 0.000</td> <td>    0.439</td> <td>    0.587</td>\n",
       "</tr>\n",
       "<tr>\n",
       "  <th>zipcode_98029</th>   <td>    0.5345</td> <td>    0.031</td> <td>   17.466</td> <td> 0.000</td> <td>    0.475</td> <td>    0.595</td>\n",
       "</tr>\n",
       "<tr>\n",
       "  <th>zipcode_98125</th>   <td>    0.5394</td> <td>    0.029</td> <td>   18.328</td> <td> 0.000</td> <td>    0.482</td> <td>    0.597</td>\n",
       "</tr>\n",
       "<tr>\n",
       "  <th>zipcode_98034</th>   <td>    0.5237</td> <td>    0.027</td> <td>   19.518</td> <td> 0.000</td> <td>    0.471</td> <td>    0.576</td>\n",
       "</tr>\n",
       "<tr>\n",
       "  <th>zipcode_98075</th>   <td>    0.4915</td> <td>    0.032</td> <td>   15.174</td> <td> 0.000</td> <td>    0.428</td> <td>    0.555</td>\n",
       "</tr>\n",
       "<tr>\n",
       "  <th>zipcode_98074</th>   <td>    0.5183</td> <td>    0.030</td> <td>   17.309</td> <td> 0.000</td> <td>    0.460</td> <td>    0.577</td>\n",
       "</tr>\n",
       "<tr>\n",
       "  <th>zipcode_98007</th>   <td>    0.6057</td> <td>    0.053</td> <td>   11.522</td> <td> 0.000</td> <td>    0.503</td> <td>    0.709</td>\n",
       "</tr>\n",
       "<tr>\n",
       "  <th>grade_10</th>        <td>    0.2757</td> <td>    0.067</td> <td>    4.130</td> <td> 0.000</td> <td>    0.145</td> <td>    0.407</td>\n",
       "</tr>\n",
       "<tr>\n",
       "  <th>grade_4</th>         <td>    0.1688</td> <td>    0.122</td> <td>    1.378</td> <td> 0.168</td> <td>   -0.071</td> <td>    0.409</td>\n",
       "</tr>\n",
       "<tr>\n",
       "  <th>zipcode_98118</th>   <td>    0.4307</td> <td>    0.027</td> <td>   15.807</td> <td> 0.000</td> <td>    0.377</td> <td>    0.484</td>\n",
       "</tr>\n",
       "<tr>\n",
       "  <th>zipcode_98027</th>   <td>    0.4930</td> <td>    0.032</td> <td>   15.338</td> <td> 0.000</td> <td>    0.430</td> <td>    0.556</td>\n",
       "</tr>\n",
       "<tr>\n",
       "  <th>condition_5</th>     <td>    6.9365</td> <td>    0.127</td> <td>   54.738</td> <td> 0.000</td> <td>    6.688</td> <td>    7.185</td>\n",
       "</tr>\n",
       "<tr>\n",
       "  <th>zipcode_98133</th>   <td>    0.3955</td> <td>    0.029</td> <td>   13.762</td> <td> 0.000</td> <td>    0.339</td> <td>    0.452</td>\n",
       "</tr>\n",
       "<tr>\n",
       "  <th>condition_4</th>     <td>    6.9148</td> <td>    0.125</td> <td>   55.199</td> <td> 0.000</td> <td>    6.669</td> <td>    7.160</td>\n",
       "</tr>\n",
       "<tr>\n",
       "  <th>zipcode_98072</th>   <td>    0.4653</td> <td>    0.039</td> <td>   11.816</td> <td> 0.000</td> <td>    0.388</td> <td>    0.542</td>\n",
       "</tr>\n",
       "<tr>\n",
       "  <th>zipcode_98155</th>   <td>    0.3648</td> <td>    0.031</td> <td>   11.900</td> <td> 0.000</td> <td>    0.305</td> <td>    0.425</td>\n",
       "</tr>\n",
       "<tr>\n",
       "  <th>zipcode_98065</th>   <td>    0.3347</td> <td>    0.033</td> <td>   10.263</td> <td> 0.000</td> <td>    0.271</td> <td>    0.399</td>\n",
       "</tr>\n",
       "<tr>\n",
       "  <th>zipcode_98011</th>   <td>    0.3788</td> <td>    0.042</td> <td>    9.089</td> <td> 0.000</td> <td>    0.297</td> <td>    0.461</td>\n",
       "</tr>\n",
       "<tr>\n",
       "  <th>zipcode_98028</th>   <td>    0.3623</td> <td>    0.034</td> <td>   10.674</td> <td> 0.000</td> <td>    0.296</td> <td>    0.429</td>\n",
       "</tr>\n",
       "<tr>\n",
       "  <th>grade_11</th>        <td>    0.3751</td> <td>    0.071</td> <td>    5.256</td> <td> 0.000</td> <td>    0.235</td> <td>    0.515</td>\n",
       "</tr>\n",
       "<tr>\n",
       "  <th>zipcode_98077</th>   <td>    0.4785</td> <td>    0.043</td> <td>   11.252</td> <td> 0.000</td> <td>    0.395</td> <td>    0.562</td>\n",
       "</tr>\n",
       "<tr>\n",
       "  <th>zipcode_98059</th>   <td>    0.2574</td> <td>    0.032</td> <td>    8.139</td> <td> 0.000</td> <td>    0.195</td> <td>    0.319</td>\n",
       "</tr>\n",
       "<tr>\n",
       "  <th>zipcode_98106</th>   <td>    0.3083</td> <td>    0.033</td> <td>    9.240</td> <td> 0.000</td> <td>    0.243</td> <td>    0.374</td>\n",
       "</tr>\n",
       "<tr>\n",
       "  <th>zipcode_98108</th>   <td>    0.3095</td> <td>    0.047</td> <td>    6.618</td> <td> 0.000</td> <td>    0.218</td> <td>    0.401</td>\n",
       "</tr>\n",
       "<tr>\n",
       "  <th>zipcode_98056</th>   <td>    0.2298</td> <td>    0.029</td> <td>    7.978</td> <td> 0.000</td> <td>    0.173</td> <td>    0.286</td>\n",
       "</tr>\n",
       "<tr>\n",
       "  <th>zipcode_98166</th>   <td>    0.2419</td> <td>    0.035</td> <td>    6.918</td> <td> 0.000</td> <td>    0.173</td> <td>    0.310</td>\n",
       "</tr>\n",
       "<tr>\n",
       "  <th>zipcode_98045</th>   <td>    0.2614</td> <td>    0.041</td> <td>    6.430</td> <td> 0.000</td> <td>    0.182</td> <td>    0.341</td>\n",
       "</tr>\n",
       "<tr>\n",
       "  <th>zipcode_98019</th>   <td>    0.3049</td> <td>    0.045</td> <td>    6.721</td> <td> 0.000</td> <td>    0.216</td> <td>    0.394</td>\n",
       "</tr>\n",
       "<tr>\n",
       "  <th>zipcode_98146</th>   <td>    0.2614</td> <td>    0.037</td> <td>    7.021</td> <td> 0.000</td> <td>    0.188</td> <td>    0.334</td>\n",
       "</tr>\n",
       "<tr>\n",
       "  <th>zipcode_98024</th>   <td>    0.4853</td> <td>    0.067</td> <td>    7.233</td> <td> 0.000</td> <td>    0.354</td> <td>    0.617</td>\n",
       "</tr>\n",
       "<tr>\n",
       "  <th>zipcode_98070</th>   <td>    0.2569</td> <td>    0.058</td> <td>    4.422</td> <td> 0.000</td> <td>    0.143</td> <td>    0.371</td>\n",
       "</tr>\n",
       "<tr>\n",
       "  <th>grade_13</th>        <td> -2.84e-17</td> <td> 1.34e-17</td> <td>   -2.127</td> <td> 0.034</td> <td>-5.46e-17</td> <td>-2.22e-18</td>\n",
       "</tr>\n",
       "<tr>\n",
       "  <th>zipcode_98014</th>   <td>    0.3886</td> <td>    0.059</td> <td>    6.579</td> <td> 0.000</td> <td>    0.273</td> <td>    0.504</td>\n",
       "</tr>\n",
       "<tr>\n",
       "  <th>zipcode_98038</th>   <td>    0.1127</td> <td>    0.025</td> <td>    4.471</td> <td> 0.000</td> <td>    0.063</td> <td>    0.162</td>\n",
       "</tr>\n",
       "<tr>\n",
       "  <th>zipcode_98058</th>   <td>    0.0774</td> <td>    0.029</td> <td>    2.645</td> <td> 0.008</td> <td>    0.020</td> <td>    0.135</td>\n",
       "</tr>\n",
       "<tr>\n",
       "  <th>zipcode_98010</th>   <td>    0.2759</td> <td>    0.054</td> <td>    5.142</td> <td> 0.000</td> <td>    0.171</td> <td>    0.381</td>\n",
       "</tr>\n",
       "<tr>\n",
       "  <th>bedrooms_7</th>      <td>   -0.1437</td> <td>    0.083</td> <td>   -1.726</td> <td> 0.084</td> <td>   -0.307</td> <td>    0.020</td>\n",
       "</tr>\n",
       "<tr>\n",
       "  <th>condition_2</th>     <td>    6.7471</td> <td>    0.135</td> <td>   50.099</td> <td> 0.000</td> <td>    6.483</td> <td>    7.011</td>\n",
       "</tr>\n",
       "</table>\n",
       "<table class=\"simpletable\">\n",
       "<tr>\n",
       "  <th>Omnibus:</th>       <td>5523.759</td> <th>  Durbin-Watson:     </th>  <td>   1.994</td>  \n",
       "</tr>\n",
       "<tr>\n",
       "  <th>Prob(Omnibus):</th>  <td> 0.000</td>  <th>  Jarque-Bera (JB):  </th> <td>9166269.877</td>\n",
       "</tr>\n",
       "<tr>\n",
       "  <th>Skew:</th>           <td> 7.801</td>  <th>  Prob(JB):          </th>  <td>    0.00</td>  \n",
       "</tr>\n",
       "<tr>\n",
       "  <th>Kurtosis:</th>       <td>241.718</td> <th>  Cond. No.          </th>  <td>1.28e+16</td>  \n",
       "</tr>\n",
       "</table><br/><br/>Warnings:<br/>[1] Standard Errors assume that the covariance matrix of the errors is correctly specified.<br/>[2] The smallest eigenvalue is 1.37e-27. This might indicate that there are<br/>strong multicollinearity problems or that the design matrix is singular."
      ],
      "text/plain": [
       "<class 'statsmodels.iolib.summary.Summary'>\n",
       "\"\"\"\n",
       "                                 OLS Regression Results                                \n",
       "=======================================================================================\n",
       "Dep. Variable:              price_log   R-squared (uncentered):                   1.000\n",
       "Model:                            OLS   Adj. R-squared (uncentered):              1.000\n",
       "Method:                 Least Squares   F-statistic:                          1.559e+05\n",
       "Date:                Tue, 03 Nov 2020   Prob (F-statistic):                        0.00\n",
       "Time:                        10:52:19   Log-Likelihood:                         -43.305\n",
       "No. Observations:                3844   AIC:                                      224.6\n",
       "Df Residuals:                    3775   BIC:                                      656.2\n",
       "Df Model:                          69                                                  \n",
       "Covariance Type:            nonrobust                                                  \n",
       "===================================================================================\n",
       "                      coef    std err          t      P>|t|      [0.025      0.975]\n",
       "-----------------------------------------------------------------------------------\n",
       "grade_7             0.0499      0.066      0.757      0.449      -0.079       0.179\n",
       "grade_6             0.0915      0.068      1.350      0.177      -0.041       0.224\n",
       "grade_8             0.0799      0.065      1.221      0.222      -0.048       0.208\n",
       "grade_5             0.3342      0.075      4.430      0.000       0.186       0.482\n",
       "sqft_living_log     0.7454      0.013     55.973      0.000       0.719       0.771\n",
       "zipcode_98004       1.0838      0.033     33.211      0.000       1.020       1.148\n",
       "waterfront_1.0      0.6982      0.041     17.183      0.000       0.619       0.778\n",
       "zipcode_98112       1.0335      0.038     27.445      0.000       0.960       1.107\n",
       "grade_9             0.1731      0.066      2.635      0.008       0.044       0.302\n",
       "condition_3         6.8734      0.125     55.145      0.000       6.629       7.118\n",
       "zipcode_98039       1.2520      0.102     12.228      0.000       1.051       1.453\n",
       "zipcode_98115       0.7850      0.026     30.588      0.000       0.735       0.835\n",
       "zipcode_98103       0.7761      0.025     30.854      0.000       0.727       0.825\n",
       "zipcode_98117       0.7568      0.027     28.460      0.000       0.705       0.809\n",
       "zipcode_98105       0.9165      0.038     24.261      0.000       0.842       0.991\n",
       "zipcode_98119       0.9420      0.041     23.129      0.000       0.862       1.022\n",
       "zipcode_98040       0.8414      0.036     23.437      0.000       0.771       0.912\n",
       "zipcode_98199       0.8432      0.038     22.120      0.000       0.768       0.918\n",
       "zipcode_98033       0.7286      0.030     23.951      0.000       0.669       0.788\n",
       "zipcode_98107       0.8144      0.037     21.877      0.000       0.741       0.887\n",
       "zipcode_98122       0.7715      0.036     21.653      0.000       0.702       0.841\n",
       "zipcode_98116       0.7057      0.036     19.505      0.000       0.635       0.777\n",
       "zipcode_98109       0.8998      0.057     15.671      0.000       0.787       1.012\n",
       "zipcode_98102       0.9876      0.051     19.547      0.000       0.889       1.087\n",
       "zipcode_98144       0.5898      0.032     18.539      0.000       0.527       0.652\n",
       "zipcode_98006       0.6224      0.029     21.398      0.000       0.565       0.679\n",
       "zipcode_98136       0.6520      0.037     17.532      0.000       0.579       0.725\n",
       "zipcode_98052       0.5706      0.028     20.028      0.000       0.515       0.626\n",
       "zipcode_98008       0.6119      0.034     17.942      0.000       0.545       0.679\n",
       "zipcode_98005       0.6714      0.044     15.412      0.000       0.586       0.757\n",
       "zipcode_98177       0.6167      0.036     17.221      0.000       0.546       0.687\n",
       "zipcode_98053       0.5668      0.031     18.299      0.000       0.506       0.627\n",
       "zipcode_98126       0.5128      0.038     13.625      0.000       0.439       0.587\n",
       "zipcode_98029       0.5345      0.031     17.466      0.000       0.475       0.595\n",
       "zipcode_98125       0.5394      0.029     18.328      0.000       0.482       0.597\n",
       "zipcode_98034       0.5237      0.027     19.518      0.000       0.471       0.576\n",
       "zipcode_98075       0.4915      0.032     15.174      0.000       0.428       0.555\n",
       "zipcode_98074       0.5183      0.030     17.309      0.000       0.460       0.577\n",
       "zipcode_98007       0.6057      0.053     11.522      0.000       0.503       0.709\n",
       "grade_10            0.2757      0.067      4.130      0.000       0.145       0.407\n",
       "grade_4             0.1688      0.122      1.378      0.168      -0.071       0.409\n",
       "zipcode_98118       0.4307      0.027     15.807      0.000       0.377       0.484\n",
       "zipcode_98027       0.4930      0.032     15.338      0.000       0.430       0.556\n",
       "condition_5         6.9365      0.127     54.738      0.000       6.688       7.185\n",
       "zipcode_98133       0.3955      0.029     13.762      0.000       0.339       0.452\n",
       "condition_4         6.9148      0.125     55.199      0.000       6.669       7.160\n",
       "zipcode_98072       0.4653      0.039     11.816      0.000       0.388       0.542\n",
       "zipcode_98155       0.3648      0.031     11.900      0.000       0.305       0.425\n",
       "zipcode_98065       0.3347      0.033     10.263      0.000       0.271       0.399\n",
       "zipcode_98011       0.3788      0.042      9.089      0.000       0.297       0.461\n",
       "zipcode_98028       0.3623      0.034     10.674      0.000       0.296       0.429\n",
       "grade_11            0.3751      0.071      5.256      0.000       0.235       0.515\n",
       "zipcode_98077       0.4785      0.043     11.252      0.000       0.395       0.562\n",
       "zipcode_98059       0.2574      0.032      8.139      0.000       0.195       0.319\n",
       "zipcode_98106       0.3083      0.033      9.240      0.000       0.243       0.374\n",
       "zipcode_98108       0.3095      0.047      6.618      0.000       0.218       0.401\n",
       "zipcode_98056       0.2298      0.029      7.978      0.000       0.173       0.286\n",
       "zipcode_98166       0.2419      0.035      6.918      0.000       0.173       0.310\n",
       "zipcode_98045       0.2614      0.041      6.430      0.000       0.182       0.341\n",
       "zipcode_98019       0.3049      0.045      6.721      0.000       0.216       0.394\n",
       "zipcode_98146       0.2614      0.037      7.021      0.000       0.188       0.334\n",
       "zipcode_98024       0.4853      0.067      7.233      0.000       0.354       0.617\n",
       "zipcode_98070       0.2569      0.058      4.422      0.000       0.143       0.371\n",
       "grade_13         -2.84e-17   1.34e-17     -2.127      0.034   -5.46e-17   -2.22e-18\n",
       "zipcode_98014       0.3886      0.059      6.579      0.000       0.273       0.504\n",
       "zipcode_98038       0.1127      0.025      4.471      0.000       0.063       0.162\n",
       "zipcode_98058       0.0774      0.029      2.645      0.008       0.020       0.135\n",
       "zipcode_98010       0.2759      0.054      5.142      0.000       0.171       0.381\n",
       "bedrooms_7         -0.1437      0.083     -1.726      0.084      -0.307       0.020\n",
       "condition_2         6.7471      0.135     50.099      0.000       6.483       7.011\n",
       "==============================================================================\n",
       "Omnibus:                     5523.759   Durbin-Watson:                   1.994\n",
       "Prob(Omnibus):                  0.000   Jarque-Bera (JB):          9166269.877\n",
       "Skew:                           7.801   Prob(JB):                         0.00\n",
       "Kurtosis:                     241.718   Cond. No.                     1.28e+16\n",
       "==============================================================================\n",
       "\n",
       "Warnings:\n",
       "[1] Standard Errors assume that the covariance matrix of the errors is correctly specified.\n",
       "[2] The smallest eigenvalue is 1.37e-27. This might indicate that there are\n",
       "strong multicollinearity problems or that the design matrix is singular.\n",
       "\"\"\""
      ]
     },
     "execution_count": 30,
     "metadata": {},
     "output_type": "execute_result"
    }
   ],
   "source": [
    "model = sm.OLS(y_test,X_test[selected_columns]).fit()\n",
    "model.summary()"
   ]
  },
  {
   "cell_type": "markdown",
   "metadata": {},
   "source": [
    "- Looks like this model is not correctly fitting the data"
   ]
  },
  {
   "cell_type": "code",
   "execution_count": 31,
   "metadata": {},
   "outputs": [
    {
     "data": {
      "image/png": "[encoded data removed]",
      "text/plain": [
       "<Figure size 432x288 with 1 Axes>"
      ]
     },
     "metadata": {
      "needs_background": "light"
     },
     "output_type": "display_data"
    }
   ],
   "source": [
    "fig = sm.graphics.qqplot(model.resid, dist=stats.norm, line='45', fit=True)"
   ]
  },
  {
   "cell_type": "code",
   "execution_count": 32,
   "metadata": {},
   "outputs": [
    {
     "data": {
      "text/plain": [
       "3844"
      ]
     },
     "execution_count": 32,
     "metadata": {},
     "output_type": "execute_result"
    }
   ],
   "source": [
    "len(model.resid)"
   ]
  },
  {
   "cell_type": "code",
   "execution_count": 33,
   "metadata": {},
   "outputs": [
    {
     "data": {
      "text/plain": [
       "(15372, 110)"
      ]
     },
     "execution_count": 33,
     "metadata": {},
     "output_type": "execute_result"
    }
   ],
   "source": [
    "X_train.shape"
   ]
  },
  {
   "cell_type": "code",
   "execution_count": null,
   "metadata": {},
   "outputs": [],
   "source": []
  }
 ],
 "metadata": {
  "kernelspec": {
   "display_name": "Python [conda env:learn-env] *",
   "language": "python",
   "name": "conda-env-learn-env-py"
  },
  "language_info": {
   "codemirror_mode": {
    "name": "ipython",
    "version": 3
   },
   "file_extension": ".py",
   "mimetype": "text/x-python",
   "name": "python",
   "nbconvert_exporter": "python",
   "pygments_lexer": "ipython3",
   "version": "3.6.9"
  }
 },
 "nbformat": 4,
 "nbformat_minor": 2
}
