{
 "cells": [
  {
   "cell_type": "markdown",
   "metadata": {},
   "source": [
    "## Final Project Submission¶\n",
    "\n",
    "Student name: Eduardo Osorio\n",
    "\n",
    "Student pace: part time \n",
    "\n",
    "Scheduled project review date/time:\n",
    "\n",
    "Instructor name: Yish Lim\n",
    "\n",
    "Blog post URL:"
   ]
  },
  {
   "cell_type": "markdown",
   "metadata": {},
   "source": [
    "## Log transform and dummy variables\n",
    "- We log transformed to make the data less skewed\n",
    "\n",
    "- created dummy variables before running train-test split"
   ]
  },
  {
   "cell_type": "code",
   "execution_count": 1,
   "metadata": {},
   "outputs": [],
   "source": [
    "import pandas as pd\n",
    "import numpy as np\n",
    "\n",
    "\n",
    "kcc = pd.read_csv('data_files/kc_cleaned.csv')\n",
    "\n",
    "continuous = ['price', 'sqft_living', 'sqft_lot', 'sqft_living15', 'yr_built']\n",
    "categoricals = ['bedrooms', 'floors', 'waterfront', 'grade', 'condition', 'yrs_renovated', 'sale_month']\n",
    "\n",
    "kcc_cont = kcc[continuous]\n",
    "\n",
    "# log features\n",
    "log_names = [f'{column}_log' for column in kcc_cont.columns]\n",
    "\n",
    "kcc_log = np.log(kcc_cont)\n",
    "kcc_log.columns = log_names\n",
    "\n",
    "# normalize (subract mean and divide by std)\n",
    "\n",
    "# def normalize(feature):\n",
    "#     return (feature - feature.mean()) / feature.std()\n",
    "\n",
    "# kcc_log_norm = kcc_log.apply(normalize)\n",
    "\n",
    "# one hot encode categoricals\n",
    "kcc_ohe = pd.get_dummies(kcc[categoricals], columns=['bedrooms', 'floors', 'waterfront', 'grade', 'condition', 'yrs_renovated', 'sale_month'], drop_first=True)\n",
    "\n",
    "preprocessed = pd.concat([kcc_log, kcc_ohe], axis=1)"
   ]
  },
  {
   "cell_type": "markdown",
   "metadata": {},
   "source": [
    "## Stepwise Function\n",
    "- using a stwepwise funtion with backwards elimination to drop p-values over .05"
   ]
  },
  {
   "cell_type": "code",
   "execution_count": 2,
   "metadata": {},
   "outputs": [],
   "source": [
    "import statsmodels.api as sm\n",
    "\n",
    "def stepwise_selection(X, y, \n",
    "                       initial_list=[], \n",
    "                       threshold_in=0.01, \n",
    "                       threshold_out = 0.05, # Pvals over .05 are dropped\n",
    "                       verbose=True):\n",
    " \n",
    "    included = list(initial_list)\n",
    "    while True:\n",
    "        changed=False\n",
    "        # forward step\n",
    "        excluded = list(set(X.columns)-set(included))\n",
    "        new_pval = pd.Series(index=excluded)\n",
    "        for new_column in excluded:\n",
    "            model = sm.OLS(y, sm.add_constant(pd.DataFrame(X[included+[new_column]]))).fit()\n",
    "            new_pval[new_column] = model.pvalues[new_column]\n",
    "        best_pval = new_pval.min()\n",
    "        if best_pval < threshold_in:\n",
    "            best_feature = new_pval.idxmin()\n",
    "            included.append(best_feature)\n",
    "            changed=True\n",
    "            if verbose:\n",
    "                print('Add  {:30} with p-value {:.6}'.format(best_feature, best_pval)) #Adding pvals under the threshold\n",
    "\n",
    "        # backward step\n",
    "        model = sm.OLS(y, sm.add_constant(pd.DataFrame(X[included]))).fit()\n",
    "        # use all coefs except intercept\n",
    "        pvalues = model.pvalues.iloc[1:]\n",
    "        worst_pval = pvalues.max() # null if pvalues is empty\n",
    "        if worst_pval > threshold_out:\n",
    "            changed=True\n",
    "            worst_feature = pvalues.argmax()\n",
    "            included.remove(worst_feature)\n",
    "            if verbose:\n",
    "                print('Drop {:30} with p-value {:.6}'.format(worst_feature, worst_pval)) #drops pvals over thershold\n",
    "        if not changed:\n",
    "            break\n",
    "    return included"
   ]
  },
  {
   "cell_type": "markdown",
   "metadata": {},
   "source": [
    "## Train-Test Split\n",
    "- Using train test split to make sample size of 20 % "
   ]
  },
  {
   "cell_type": "code",
   "execution_count": 3,
   "metadata": {},
   "outputs": [],
   "source": [
    "from sklearn.model_selection import train_test_split"
   ]
  },
  {
   "cell_type": "code",
   "execution_count": 4,
   "metadata": {},
   "outputs": [],
   "source": [
    "X = preprocessed.drop('price_log', axis=1)\n",
    "y = preprocessed['price_log']"
   ]
  },
  {
   "cell_type": "code",
   "execution_count": 5,
   "metadata": {},
   "outputs": [],
   "source": [
    "X_train, X_test, y_train, y_test = train_test_split(X, y, test_size=0.20)\n",
    "# Using a test size of 20%"
   ]
  },
  {
   "cell_type": "markdown",
   "metadata": {},
   "source": [
    "## Running the stepwise\n",
    "- Ran the stepwise function on the X_train and y_train  to eliminate p-values over .05"
   ]
  },
  {
   "cell_type": "code",
   "execution_count": 6,
   "metadata": {
    "scrolled": false
   },
   "outputs": [
    {
     "name": "stderr",
     "output_type": "stream",
     "text": [
      "C:\\Users\\eduar\\anaconda3\\envs\\learn-env\\lib\\site-packages\\numpy\\core\\fromnumeric.py:2389: FutureWarning: Method .ptp is deprecated and will be removed in a future version. Use numpy.ptp instead.\n",
      "  return ptp(axis=axis, out=out, **kwargs)\n",
      "C:\\Users\\eduar\\anaconda3\\envs\\learn-env\\lib\\site-packages\\statsmodels\\base\\model.py:1294: RuntimeWarning: invalid value encountered in true_divide\n",
      "  return self.params / self.bse\n",
      "C:\\Users\\eduar\\anaconda3\\envs\\learn-env\\lib\\site-packages\\scipy\\stats\\_distn_infrastructure.py:901: RuntimeWarning: invalid value encountered in greater\n",
      "  return (a < x) & (x < b)\n",
      "C:\\Users\\eduar\\anaconda3\\envs\\learn-env\\lib\\site-packages\\scipy\\stats\\_distn_infrastructure.py:901: RuntimeWarning: invalid value encountered in less\n",
      "  return (a < x) & (x < b)\n",
      "C:\\Users\\eduar\\anaconda3\\envs\\learn-env\\lib\\site-packages\\scipy\\stats\\_distn_infrastructure.py:1892: RuntimeWarning: invalid value encountered in less_equal\n",
      "  cond2 = cond0 & (x <= _a)\n"
     ]
    },
    {
     "name": "stdout",
     "output_type": "stream",
     "text": [
      "Add  sqft_living15_log              with p-value 0.0\n",
      "Add  sqft_living_log                with p-value 0.0\n",
      "Add  yr_built_log                   with p-value 3.18e-229\n",
      "Add  sqft_lot_log                   with p-value 8.90312e-168\n",
      "Add  grade_10                       with p-value 1.04022e-98\n",
      "Add  grade_9                        with p-value 1.40092e-101\n",
      "Add  grade_11                       with p-value 3.71945e-150\n",
      "Add  grade_8                        with p-value 7.88849e-152\n",
      "Add  grade_12                       with p-value 2.04783e-151\n",
      "Add  grade_7                        with p-value 1.13557e-103\n",
      "Add  waterfront_1.0                 with p-value 4.59242e-77\n",
      "Add  grade_13                       with p-value 1.59985e-68\n",
      "Add  floors_3.0                     with p-value 6.56202e-40\n",
      "Add  bedrooms_2                     with p-value 8.93238e-38\n",
      "Add  condition_5                    with p-value 1.37872e-20\n",
      "Add  sale_month_4                   with p-value 2.41104e-14\n",
      "Add  grade_6                        with p-value 2.74096e-12\n",
      "Add  bedrooms_4                     with p-value 1.68766e-07\n",
      "Add  condition_2                    with p-value 1.21517e-06\n",
      "Add  sale_month_3                   with p-value 1.16823e-06\n",
      "Add  floors_2.0                     with p-value 0.000219495\n",
      "Add  condition_4                    with p-value 0.000825709\n",
      "Add  yrs_renovated_66.0             with p-value 0.00121244\n",
      "Add  floors_1.5                     with p-value 0.00159844\n",
      "Add  yrs_renovated_13.0             with p-value 0.00200476\n",
      "Add  floors_2.5                     with p-value 0.0034279\n",
      "Add  yrs_renovated_10.0             with p-value 0.00335084\n",
      "Add  yrs_renovated_14.0             with p-value 0.00691334\n",
      "Add  sale_month_5                   with p-value 0.00975087\n",
      "resulting features:\n",
      "['sqft_living15_log', 'sqft_living_log', 'yr_built_log', 'sqft_lot_log', 'grade_10', 'grade_9', 'grade_11', 'grade_8', 'grade_12', 'grade_7', 'waterfront_1.0', 'grade_13', 'floors_3.0', 'bedrooms_2', 'condition_5', 'sale_month_4', 'grade_6', 'bedrooms_4', 'condition_2', 'sale_month_3', 'floors_2.0', 'condition_4', 'yrs_renovated_66.0', 'floors_1.5', 'yrs_renovated_13.0', 'floors_2.5', 'yrs_renovated_10.0', 'yrs_renovated_14.0', 'sale_month_5']\n"
     ]
    }
   ],
   "source": [
    "result = stepwise_selection(X_train, y_train, verbose = True)\n",
    "print('resulting features:')\n",
    "print(result)\n",
    "#Feed x_train and Y_train into the stepwise function"
   ]
  },
  {
   "cell_type": "markdown",
   "metadata": {},
   "source": [
    "## OLS"
   ]
  },
  {
   "cell_type": "code",
   "execution_count": 7,
   "metadata": {
    "scrolled": false
   },
   "outputs": [
    {
     "data": {
      "text/html": [
       "<table class=\"simpletable\">\n",
       "<caption>OLS Regression Results</caption>\n",
       "<tr>\n",
       "  <th>Dep. Variable:</th>        <td>price_log</td>    <th>  R-squared:         </th> <td>   0.658</td>\n",
       "</tr>\n",
       "<tr>\n",
       "  <th>Model:</th>                   <td>OLS</td>       <th>  Adj. R-squared:    </th> <td>   0.658</td>\n",
       "</tr>\n",
       "<tr>\n",
       "  <th>Method:</th>             <td>Least Squares</td>  <th>  F-statistic:       </th> <td>   1019.</td>\n",
       "</tr>\n",
       "<tr>\n",
       "  <th>Date:</th>             <td>Sat, 31 Oct 2020</td> <th>  Prob (F-statistic):</th>  <td>  0.00</td> \n",
       "</tr>\n",
       "<tr>\n",
       "  <th>Time:</th>                 <td>12:01:45</td>     <th>  Log-Likelihood:    </th> <td> -3684.0</td>\n",
       "</tr>\n",
       "<tr>\n",
       "  <th>No. Observations:</th>      <td> 15372</td>      <th>  AIC:               </th> <td>   7428.</td>\n",
       "</tr>\n",
       "<tr>\n",
       "  <th>Df Residuals:</th>          <td> 15342</td>      <th>  BIC:               </th> <td>   7657.</td>\n",
       "</tr>\n",
       "<tr>\n",
       "  <th>Df Model:</th>              <td>    29</td>      <th>                     </th>     <td> </td>   \n",
       "</tr>\n",
       "<tr>\n",
       "  <th>Covariance Type:</th>      <td>nonrobust</td>    <th>                     </th>     <td> </td>   \n",
       "</tr>\n",
       "</table>\n",
       "<table class=\"simpletable\">\n",
       "<tr>\n",
       "           <td></td>             <th>coef</th>     <th>std err</th>      <th>t</th>      <th>P>|t|</th>  <th>[0.025</th>    <th>0.975]</th>  \n",
       "</tr>\n",
       "<tr>\n",
       "  <th>const</th>              <td>   87.9413</td> <td>    1.804</td> <td>   48.756</td> <td> 0.000</td> <td>   84.406</td> <td>   91.477</td>\n",
       "</tr>\n",
       "<tr>\n",
       "  <th>sqft_living15_log</th>  <td>    0.2692</td> <td>    0.013</td> <td>   21.395</td> <td> 0.000</td> <td>    0.245</td> <td>    0.294</td>\n",
       "</tr>\n",
       "<tr>\n",
       "  <th>sqft_living_log</th>    <td>    0.4385</td> <td>    0.011</td> <td>   38.808</td> <td> 0.000</td> <td>    0.416</td> <td>    0.461</td>\n",
       "</tr>\n",
       "<tr>\n",
       "  <th>yr_built_log</th>       <td>  -10.5857</td> <td>    0.238</td> <td>  -44.454</td> <td> 0.000</td> <td>  -11.052</td> <td>  -10.119</td>\n",
       "</tr>\n",
       "<tr>\n",
       "  <th>sqft_lot_log</th>       <td>   -0.0579</td> <td>    0.003</td> <td>  -17.218</td> <td> 0.000</td> <td>   -0.065</td> <td>   -0.051</td>\n",
       "</tr>\n",
       "<tr>\n",
       "  <th>grade_10</th>           <td>    1.0412</td> <td>    0.029</td> <td>   36.320</td> <td> 0.000</td> <td>    0.985</td> <td>    1.097</td>\n",
       "</tr>\n",
       "<tr>\n",
       "  <th>grade_9</th>            <td>    0.8408</td> <td>    0.027</td> <td>   31.554</td> <td> 0.000</td> <td>    0.789</td> <td>    0.893</td>\n",
       "</tr>\n",
       "<tr>\n",
       "  <th>grade_11</th>           <td>    1.2308</td> <td>    0.033</td> <td>   36.778</td> <td> 0.000</td> <td>    1.165</td> <td>    1.296</td>\n",
       "</tr>\n",
       "<tr>\n",
       "  <th>grade_8</th>            <td>    0.5974</td> <td>    0.025</td> <td>   23.867</td> <td> 0.000</td> <td>    0.548</td> <td>    0.646</td>\n",
       "</tr>\n",
       "<tr>\n",
       "  <th>grade_12</th>           <td>    1.4979</td> <td>    0.048</td> <td>   30.914</td> <td> 0.000</td> <td>    1.403</td> <td>    1.593</td>\n",
       "</tr>\n",
       "<tr>\n",
       "  <th>grade_7</th>            <td>    0.3926</td> <td>    0.024</td> <td>   16.398</td> <td> 0.000</td> <td>    0.346</td> <td>    0.440</td>\n",
       "</tr>\n",
       "<tr>\n",
       "  <th>waterfront_1.0</th>     <td>    0.5501</td> <td>    0.030</td> <td>   18.194</td> <td> 0.000</td> <td>    0.491</td> <td>    0.609</td>\n",
       "</tr>\n",
       "<tr>\n",
       "  <th>grade_13</th>           <td>    1.8447</td> <td>    0.102</td> <td>   18.054</td> <td> 0.000</td> <td>    1.644</td> <td>    2.045</td>\n",
       "</tr>\n",
       "<tr>\n",
       "  <th>floors_3.0</th>         <td>    0.2432</td> <td>    0.017</td> <td>   14.213</td> <td> 0.000</td> <td>    0.210</td> <td>    0.277</td>\n",
       "</tr>\n",
       "<tr>\n",
       "  <th>bedrooms_2</th>         <td>    0.1105</td> <td>    0.009</td> <td>   12.822</td> <td> 0.000</td> <td>    0.094</td> <td>    0.127</td>\n",
       "</tr>\n",
       "<tr>\n",
       "  <th>condition_5</th>        <td>    0.1047</td> <td>    0.010</td> <td>   10.581</td> <td> 0.000</td> <td>    0.085</td> <td>    0.124</td>\n",
       "</tr>\n",
       "<tr>\n",
       "  <th>sale_month_4</th>       <td>    0.0702</td> <td>    0.008</td> <td>    8.512</td> <td> 0.000</td> <td>    0.054</td> <td>    0.086</td>\n",
       "</tr>\n",
       "<tr>\n",
       "  <th>grade_6</th>            <td>    0.1656</td> <td>    0.024</td> <td>    6.831</td> <td> 0.000</td> <td>    0.118</td> <td>    0.213</td>\n",
       "</tr>\n",
       "<tr>\n",
       "  <th>bedrooms_4</th>         <td>   -0.0323</td> <td>    0.006</td> <td>   -5.461</td> <td> 0.000</td> <td>   -0.044</td> <td>   -0.021</td>\n",
       "</tr>\n",
       "<tr>\n",
       "  <th>condition_2</th>        <td>   -0.1296</td> <td>    0.028</td> <td>   -4.564</td> <td> 0.000</td> <td>   -0.185</td> <td>   -0.074</td>\n",
       "</tr>\n",
       "<tr>\n",
       "  <th>sale_month_3</th>       <td>    0.0477</td> <td>    0.009</td> <td>    5.281</td> <td> 0.000</td> <td>    0.030</td> <td>    0.065</td>\n",
       "</tr>\n",
       "<tr>\n",
       "  <th>floors_2.0</th>         <td>    0.0347</td> <td>    0.007</td> <td>    4.815</td> <td> 0.000</td> <td>    0.021</td> <td>    0.049</td>\n",
       "</tr>\n",
       "<tr>\n",
       "  <th>condition_4</th>        <td>    0.0239</td> <td>    0.006</td> <td>    3.841</td> <td> 0.000</td> <td>    0.012</td> <td>    0.036</td>\n",
       "</tr>\n",
       "<tr>\n",
       "  <th>yrs_renovated_66.0</th> <td>    0.9888</td> <td>    0.308</td> <td>    3.209</td> <td> 0.001</td> <td>    0.385</td> <td>    1.593</td>\n",
       "</tr>\n",
       "<tr>\n",
       "  <th>floors_1.5</th>         <td>    0.0335</td> <td>    0.010</td> <td>    3.465</td> <td> 0.001</td> <td>    0.015</td> <td>    0.052</td>\n",
       "</tr>\n",
       "<tr>\n",
       "  <th>yrs_renovated_13.0</th> <td>    0.2178</td> <td>    0.073</td> <td>    2.992</td> <td> 0.003</td> <td>    0.075</td> <td>    0.361</td>\n",
       "</tr>\n",
       "<tr>\n",
       "  <th>floors_2.5</th>         <td>    0.0855</td> <td>    0.029</td> <td>    2.948</td> <td> 0.003</td> <td>    0.029</td> <td>    0.142</td>\n",
       "</tr>\n",
       "<tr>\n",
       "  <th>yrs_renovated_10.0</th> <td>    0.2743</td> <td>    0.093</td> <td>    2.950</td> <td> 0.003</td> <td>    0.092</td> <td>    0.457</td>\n",
       "</tr>\n",
       "<tr>\n",
       "  <th>yrs_renovated_14.0</th> <td>    0.2088</td> <td>    0.077</td> <td>    2.707</td> <td> 0.007</td> <td>    0.058</td> <td>    0.360</td>\n",
       "</tr>\n",
       "<tr>\n",
       "  <th>sale_month_5</th>       <td>    0.0205</td> <td>    0.008</td> <td>    2.585</td> <td> 0.010</td> <td>    0.005</td> <td>    0.036</td>\n",
       "</tr>\n",
       "</table>\n",
       "<table class=\"simpletable\">\n",
       "<tr>\n",
       "  <th>Omnibus:</th>       <td>59.545</td> <th>  Durbin-Watson:     </th> <td>   2.016</td>\n",
       "</tr>\n",
       "<tr>\n",
       "  <th>Prob(Omnibus):</th> <td> 0.000</td> <th>  Jarque-Bera (JB):  </th> <td>  64.780</td>\n",
       "</tr>\n",
       "<tr>\n",
       "  <th>Skew:</th>          <td>-0.117</td> <th>  Prob(JB):          </th> <td>8.57e-15</td>\n",
       "</tr>\n",
       "<tr>\n",
       "  <th>Kurtosis:</th>      <td> 3.215</td> <th>  Cond. No.          </th> <td>1.17e+04</td>\n",
       "</tr>\n",
       "</table><br/><br/>Warnings:<br/>[1] Standard Errors assume that the covariance matrix of the errors is correctly specified.<br/>[2] The condition number is large, 1.17e+04. This might indicate that there are<br/>strong multicollinearity or other numerical problems."
      ],
      "text/plain": [
       "<class 'statsmodels.iolib.summary.Summary'>\n",
       "\"\"\"\n",
       "                            OLS Regression Results                            \n",
       "==============================================================================\n",
       "Dep. Variable:              price_log   R-squared:                       0.658\n",
       "Model:                            OLS   Adj. R-squared:                  0.658\n",
       "Method:                 Least Squares   F-statistic:                     1019.\n",
       "Date:                Sat, 31 Oct 2020   Prob (F-statistic):               0.00\n",
       "Time:                        12:01:45   Log-Likelihood:                -3684.0\n",
       "No. Observations:               15372   AIC:                             7428.\n",
       "Df Residuals:                   15342   BIC:                             7657.\n",
       "Df Model:                          29                                         \n",
       "Covariance Type:            nonrobust                                         \n",
       "======================================================================================\n",
       "                         coef    std err          t      P>|t|      [0.025      0.975]\n",
       "--------------------------------------------------------------------------------------\n",
       "const                 87.9413      1.804     48.756      0.000      84.406      91.477\n",
       "sqft_living15_log      0.2692      0.013     21.395      0.000       0.245       0.294\n",
       "sqft_living_log        0.4385      0.011     38.808      0.000       0.416       0.461\n",
       "yr_built_log         -10.5857      0.238    -44.454      0.000     -11.052     -10.119\n",
       "sqft_lot_log          -0.0579      0.003    -17.218      0.000      -0.065      -0.051\n",
       "grade_10               1.0412      0.029     36.320      0.000       0.985       1.097\n",
       "grade_9                0.8408      0.027     31.554      0.000       0.789       0.893\n",
       "grade_11               1.2308      0.033     36.778      0.000       1.165       1.296\n",
       "grade_8                0.5974      0.025     23.867      0.000       0.548       0.646\n",
       "grade_12               1.4979      0.048     30.914      0.000       1.403       1.593\n",
       "grade_7                0.3926      0.024     16.398      0.000       0.346       0.440\n",
       "waterfront_1.0         0.5501      0.030     18.194      0.000       0.491       0.609\n",
       "grade_13               1.8447      0.102     18.054      0.000       1.644       2.045\n",
       "floors_3.0             0.2432      0.017     14.213      0.000       0.210       0.277\n",
       "bedrooms_2             0.1105      0.009     12.822      0.000       0.094       0.127\n",
       "condition_5            0.1047      0.010     10.581      0.000       0.085       0.124\n",
       "sale_month_4           0.0702      0.008      8.512      0.000       0.054       0.086\n",
       "grade_6                0.1656      0.024      6.831      0.000       0.118       0.213\n",
       "bedrooms_4            -0.0323      0.006     -5.461      0.000      -0.044      -0.021\n",
       "condition_2           -0.1296      0.028     -4.564      0.000      -0.185      -0.074\n",
       "sale_month_3           0.0477      0.009      5.281      0.000       0.030       0.065\n",
       "floors_2.0             0.0347      0.007      4.815      0.000       0.021       0.049\n",
       "condition_4            0.0239      0.006      3.841      0.000       0.012       0.036\n",
       "yrs_renovated_66.0     0.9888      0.308      3.209      0.001       0.385       1.593\n",
       "floors_1.5             0.0335      0.010      3.465      0.001       0.015       0.052\n",
       "yrs_renovated_13.0     0.2178      0.073      2.992      0.003       0.075       0.361\n",
       "floors_2.5             0.0855      0.029      2.948      0.003       0.029       0.142\n",
       "yrs_renovated_10.0     0.2743      0.093      2.950      0.003       0.092       0.457\n",
       "yrs_renovated_14.0     0.2088      0.077      2.707      0.007       0.058       0.360\n",
       "sale_month_5           0.0205      0.008      2.585      0.010       0.005       0.036\n",
       "==============================================================================\n",
       "Omnibus:                       59.545   Durbin-Watson:                   2.016\n",
       "Prob(Omnibus):                  0.000   Jarque-Bera (JB):               64.780\n",
       "Skew:                          -0.117   Prob(JB):                     8.57e-15\n",
       "Kurtosis:                       3.215   Cond. No.                     1.17e+04\n",
       "==============================================================================\n",
       "\n",
       "Warnings:\n",
       "[1] Standard Errors assume that the covariance matrix of the errors is correctly specified.\n",
       "[2] The condition number is large, 1.17e+04. This might indicate that there are\n",
       "strong multicollinearity or other numerical problems.\n",
       "\"\"\""
      ]
     },
     "execution_count": 7,
     "metadata": {},
     "output_type": "execute_result"
    }
   ],
   "source": [
    "X_fin = X_train[result]\n",
    "X_with_intercept = sm.add_constant(X_fin)\n",
    "model = sm.OLS(y_train,X_with_intercept).fit()\n",
    "model.summary()"
   ]
  },
  {
   "cell_type": "markdown",
   "metadata": {},
   "source": [
    "## Recursive Feature Elimination\n",
    "- Using skitlearns REF algorithm to select the most relevant features fo us\n",
    "- in this case, were using all the future since our r squared is lower then what I wanted"
   ]
  },
  {
   "cell_type": "code",
   "execution_count": 8,
   "metadata": {
    "scrolled": true
   },
   "outputs": [
    {
     "data": {
      "text/plain": [
       "array([ True,  True,  True,  True,  True,  True,  True,  True,  True,\n",
       "        True,  True,  True,  True,  True,  True,  True,  True,  True,\n",
       "        True,  True,  True,  True,  True,  True,  True,  True,  True,\n",
       "        True,  True])"
      ]
     },
     "execution_count": 8,
     "metadata": {},
     "output_type": "execute_result"
    }
   ],
   "source": [
    "from sklearn.feature_selection import RFE\n",
    "from sklearn.linear_model import LinearRegression\n",
    "\n",
    "linreg = LinearRegression()\n",
    "selector = RFE(linreg, n_features_to_select = 46)\n",
    "selector = selector.fit(X_fin, y_train.values.ravel()) \n",
    "selector.support_ "
   ]
  },
  {
   "cell_type": "code",
   "execution_count": 9,
   "metadata": {},
   "outputs": [
    {
     "data": {
      "text/plain": [
       "LinearRegression(copy_X=True, fit_intercept=True, n_jobs=None, normalize=False)"
      ]
     },
     "execution_count": 9,
     "metadata": {},
     "output_type": "execute_result"
    }
   ],
   "source": [
    "selected_columns = X_fin.columns[selector.support_ ]\n",
    "linreg.fit(X_train[selected_columns],y_train)"
   ]
  },
  {
   "cell_type": "code",
   "execution_count": 10,
   "metadata": {},
   "outputs": [
    {
     "data": {
      "text/plain": [
       "Index(['sqft_living15_log', 'sqft_living_log', 'yr_built_log', 'sqft_lot_log',\n",
       "       'grade_10', 'grade_9', 'grade_11', 'grade_8', 'grade_12', 'grade_7',\n",
       "       'waterfront_1.0', 'grade_13', 'floors_3.0', 'bedrooms_2', 'condition_5',\n",
       "       'sale_month_4', 'grade_6', 'bedrooms_4', 'condition_2', 'sale_month_3',\n",
       "       'floors_2.0', 'condition_4', 'yrs_renovated_66.0', 'floors_1.5',\n",
       "       'yrs_renovated_13.0', 'floors_2.5', 'yrs_renovated_10.0',\n",
       "       'yrs_renovated_14.0', 'sale_month_5'],\n",
       "      dtype='object')"
      ]
     },
     "execution_count": 10,
     "metadata": {},
     "output_type": "execute_result"
    }
   ],
   "source": [
    "selected_columns"
   ]
  },
  {
   "cell_type": "markdown",
   "metadata": {},
   "source": [
    "## R Squared and MSE\n",
    "- Here are is the R squared and Mean Squared error for both the Test and Train"
   ]
  },
  {
   "cell_type": "code",
   "execution_count": 11,
   "metadata": {},
   "outputs": [],
   "source": [
    "y_hat_train = linreg.predict(X_fin[selected_columns])\n",
    "y_hat_test = linreg.predict(X_test[selected_columns])"
   ]
  },
  {
   "cell_type": "code",
   "execution_count": 12,
   "metadata": {},
   "outputs": [
    {
     "data": {
      "text/plain": [
       "0.6583203620874299"
      ]
     },
     "execution_count": 12,
     "metadata": {},
     "output_type": "execute_result"
    }
   ],
   "source": [
    "linreg.score(X_fin[selected_columns], y_train)"
   ]
  },
  {
   "cell_type": "code",
   "execution_count": 13,
   "metadata": {},
   "outputs": [
    {
     "name": "stdout",
     "output_type": "stream",
     "text": [
      "Train Mean Squarred Error: 0.09455605227647854\n",
      "Test Mean Squarred Error: 0.09261991835487239\n"
     ]
    }
   ],
   "source": [
    "mse_train = np.sum((y_train-y_hat_train)**2)/len(y_train)\n",
    "mse_test = np.sum((y_test-y_hat_test)**2)/len(y_test)\n",
    "print('Train Mean Squarred Error:', mse_train)\n",
    "print('Test Mean Squarred Error:', mse_test)"
   ]
  },
  {
   "cell_type": "code",
   "execution_count": 14,
   "metadata": {},
   "outputs": [],
   "source": [
    "# from sklearn.linear_model import LinearRegression\n",
    "# linreg = LinearRegression()\n",
    "\n",
    "# linreg.fit(X_train, y_train)\n",
    "# y_hat_test = linreg.predict(X_test)"
   ]
  },
  {
   "cell_type": "code",
   "execution_count": 15,
   "metadata": {},
   "outputs": [],
   "source": [
    "# from sklearn.metrics import mean_squared_error\n",
    "# test_residuals = y_hat_test - y_test\n",
    "\n",
    "# test_mse = mean_squared_error(y_test, y_hat_test)\n",
    "# test_mse"
   ]
  },
  {
   "cell_type": "markdown",
   "metadata": {},
   "source": [
    "## Un-Logging\n",
    "- Since we log transformed at the begining we also need to un-log to get an accurate standard error"
   ]
  },
  {
   "cell_type": "code",
   "execution_count": 16,
   "metadata": {},
   "outputs": [
    {
     "name": "stdout",
     "output_type": "stream",
     "text": [
      "0.307499678498171\n",
      "0.3043352072220242\n"
     ]
    }
   ],
   "source": [
    "train_error_log = np.sqrt(mse_train)\n",
    "test_error_log = np.sqrt(mse_test)\n",
    "print(train_error_log)\n",
    "print(test_error_log)"
   ]
  },
  {
   "cell_type": "code",
   "execution_count": 17,
   "metadata": {},
   "outputs": [
    {
     "name": "stdout",
     "output_type": "stream",
     "text": [
      "train error: 1.3600203712528536\n",
      "test error: 1.3557234282152133\n"
     ]
    }
   ],
   "source": [
    "train_error = np.exp(train_error_log)\n",
    "test_error = np.exp(test_error_log)\n",
    "print('train error:',train_error)\n",
    "print('test error:', test_error)"
   ]
  },
  {
   "cell_type": "markdown",
   "metadata": {},
   "source": [
    "## Checking  the QQ plot and Homoscedasticity\n",
    "- "
   ]
  },
  {
   "cell_type": "code",
   "execution_count": 18,
   "metadata": {},
   "outputs": [],
   "source": [
    "import scipy.stats as stats"
   ]
  },
  {
   "cell_type": "code",
   "execution_count": 19,
   "metadata": {},
   "outputs": [],
   "source": [
    "import matplotlib.pyplot as plt\n",
    "import seaborn as sns\n",
    "%matplotlib inline"
   ]
  },
  {
   "cell_type": "code",
   "execution_count": 20,
   "metadata": {
    "scrolled": true
   },
   "outputs": [
    {
     "data": {
      "text/plain": [
       "<matplotlib.collections.PathCollection at 0x21c84177ba8>"
      ]
     },
     "execution_count": 20,
     "metadata": {},
     "output_type": "execute_result"
    },
    {
     "data": {
      "image/png": "[encoded data removed]",
      "text/plain": [
       "<Figure size 432x288 with 1 Axes>"
      ]
     },
     "metadata": {
      "needs_background": "light"
     },
     "output_type": "display_data"
    }
   ],
   "source": [
    "plt.scatter(y_hat_train, model.resid)\n",
    "# plt.plot(y_hat_train(X_train[selected_columns])"
   ]
  },
  {
   "cell_type": "code",
   "execution_count": 21,
   "metadata": {
    "scrolled": true
   },
   "outputs": [
    {
     "data": {
      "image/png": "[encoded data removed]",
      "text/plain": [
       "<Figure size 432x288 with 1 Axes>"
      ]
     },
     "metadata": {
      "needs_background": "light"
     },
     "output_type": "display_data"
    }
   ],
   "source": [
    "fig = sm.graphics.qqplot(model.resid, dist=stats.norm, line='45', fit=True)"
   ]
  },
  {
   "cell_type": "markdown",
   "metadata": {},
   "source": [
    "## Testing for Multicollinearity"
   ]
  },
  {
   "cell_type": "code",
   "execution_count": 22,
   "metadata": {
    "scrolled": true
   },
   "outputs": [
    {
     "data": {
      "text/plain": [
       "[('sqft_living15_log', 1462.1531882738877),\n",
       " ('sqft_living_log', 1182.1511761593626),\n",
       " ('yr_built_log', 1393.2124335789533),\n",
       " ('sqft_lot_log', 148.9809843137723),\n",
       " ('grade_10', 6.935748090789837),\n",
       " ('grade_9', 13.711251085080963),\n",
       " ('grade_11', 3.1889215929095345),\n",
       " ('grade_8', 28.380480126201796),\n",
       " ('grade_12', 1.5526105488106856),\n",
       " ('grade_7', 38.15877389928284),\n",
       " ('waterfront_1.0', 1.029862362725363),\n",
       " ('grade_13', 1.1013402244879626),\n",
       " ('floors_3.0', 1.320289381808536),\n",
       " ('bedrooms_2', 1.5024571261822675),\n",
       " ('condition_5', 1.2017003088605462),\n",
       " ('sale_month_4', 1.1532945276225646),\n",
       " ('grade_6', 9.045519934099735),\n",
       " ('bedrooms_4', 1.8072839273163719),\n",
       " ('condition_2', 1.034887373368598),\n",
       " ('sale_month_3', 1.124731650802968),\n",
       " ('floors_2.0', 2.857304677161124),\n",
       " ('condition_4', 1.582970139062787),\n",
       " ('yrs_renovated_66.0', 1.0015828039921568),\n",
       " ('floors_1.5', 1.23340493382698),\n",
       " ('yrs_renovated_13.0', 1.0054099353049324),\n",
       " ('floors_2.5', 1.0658530885487578),\n",
       " ('yrs_renovated_10.0', 1.0020156305514474),\n",
       " ('yrs_renovated_14.0', 1.0028090646531582),\n",
       " ('sale_month_5', 1.1675886734246674)]"
      ]
     },
     "execution_count": 22,
     "metadata": {},
     "output_type": "execute_result"
    }
   ],
   "source": [
    "from statsmodels.stats.outliers_influence import variance_inflation_factor\n",
    "X = X_fin\n",
    "vif = [variance_inflation_factor(X.values, i) for i in range(X.shape[1])]\n",
    "list(zip(X_fin, vif))"
   ]
  },
  {
   "cell_type": "markdown",
   "metadata": {},
   "source": [
    "- Some of the features are displaying multicollinearity but droping them would lower the r squared even lower then it already is."
   ]
  },
  {
   "cell_type": "code",
   "execution_count": 23,
   "metadata": {},
   "outputs": [
    {
     "name": "stderr",
     "output_type": "stream",
     "text": [
      "C:\\Users\\eduar\\anaconda3\\envs\\learn-env\\lib\\site-packages\\numpy\\core\\fromnumeric.py:2389: FutureWarning: Method .ptp is deprecated and will be removed in a future version. Use numpy.ptp instead.\n",
      "  return ptp(axis=axis, out=out, **kwargs)\n"
     ]
    },
    {
     "data": {
      "text/html": [
       "<table class=\"simpletable\">\n",
       "<caption>OLS Regression Results</caption>\n",
       "<tr>\n",
       "  <th>Dep. Variable:</th>        <td>price_log</td>    <th>  R-squared:         </th> <td>   0.675</td>\n",
       "</tr>\n",
       "<tr>\n",
       "  <th>Model:</th>                   <td>OLS</td>       <th>  Adj. R-squared:    </th> <td>   0.672</td>\n",
       "</tr>\n",
       "<tr>\n",
       "  <th>Method:</th>             <td>Least Squares</td>  <th>  F-statistic:       </th> <td>   282.6</td>\n",
       "</tr>\n",
       "<tr>\n",
       "  <th>Date:</th>             <td>Sat, 31 Oct 2020</td> <th>  Prob (F-statistic):</th>  <td>  0.00</td> \n",
       "</tr>\n",
       "<tr>\n",
       "  <th>Time:</th>                 <td>12:01:47</td>     <th>  Log-Likelihood:    </th> <td> -875.07</td>\n",
       "</tr>\n",
       "<tr>\n",
       "  <th>No. Observations:</th>      <td>  3844</td>      <th>  AIC:               </th> <td>   1808.</td>\n",
       "</tr>\n",
       "<tr>\n",
       "  <th>Df Residuals:</th>          <td>  3815</td>      <th>  BIC:               </th> <td>   1990.</td>\n",
       "</tr>\n",
       "<tr>\n",
       "  <th>Df Model:</th>              <td>    28</td>      <th>                     </th>     <td> </td>   \n",
       "</tr>\n",
       "<tr>\n",
       "  <th>Covariance Type:</th>      <td>nonrobust</td>    <th>                     </th>     <td> </td>   \n",
       "</tr>\n",
       "</table>\n",
       "<table class=\"simpletable\">\n",
       "<tr>\n",
       "           <td></td>             <th>coef</th>     <th>std err</th>      <th>t</th>      <th>P>|t|</th>  <th>[0.025</th>    <th>0.975]</th>  \n",
       "</tr>\n",
       "<tr>\n",
       "  <th>const</th>              <td>   85.4455</td> <td>    3.585</td> <td>   23.837</td> <td> 0.000</td> <td>   78.418</td> <td>   92.473</td>\n",
       "</tr>\n",
       "<tr>\n",
       "  <th>sqft_living15_log</th>  <td>    0.2502</td> <td>    0.025</td> <td>   10.117</td> <td> 0.000</td> <td>    0.202</td> <td>    0.299</td>\n",
       "</tr>\n",
       "<tr>\n",
       "  <th>sqft_living_log</th>    <td>    0.4491</td> <td>    0.022</td> <td>   20.121</td> <td> 0.000</td> <td>    0.405</td> <td>    0.493</td>\n",
       "</tr>\n",
       "<tr>\n",
       "  <th>yr_built_log</th>       <td>  -10.2420</td> <td>    0.474</td> <td>  -21.628</td> <td> 0.000</td> <td>  -11.170</td> <td>   -9.314</td>\n",
       "</tr>\n",
       "<tr>\n",
       "  <th>sqft_lot_log</th>       <td>   -0.0568</td> <td>    0.007</td> <td>   -8.609</td> <td> 0.000</td> <td>   -0.070</td> <td>   -0.044</td>\n",
       "</tr>\n",
       "<tr>\n",
       "  <th>grade_10</th>           <td>    1.0042</td> <td>    0.055</td> <td>   18.399</td> <td> 0.000</td> <td>    0.897</td> <td>    1.111</td>\n",
       "</tr>\n",
       "<tr>\n",
       "  <th>grade_9</th>            <td>    0.7792</td> <td>    0.050</td> <td>   15.442</td> <td> 0.000</td> <td>    0.680</td> <td>    0.878</td>\n",
       "</tr>\n",
       "<tr>\n",
       "  <th>grade_11</th>           <td>    1.2017</td> <td>    0.062</td> <td>   19.409</td> <td> 0.000</td> <td>    1.080</td> <td>    1.323</td>\n",
       "</tr>\n",
       "<tr>\n",
       "  <th>grade_8</th>            <td>    0.5463</td> <td>    0.047</td> <td>   11.658</td> <td> 0.000</td> <td>    0.454</td> <td>    0.638</td>\n",
       "</tr>\n",
       "<tr>\n",
       "  <th>grade_12</th>           <td>    1.5047</td> <td>    0.089</td> <td>   16.895</td> <td> 0.000</td> <td>    1.330</td> <td>    1.679</td>\n",
       "</tr>\n",
       "<tr>\n",
       "  <th>grade_7</th>            <td>    0.3305</td> <td>    0.045</td> <td>    7.417</td> <td> 0.000</td> <td>    0.243</td> <td>    0.418</td>\n",
       "</tr>\n",
       "<tr>\n",
       "  <th>waterfront_1.0</th>     <td>    0.5612</td> <td>    0.051</td> <td>   11.064</td> <td> 0.000</td> <td>    0.462</td> <td>    0.661</td>\n",
       "</tr>\n",
       "<tr>\n",
       "  <th>grade_13</th>           <td>    1.8173</td> <td>    0.187</td> <td>    9.743</td> <td> 0.000</td> <td>    1.452</td> <td>    2.183</td>\n",
       "</tr>\n",
       "<tr>\n",
       "  <th>floors_3.0</th>         <td>    0.2327</td> <td>    0.037</td> <td>    6.341</td> <td> 0.000</td> <td>    0.161</td> <td>    0.305</td>\n",
       "</tr>\n",
       "<tr>\n",
       "  <th>bedrooms_2</th>         <td>    0.1087</td> <td>    0.017</td> <td>    6.326</td> <td> 0.000</td> <td>    0.075</td> <td>    0.142</td>\n",
       "</tr>\n",
       "<tr>\n",
       "  <th>condition_5</th>        <td>    0.1190</td> <td>    0.020</td> <td>    5.864</td> <td> 0.000</td> <td>    0.079</td> <td>    0.159</td>\n",
       "</tr>\n",
       "<tr>\n",
       "  <th>sale_month_4</th>       <td>    0.0855</td> <td>    0.017</td> <td>    5.134</td> <td> 0.000</td> <td>    0.053</td> <td>    0.118</td>\n",
       "</tr>\n",
       "<tr>\n",
       "  <th>grade_6</th>            <td>    0.1223</td> <td>    0.045</td> <td>    2.692</td> <td> 0.007</td> <td>    0.033</td> <td>    0.211</td>\n",
       "</tr>\n",
       "<tr>\n",
       "  <th>bedrooms_4</th>         <td>   -0.0268</td> <td>    0.012</td> <td>   -2.313</td> <td> 0.021</td> <td>   -0.049</td> <td>   -0.004</td>\n",
       "</tr>\n",
       "<tr>\n",
       "  <th>condition_2</th>        <td>   -0.1712</td> <td>    0.057</td> <td>   -3.025</td> <td> 0.003</td> <td>   -0.282</td> <td>   -0.060</td>\n",
       "</tr>\n",
       "<tr>\n",
       "  <th>sale_month_3</th>       <td>    0.0469</td> <td>    0.017</td> <td>    2.711</td> <td> 0.007</td> <td>    0.013</td> <td>    0.081</td>\n",
       "</tr>\n",
       "<tr>\n",
       "  <th>floors_2.0</th>         <td>    0.0162</td> <td>    0.014</td> <td>    1.142</td> <td> 0.254</td> <td>   -0.012</td> <td>    0.044</td>\n",
       "</tr>\n",
       "<tr>\n",
       "  <th>condition_4</th>        <td>    0.0266</td> <td>    0.012</td> <td>    2.157</td> <td> 0.031</td> <td>    0.002</td> <td>    0.051</td>\n",
       "</tr>\n",
       "<tr>\n",
       "  <th>yrs_renovated_66.0</th> <td> 2.058e-14</td> <td> 2.09e-15</td> <td>    9.834</td> <td> 0.000</td> <td> 1.65e-14</td> <td> 2.47e-14</td>\n",
       "</tr>\n",
       "<tr>\n",
       "  <th>floors_1.5</th>         <td>    0.0240</td> <td>    0.020</td> <td>    1.184</td> <td> 0.236</td> <td>   -0.016</td> <td>    0.064</td>\n",
       "</tr>\n",
       "<tr>\n",
       "  <th>yrs_renovated_13.0</th> <td>    0.1609</td> <td>    0.125</td> <td>    1.287</td> <td> 0.198</td> <td>   -0.084</td> <td>    0.406</td>\n",
       "</tr>\n",
       "<tr>\n",
       "  <th>floors_2.5</th>         <td>    0.0128</td> <td>    0.063</td> <td>    0.203</td> <td> 0.839</td> <td>   -0.111</td> <td>    0.136</td>\n",
       "</tr>\n",
       "<tr>\n",
       "  <th>yrs_renovated_10.0</th> <td>    0.2182</td> <td>    0.176</td> <td>    1.236</td> <td> 0.216</td> <td>   -0.128</td> <td>    0.564</td>\n",
       "</tr>\n",
       "<tr>\n",
       "  <th>yrs_renovated_14.0</th> <td>    0.0066</td> <td>    0.218</td> <td>    0.030</td> <td> 0.976</td> <td>   -0.421</td> <td>    0.434</td>\n",
       "</tr>\n",
       "<tr>\n",
       "  <th>sale_month_5</th>       <td>    0.0320</td> <td>    0.016</td> <td>    1.946</td> <td> 0.052</td> <td>   -0.000</td> <td>    0.064</td>\n",
       "</tr>\n",
       "</table>\n",
       "<table class=\"simpletable\">\n",
       "<tr>\n",
       "  <th>Omnibus:</th>       <td>14.230</td> <th>  Durbin-Watson:     </th> <td>   1.966</td>\n",
       "</tr>\n",
       "<tr>\n",
       "  <th>Prob(Omnibus):</th> <td> 0.001</td> <th>  Jarque-Bera (JB):  </th> <td>  18.261</td>\n",
       "</tr>\n",
       "<tr>\n",
       "  <th>Skew:</th>          <td> 0.032</td> <th>  Prob(JB):          </th> <td>0.000108</td>\n",
       "</tr>\n",
       "<tr>\n",
       "  <th>Kurtosis:</th>      <td> 3.332</td> <th>  Cond. No.          </th> <td>1.00e+16</td>\n",
       "</tr>\n",
       "</table><br/><br/>Warnings:<br/>[1] Standard Errors assume that the covariance matrix of the errors is correctly specified.<br/>[2] The smallest eigenvalue is 9.74e-27. This might indicate that there are<br/>strong multicollinearity problems or that the design matrix is singular."
      ],
      "text/plain": [
       "<class 'statsmodels.iolib.summary.Summary'>\n",
       "\"\"\"\n",
       "                            OLS Regression Results                            \n",
       "==============================================================================\n",
       "Dep. Variable:              price_log   R-squared:                       0.675\n",
       "Model:                            OLS   Adj. R-squared:                  0.672\n",
       "Method:                 Least Squares   F-statistic:                     282.6\n",
       "Date:                Sat, 31 Oct 2020   Prob (F-statistic):               0.00\n",
       "Time:                        12:01:47   Log-Likelihood:                -875.07\n",
       "No. Observations:                3844   AIC:                             1808.\n",
       "Df Residuals:                    3815   BIC:                             1990.\n",
       "Df Model:                          28                                         \n",
       "Covariance Type:            nonrobust                                         \n",
       "======================================================================================\n",
       "                         coef    std err          t      P>|t|      [0.025      0.975]\n",
       "--------------------------------------------------------------------------------------\n",
       "const                 85.4455      3.585     23.837      0.000      78.418      92.473\n",
       "sqft_living15_log      0.2502      0.025     10.117      0.000       0.202       0.299\n",
       "sqft_living_log        0.4491      0.022     20.121      0.000       0.405       0.493\n",
       "yr_built_log         -10.2420      0.474    -21.628      0.000     -11.170      -9.314\n",
       "sqft_lot_log          -0.0568      0.007     -8.609      0.000      -0.070      -0.044\n",
       "grade_10               1.0042      0.055     18.399      0.000       0.897       1.111\n",
       "grade_9                0.7792      0.050     15.442      0.000       0.680       0.878\n",
       "grade_11               1.2017      0.062     19.409      0.000       1.080       1.323\n",
       "grade_8                0.5463      0.047     11.658      0.000       0.454       0.638\n",
       "grade_12               1.5047      0.089     16.895      0.000       1.330       1.679\n",
       "grade_7                0.3305      0.045      7.417      0.000       0.243       0.418\n",
       "waterfront_1.0         0.5612      0.051     11.064      0.000       0.462       0.661\n",
       "grade_13               1.8173      0.187      9.743      0.000       1.452       2.183\n",
       "floors_3.0             0.2327      0.037      6.341      0.000       0.161       0.305\n",
       "bedrooms_2             0.1087      0.017      6.326      0.000       0.075       0.142\n",
       "condition_5            0.1190      0.020      5.864      0.000       0.079       0.159\n",
       "sale_month_4           0.0855      0.017      5.134      0.000       0.053       0.118\n",
       "grade_6                0.1223      0.045      2.692      0.007       0.033       0.211\n",
       "bedrooms_4            -0.0268      0.012     -2.313      0.021      -0.049      -0.004\n",
       "condition_2           -0.1712      0.057     -3.025      0.003      -0.282      -0.060\n",
       "sale_month_3           0.0469      0.017      2.711      0.007       0.013       0.081\n",
       "floors_2.0             0.0162      0.014      1.142      0.254      -0.012       0.044\n",
       "condition_4            0.0266      0.012      2.157      0.031       0.002       0.051\n",
       "yrs_renovated_66.0  2.058e-14   2.09e-15      9.834      0.000    1.65e-14    2.47e-14\n",
       "floors_1.5             0.0240      0.020      1.184      0.236      -0.016       0.064\n",
       "yrs_renovated_13.0     0.1609      0.125      1.287      0.198      -0.084       0.406\n",
       "floors_2.5             0.0128      0.063      0.203      0.839      -0.111       0.136\n",
       "yrs_renovated_10.0     0.2182      0.176      1.236      0.216      -0.128       0.564\n",
       "yrs_renovated_14.0     0.0066      0.218      0.030      0.976      -0.421       0.434\n",
       "sale_month_5           0.0320      0.016      1.946      0.052      -0.000       0.064\n",
       "==============================================================================\n",
       "Omnibus:                       14.230   Durbin-Watson:                   1.966\n",
       "Prob(Omnibus):                  0.001   Jarque-Bera (JB):               18.261\n",
       "Skew:                           0.032   Prob(JB):                     0.000108\n",
       "Kurtosis:                       3.332   Cond. No.                     1.00e+16\n",
       "==============================================================================\n",
       "\n",
       "Warnings:\n",
       "[1] Standard Errors assume that the covariance matrix of the errors is correctly specified.\n",
       "[2] The smallest eigenvalue is 9.74e-27. This might indicate that there are\n",
       "strong multicollinearity problems or that the design matrix is singular.\n",
       "\"\"\""
      ]
     },
     "execution_count": 23,
     "metadata": {},
     "output_type": "execute_result"
    }
   ],
   "source": [
    "X_fin = X_test[selected_columns]\n",
    "X_with_intercept = sm.add_constant(X_fin)\n",
    "model = sm.OLS(y_test,X_with_intercept).fit()\n",
    "model.summary()"
   ]
  },
  {
   "cell_type": "code",
   "execution_count": 24,
   "metadata": {},
   "outputs": [
    {
     "data": {
      "image/png": "[encoded data removed]",
      "text/plain": [
       "<Figure size 432x288 with 1 Axes>"
      ]
     },
     "metadata": {
      "needs_background": "light"
     },
     "output_type": "display_data"
    }
   ],
   "source": [
    "fig = sm.graphics.qqplot(model.resid, dist=stats.norm, line='45', fit=True)"
   ]
  },
  {
   "cell_type": "code",
   "execution_count": 25,
   "metadata": {},
   "outputs": [
    {
     "data": {
      "text/plain": [
       "<matplotlib.collections.PathCollection at 0x21c80f009e8>"
      ]
     },
     "execution_count": 25,
     "metadata": {},
     "output_type": "execute_result"
    },
    {
     "data": {
      "image/png": "[encoded data removed]",
      "text/plain": [
       "<Figure size 432x288 with 1 Axes>"
      ]
     },
     "metadata": {
      "needs_background": "light"
     },
     "output_type": "display_data"
    }
   ],
   "source": [
    "plt.scatter(y_hat_test, model.resid)"
   ]
  },
  {
   "cell_type": "code",
   "execution_count": null,
   "metadata": {},
   "outputs": [],
   "source": []
  }
 ],
 "metadata": {
  "kernelspec": {
   "display_name": "Python [conda env:learn-env] *",
   "language": "python",
   "name": "conda-env-learn-env-py"
  },
  "language_info": {
   "codemirror_mode": {
    "name": "ipython",
    "version": 3
   },
   "file_extension": ".py",
   "mimetype": "text/x-python",
   "name": "python",
   "nbconvert_exporter": "python",
   "pygments_lexer": "ipython3",
   "version": "3.6.9"
  }
 },
 "nbformat": 4,
 "nbformat_minor": 2
}
