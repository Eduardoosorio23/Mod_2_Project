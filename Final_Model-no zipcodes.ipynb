{
 "cells": [
  {
   "cell_type": "markdown",
   "metadata": {},
   "source": [
    "## Final Project Submission¶\n",
    "\n",
    "Student name: Eduardo Osorio\n",
    "\n",
    "Student pace: part time \n",
    "\n",
    "Scheduled project review date/time:\n",
    "\n",
    "Instructor name: Yish Lim\n",
    "\n",
    "Blog post URL:"
   ]
  },
  {
   "cell_type": "markdown",
   "metadata": {},
   "source": [
    "## Log transform and dummy variables\n",
    "- We log transformed to make the data less skewed\n",
    "\n",
    "- created dummy variables before running train-test split"
   ]
  },
  {
   "cell_type": "code",
   "execution_count": 2,
   "metadata": {},
   "outputs": [],
   "source": [
    "import pandas as pd\n",
    "import numpy as np\n",
    "import matplotlib.pyplot as plt\n",
    "\n",
    "kcc = pd.read_csv('data_files/kc_cleaned.csv')\n",
    "\n",
    "continuous = ['price', 'sqft_living', 'sqft_lot', 'sqft_living15', 'yr_built']\n",
    "categoricals = ['bedrooms', 'floors', 'waterfront', 'grade', 'condition', 'yrs_renovated', 'sale_month']\n",
    "\n",
    "kcc_cont = kcc[continuous]\n",
    "\n",
    "# log features\n",
    "log_names = [f'{column}_log' for column in kcc_cont.columns]\n",
    "\n",
    "kcc_log = np.log(kcc_cont)\n",
    "kcc_log.columns = log_names\n",
    "\n",
    "# normalize (subract mean and divide by std)\n",
    "\n",
    "# def normalize(feature):b\n",
    "#     return (feature - feature.mean()) / feature.std()\n",
    "\n",
    "# kcc_log_norm = kcc_log.apply(normalize)\n",
    "\n",
    "# one hot encode categoricals\n",
    "kcc_ohe = pd.get_dummies(kcc[categoricals], columns=['bedrooms', 'floors', 'waterfront', 'grade', 'condition', 'yrs_renovated', 'sale_month'], drop_first=True)\n",
    "\n",
    "preprocessed = pd.concat([kcc_log, kcc_ohe], axis=1)"
   ]
  },
  {
   "cell_type": "code",
   "execution_count": 3,
   "metadata": {},
   "outputs": [
    {
     "data": {
      "text/html": [
       "<div>\n",
       "<style scoped>\n",
       "    .dataframe tbody tr th:only-of-type {\n",
       "        vertical-align: middle;\n",
       "    }\n",
       "\n",
       "    .dataframe tbody tr th {\n",
       "        vertical-align: top;\n",
       "    }\n",
       "\n",
       "    .dataframe thead th {\n",
       "        text-align: right;\n",
       "    }\n",
       "</style>\n",
       "<table border=\"1\" class=\"dataframe\">\n",
       "  <thead>\n",
       "    <tr style=\"text-align: right;\">\n",
       "      <th></th>\n",
       "      <th>price_log</th>\n",
       "      <th>sqft_living_log</th>\n",
       "      <th>sqft_lot_log</th>\n",
       "      <th>sqft_living15_log</th>\n",
       "      <th>yr_built_log</th>\n",
       "      <th>bedrooms_2</th>\n",
       "      <th>bedrooms_3</th>\n",
       "      <th>bedrooms_4</th>\n",
       "      <th>bedrooms_5</th>\n",
       "      <th>bedrooms_6</th>\n",
       "      <th>...</th>\n",
       "      <th>sale_month_3</th>\n",
       "      <th>sale_month_4</th>\n",
       "      <th>sale_month_5</th>\n",
       "      <th>sale_month_6</th>\n",
       "      <th>sale_month_7</th>\n",
       "      <th>sale_month_8</th>\n",
       "      <th>sale_month_9</th>\n",
       "      <th>sale_month_10</th>\n",
       "      <th>sale_month_11</th>\n",
       "      <th>sale_month_12</th>\n",
       "    </tr>\n",
       "  </thead>\n",
       "  <tbody>\n",
       "    <tr>\n",
       "      <td>0</td>\n",
       "      <td>13.195614</td>\n",
       "      <td>7.851661</td>\n",
       "      <td>8.887653</td>\n",
       "      <td>7.432484</td>\n",
       "      <td>7.576097</td>\n",
       "      <td>0</td>\n",
       "      <td>1</td>\n",
       "      <td>0</td>\n",
       "      <td>0</td>\n",
       "      <td>0</td>\n",
       "      <td>...</td>\n",
       "      <td>0</td>\n",
       "      <td>0</td>\n",
       "      <td>0</td>\n",
       "      <td>0</td>\n",
       "      <td>0</td>\n",
       "      <td>0</td>\n",
       "      <td>0</td>\n",
       "      <td>0</td>\n",
       "      <td>0</td>\n",
       "      <td>1</td>\n",
       "    </tr>\n",
       "    <tr>\n",
       "      <td>1</td>\n",
       "      <td>12.100712</td>\n",
       "      <td>6.646391</td>\n",
       "      <td>9.210340</td>\n",
       "      <td>7.908387</td>\n",
       "      <td>7.566828</td>\n",
       "      <td>1</td>\n",
       "      <td>0</td>\n",
       "      <td>0</td>\n",
       "      <td>0</td>\n",
       "      <td>0</td>\n",
       "      <td>...</td>\n",
       "      <td>0</td>\n",
       "      <td>0</td>\n",
       "      <td>0</td>\n",
       "      <td>0</td>\n",
       "      <td>0</td>\n",
       "      <td>0</td>\n",
       "      <td>0</td>\n",
       "      <td>0</td>\n",
       "      <td>0</td>\n",
       "      <td>0</td>\n",
       "    </tr>\n",
       "    <tr>\n",
       "      <td>2</td>\n",
       "      <td>13.311329</td>\n",
       "      <td>7.580700</td>\n",
       "      <td>8.517193</td>\n",
       "      <td>7.215240</td>\n",
       "      <td>7.583248</td>\n",
       "      <td>0</td>\n",
       "      <td>0</td>\n",
       "      <td>1</td>\n",
       "      <td>0</td>\n",
       "      <td>0</td>\n",
       "      <td>...</td>\n",
       "      <td>0</td>\n",
       "      <td>0</td>\n",
       "      <td>0</td>\n",
       "      <td>0</td>\n",
       "      <td>0</td>\n",
       "      <td>0</td>\n",
       "      <td>0</td>\n",
       "      <td>0</td>\n",
       "      <td>0</td>\n",
       "      <td>1</td>\n",
       "    </tr>\n",
       "    <tr>\n",
       "      <td>3</td>\n",
       "      <td>13.142166</td>\n",
       "      <td>7.426549</td>\n",
       "      <td>8.997147</td>\n",
       "      <td>7.495542</td>\n",
       "      <td>7.594381</td>\n",
       "      <td>0</td>\n",
       "      <td>1</td>\n",
       "      <td>0</td>\n",
       "      <td>0</td>\n",
       "      <td>0</td>\n",
       "      <td>...</td>\n",
       "      <td>0</td>\n",
       "      <td>0</td>\n",
       "      <td>0</td>\n",
       "      <td>0</td>\n",
       "      <td>0</td>\n",
       "      <td>0</td>\n",
       "      <td>0</td>\n",
       "      <td>0</td>\n",
       "      <td>0</td>\n",
       "      <td>0</td>\n",
       "    </tr>\n",
       "    <tr>\n",
       "      <td>4</td>\n",
       "      <td>14.022525</td>\n",
       "      <td>8.597851</td>\n",
       "      <td>11.532042</td>\n",
       "      <td>8.468003</td>\n",
       "      <td>7.601402</td>\n",
       "      <td>0</td>\n",
       "      <td>0</td>\n",
       "      <td>1</td>\n",
       "      <td>0</td>\n",
       "      <td>0</td>\n",
       "      <td>...</td>\n",
       "      <td>0</td>\n",
       "      <td>0</td>\n",
       "      <td>1</td>\n",
       "      <td>0</td>\n",
       "      <td>0</td>\n",
       "      <td>0</td>\n",
       "      <td>0</td>\n",
       "      <td>0</td>\n",
       "      <td>0</td>\n",
       "      <td>0</td>\n",
       "    </tr>\n",
       "    <tr>\n",
       "      <td>...</td>\n",
       "      <td>...</td>\n",
       "      <td>...</td>\n",
       "      <td>...</td>\n",
       "      <td>...</td>\n",
       "      <td>...</td>\n",
       "      <td>...</td>\n",
       "      <td>...</td>\n",
       "      <td>...</td>\n",
       "      <td>...</td>\n",
       "      <td>...</td>\n",
       "      <td>...</td>\n",
       "      <td>...</td>\n",
       "      <td>...</td>\n",
       "      <td>...</td>\n",
       "      <td>...</td>\n",
       "      <td>...</td>\n",
       "      <td>...</td>\n",
       "      <td>...</td>\n",
       "      <td>...</td>\n",
       "      <td>...</td>\n",
       "      <td>...</td>\n",
       "    </tr>\n",
       "    <tr>\n",
       "      <td>19211</td>\n",
       "      <td>13.071070</td>\n",
       "      <td>7.177782</td>\n",
       "      <td>7.165493</td>\n",
       "      <td>7.192934</td>\n",
       "      <td>7.604894</td>\n",
       "      <td>0</td>\n",
       "      <td>1</td>\n",
       "      <td>0</td>\n",
       "      <td>0</td>\n",
       "      <td>0</td>\n",
       "      <td>...</td>\n",
       "      <td>0</td>\n",
       "      <td>0</td>\n",
       "      <td>0</td>\n",
       "      <td>0</td>\n",
       "      <td>0</td>\n",
       "      <td>0</td>\n",
       "      <td>0</td>\n",
       "      <td>0</td>\n",
       "      <td>0</td>\n",
       "      <td>0</td>\n",
       "    </tr>\n",
       "    <tr>\n",
       "      <td>19212</td>\n",
       "      <td>12.793859</td>\n",
       "      <td>7.333023</td>\n",
       "      <td>7.030857</td>\n",
       "      <td>7.333023</td>\n",
       "      <td>7.605392</td>\n",
       "      <td>0</td>\n",
       "      <td>1</td>\n",
       "      <td>0</td>\n",
       "      <td>0</td>\n",
       "      <td>0</td>\n",
       "      <td>...</td>\n",
       "      <td>0</td>\n",
       "      <td>0</td>\n",
       "      <td>1</td>\n",
       "      <td>0</td>\n",
       "      <td>0</td>\n",
       "      <td>0</td>\n",
       "      <td>0</td>\n",
       "      <td>0</td>\n",
       "      <td>0</td>\n",
       "      <td>0</td>\n",
       "    </tr>\n",
       "    <tr>\n",
       "      <td>19213</td>\n",
       "      <td>12.899220</td>\n",
       "      <td>7.745003</td>\n",
       "      <td>8.667852</td>\n",
       "      <td>7.512071</td>\n",
       "      <td>7.607878</td>\n",
       "      <td>0</td>\n",
       "      <td>0</td>\n",
       "      <td>1</td>\n",
       "      <td>0</td>\n",
       "      <td>0</td>\n",
       "      <td>...</td>\n",
       "      <td>0</td>\n",
       "      <td>0</td>\n",
       "      <td>0</td>\n",
       "      <td>0</td>\n",
       "      <td>0</td>\n",
       "      <td>0</td>\n",
       "      <td>0</td>\n",
       "      <td>0</td>\n",
       "      <td>0</td>\n",
       "      <td>0</td>\n",
       "    </tr>\n",
       "    <tr>\n",
       "      <td>19214</td>\n",
       "      <td>12.904459</td>\n",
       "      <td>6.927558</td>\n",
       "      <td>7.207860</td>\n",
       "      <td>6.927558</td>\n",
       "      <td>7.605392</td>\n",
       "      <td>1</td>\n",
       "      <td>0</td>\n",
       "      <td>0</td>\n",
       "      <td>0</td>\n",
       "      <td>0</td>\n",
       "      <td>...</td>\n",
       "      <td>0</td>\n",
       "      <td>0</td>\n",
       "      <td>0</td>\n",
       "      <td>1</td>\n",
       "      <td>0</td>\n",
       "      <td>0</td>\n",
       "      <td>0</td>\n",
       "      <td>0</td>\n",
       "      <td>0</td>\n",
       "      <td>0</td>\n",
       "    </tr>\n",
       "    <tr>\n",
       "      <td>19215</td>\n",
       "      <td>12.691580</td>\n",
       "      <td>6.927558</td>\n",
       "      <td>6.981006</td>\n",
       "      <td>6.927558</td>\n",
       "      <td>7.604894</td>\n",
       "      <td>1</td>\n",
       "      <td>0</td>\n",
       "      <td>0</td>\n",
       "      <td>0</td>\n",
       "      <td>0</td>\n",
       "      <td>...</td>\n",
       "      <td>0</td>\n",
       "      <td>0</td>\n",
       "      <td>0</td>\n",
       "      <td>0</td>\n",
       "      <td>0</td>\n",
       "      <td>0</td>\n",
       "      <td>0</td>\n",
       "      <td>1</td>\n",
       "      <td>0</td>\n",
       "      <td>0</td>\n",
       "    </tr>\n",
       "  </tbody>\n",
       "</table>\n",
       "<p>19216 rows × 113 columns</p>\n",
       "</div>"
      ],
      "text/plain": [
       "       price_log  sqft_living_log  sqft_lot_log  sqft_living15_log  \\\n",
       "0      13.195614         7.851661      8.887653           7.432484   \n",
       "1      12.100712         6.646391      9.210340           7.908387   \n",
       "2      13.311329         7.580700      8.517193           7.215240   \n",
       "3      13.142166         7.426549      8.997147           7.495542   \n",
       "4      14.022525         8.597851     11.532042           8.468003   \n",
       "...          ...              ...           ...                ...   \n",
       "19211  13.071070         7.177782      7.165493           7.192934   \n",
       "19212  12.793859         7.333023      7.030857           7.333023   \n",
       "19213  12.899220         7.745003      8.667852           7.512071   \n",
       "19214  12.904459         6.927558      7.207860           6.927558   \n",
       "19215  12.691580         6.927558      6.981006           6.927558   \n",
       "\n",
       "       yr_built_log  bedrooms_2  bedrooms_3  bedrooms_4  bedrooms_5  \\\n",
       "0          7.576097           0           1           0           0   \n",
       "1          7.566828           1           0           0           0   \n",
       "2          7.583248           0           0           1           0   \n",
       "3          7.594381           0           1           0           0   \n",
       "4          7.601402           0           0           1           0   \n",
       "...             ...         ...         ...         ...         ...   \n",
       "19211      7.604894           0           1           0           0   \n",
       "19212      7.605392           0           1           0           0   \n",
       "19213      7.607878           0           0           1           0   \n",
       "19214      7.605392           1           0           0           0   \n",
       "19215      7.604894           1           0           0           0   \n",
       "\n",
       "       bedrooms_6  ...  sale_month_3  sale_month_4  sale_month_5  \\\n",
       "0               0  ...             0             0             0   \n",
       "1               0  ...             0             0             0   \n",
       "2               0  ...             0             0             0   \n",
       "3               0  ...             0             0             0   \n",
       "4               0  ...             0             0             1   \n",
       "...           ...  ...           ...           ...           ...   \n",
       "19211           0  ...             0             0             0   \n",
       "19212           0  ...             0             0             1   \n",
       "19213           0  ...             0             0             0   \n",
       "19214           0  ...             0             0             0   \n",
       "19215           0  ...             0             0             0   \n",
       "\n",
       "       sale_month_6  sale_month_7  sale_month_8  sale_month_9  sale_month_10  \\\n",
       "0                 0             0             0             0              0   \n",
       "1                 0             0             0             0              0   \n",
       "2                 0             0             0             0              0   \n",
       "3                 0             0             0             0              0   \n",
       "4                 0             0             0             0              0   \n",
       "...             ...           ...           ...           ...            ...   \n",
       "19211             0             0             0             0              0   \n",
       "19212             0             0             0             0              0   \n",
       "19213             0             0             0             0              0   \n",
       "19214             1             0             0             0              0   \n",
       "19215             0             0             0             0              1   \n",
       "\n",
       "       sale_month_11  sale_month_12  \n",
       "0                  0              1  \n",
       "1                  0              0  \n",
       "2                  0              1  \n",
       "3                  0              0  \n",
       "4                  0              0  \n",
       "...              ...            ...  \n",
       "19211              0              0  \n",
       "19212              0              0  \n",
       "19213              0              0  \n",
       "19214              0              0  \n",
       "19215              0              0  \n",
       "\n",
       "[19216 rows x 113 columns]"
      ]
     },
     "execution_count": 3,
     "metadata": {},
     "output_type": "execute_result"
    }
   ],
   "source": [
    "preprocessed"
   ]
  },
  {
   "cell_type": "code",
   "execution_count": null,
   "metadata": {},
   "outputs": [],
   "source": []
  },
  {
   "cell_type": "markdown",
   "metadata": {},
   "source": [
    "## Stepwise Function\n",
    "- using a stwepwise funtion with backwards elimination to drop p-values over .05"
   ]
  },
  {
   "cell_type": "code",
   "execution_count": 4,
   "metadata": {},
   "outputs": [],
   "source": [
    "import statsmodels.api as sm\n",
    "\n",
    "def stepwise_selection(X, y, \n",
    "                       initial_list=[], \n",
    "                       threshold_in=0.01, \n",
    "                       threshold_out = 0.05, # Pvals over .05 are dropped\n",
    "                       verbose=True):\n",
    " \n",
    "    included = list(initial_list)\n",
    "    while True:\n",
    "        changed=False\n",
    "        # forward step\n",
    "        excluded = list(set(X.columns)-set(included))\n",
    "        new_pval = pd.Series(index=excluded)\n",
    "        for new_column in excluded:\n",
    "            model = sm.OLS(y, sm.add_constant(pd.DataFrame(X[included+[new_column]]))).fit()\n",
    "            new_pval[new_column] = model.pvalues[new_column]\n",
    "        best_pval = new_pval.min()\n",
    "        if best_pval < threshold_in:\n",
    "            best_feature = new_pval.idxmin()\n",
    "            included.append(best_feature)\n",
    "            changed=True\n",
    "            if verbose:\n",
    "                print('Add  {:30} with p-value {:.6}'.format(best_feature, best_pval)) #Adding pvals under the threshold\n",
    "\n",
    "        # backward step\n",
    "        model = sm.OLS(y, sm.add_constant(pd.DataFrame(X[included]))).fit()\n",
    "        # use all coefs except intercept\n",
    "        pvalues = model.pvalues.iloc[1:]\n",
    "        worst_pval = pvalues.max() # null if pvalues is empty\n",
    "        if worst_pval > threshold_out:\n",
    "            changed=True\n",
    "            worst_feature = pvalues.argmax()\n",
    "            included.remove(worst_feature)\n",
    "            if verbose:\n",
    "                print('Drop {:30} with p-value {:.6}'.format(worst_feature, worst_pval)) #drops pvals over thershold\n",
    "        if not changed:\n",
    "            break\n",
    "    return included"
   ]
  },
  {
   "cell_type": "markdown",
   "metadata": {},
   "source": [
    "## Train-Test Split\n",
    "- Using train test split to make sample size of 20 % "
   ]
  },
  {
   "cell_type": "code",
   "execution_count": 5,
   "metadata": {},
   "outputs": [],
   "source": [
    "from sklearn.model_selection import train_test_split"
   ]
  },
  {
   "cell_type": "code",
   "execution_count": 6,
   "metadata": {},
   "outputs": [],
   "source": [
    "X = preprocessed.drop('price_log', axis=1)\n",
    "y = preprocessed['price_log']"
   ]
  },
  {
   "cell_type": "code",
   "execution_count": 7,
   "metadata": {},
   "outputs": [],
   "source": [
    "X_train, X_test, y_train, y_test = train_test_split(X, y, test_size=0.20)\n",
    "# Using a test size of 20%"
   ]
  },
  {
   "cell_type": "markdown",
   "metadata": {},
   "source": [
    "## Running the stepwise\n",
    "- Ran the stepwise function on the X_train and y_train  to eliminate p-values over .05"
   ]
  },
  {
   "cell_type": "code",
   "execution_count": 8,
   "metadata": {
    "scrolled": false
   },
   "outputs": [
    {
     "name": "stderr",
     "output_type": "stream",
     "text": [
      "C:\\Users\\eduar\\anaconda3\\envs\\learn-env\\lib\\site-packages\\numpy\\core\\fromnumeric.py:2389: FutureWarning: Method .ptp is deprecated and will be removed in a future version. Use numpy.ptp instead.\n",
      "  return ptp(axis=axis, out=out, **kwargs)\n",
      "C:\\Users\\eduar\\anaconda3\\envs\\learn-env\\lib\\site-packages\\statsmodels\\base\\model.py:1294: RuntimeWarning: invalid value encountered in true_divide\n",
      "  return self.params / self.bse\n",
      "C:\\Users\\eduar\\anaconda3\\envs\\learn-env\\lib\\site-packages\\scipy\\stats\\_distn_infrastructure.py:901: RuntimeWarning: invalid value encountered in greater\n",
      "  return (a < x) & (x < b)\n",
      "C:\\Users\\eduar\\anaconda3\\envs\\learn-env\\lib\\site-packages\\scipy\\stats\\_distn_infrastructure.py:901: RuntimeWarning: invalid value encountered in less\n",
      "  return (a < x) & (x < b)\n",
      "C:\\Users\\eduar\\anaconda3\\envs\\learn-env\\lib\\site-packages\\scipy\\stats\\_distn_infrastructure.py:1892: RuntimeWarning: invalid value encountered in less_equal\n",
      "  cond2 = cond0 & (x <= _a)\n"
     ]
    },
    {
     "name": "stdout",
     "output_type": "stream",
     "text": [
      "Add  grade_6                        with p-value 0.0\n",
      "Add  sqft_living_log                with p-value 0.0\n",
      "Add  yr_built_log                   with p-value 2.96781e-208\n",
      "Add  grade_7                        with p-value 0.0\n",
      "Add  grade_8                        with p-value 5.35003e-204\n",
      "Add  grade_5                        with p-value 1.0747e-221\n",
      "Add  grade_9                        with p-value 9.0687e-107\n",
      "Add  waterfront_1.0                 with p-value 1.59362e-88\n",
      "Add  sqft_lot_log                   with p-value 1.82427e-88\n",
      "Add  sqft_living15_log              with p-value 2.74133e-88\n",
      "Add  grade_4                        with p-value 4.15822e-59\n",
      "Add  floors_3.0                     with p-value 2.42517e-44\n",
      "Add  bedrooms_2                     with p-value 4.78185e-40\n",
      "Add  grade_10                       with p-value 6.68903e-33\n",
      "Add  condition_5                    with p-value 3.45083e-21\n",
      "Add  sale_month_4                   with p-value 1.65251e-12\n",
      "Add  grade_11                       with p-value 1.08478e-10\n",
      "Add  sale_month_3                   with p-value 5.03015e-07\n",
      "Add  bedrooms_4                     with p-value 8.23919e-07\n",
      "Add  condition_2                    with p-value 4.00567e-05\n",
      "Add  floors_2.0                     with p-value 0.000706459\n",
      "Add  condition_4                    with p-value 0.000475632\n",
      "Add  condition_3                    with p-value 0.00019238\n",
      "Drop condition_2                    with p-value 0.0606199\n"
     ]
    },
    {
     "name": "stderr",
     "output_type": "stream",
     "text": [
      "C:\\Users\\eduar\\anaconda3\\envs\\learn-env\\lib\\site-packages\\ipykernel_launcher.py:33: FutureWarning: \n",
      "The current behaviour of 'Series.argmax' is deprecated, use 'idxmax'\n",
      "instead.\n",
      "The behavior of 'argmax' will be corrected to return the positional\n",
      "maximum in the future. For now, use 'series.values.argmax' or\n",
      "'np.argmax(np.array(values))' to get the position of the maximum\n",
      "row.\n"
     ]
    },
    {
     "name": "stdout",
     "output_type": "stream",
     "text": [
      "Add  yrs_renovated_10.0             with p-value 0.00196191\n",
      "Add  yrs_renovated_13.0             with p-value 0.00242439\n",
      "Add  yrs_renovated_6.0              with p-value 0.00365325\n",
      "Add  floors_2.5                     with p-value 0.00565418\n",
      "Add  floors_1.5                     with p-value 0.00306982\n",
      "Add  yrs_renovated_14.0             with p-value 0.00956628\n",
      "resulting features:\n",
      "['grade_6', 'sqft_living_log', 'yr_built_log', 'grade_7', 'grade_8', 'grade_5', 'grade_9', 'waterfront_1.0', 'sqft_lot_log', 'sqft_living15_log', 'grade_4', 'floors_3.0', 'bedrooms_2', 'grade_10', 'condition_5', 'sale_month_4', 'grade_11', 'sale_month_3', 'bedrooms_4', 'floors_2.0', 'condition_4', 'condition_3', 'yrs_renovated_10.0', 'yrs_renovated_13.0', 'yrs_renovated_6.0', 'floors_2.5', 'floors_1.5', 'yrs_renovated_14.0']\n"
     ]
    }
   ],
   "source": [
    "result = stepwise_selection(X_train, y_train, verbose = True)\n",
    "print('resulting features:')\n",
    "print(result)\n",
    "#Feed x_train and Y_train into the stepwise function"
   ]
  },
  {
   "cell_type": "markdown",
   "metadata": {},
   "source": [
    "## OLS"
   ]
  },
  {
   "cell_type": "code",
   "execution_count": 9,
   "metadata": {
    "scrolled": false
   },
   "outputs": [
    {
     "data": {
      "text/html": [
       "<table class=\"simpletable\">\n",
       "<caption>OLS Regression Results</caption>\n",
       "<tr>\n",
       "  <th>Dep. Variable:</th>        <td>price_log</td>    <th>  R-squared:         </th> <td>   0.659</td>\n",
       "</tr>\n",
       "<tr>\n",
       "  <th>Model:</th>                   <td>OLS</td>       <th>  Adj. R-squared:    </th> <td>   0.658</td>\n",
       "</tr>\n",
       "<tr>\n",
       "  <th>Method:</th>             <td>Least Squares</td>  <th>  F-statistic:       </th> <td>   1059.</td>\n",
       "</tr>\n",
       "<tr>\n",
       "  <th>Date:</th>             <td>Wed, 04 Nov 2020</td> <th>  Prob (F-statistic):</th>  <td>  0.00</td> \n",
       "</tr>\n",
       "<tr>\n",
       "  <th>Time:</th>                 <td>12:42:10</td>     <th>  Log-Likelihood:    </th> <td> -3662.6</td>\n",
       "</tr>\n",
       "<tr>\n",
       "  <th>No. Observations:</th>      <td> 15372</td>      <th>  AIC:               </th> <td>   7383.</td>\n",
       "</tr>\n",
       "<tr>\n",
       "  <th>Df Residuals:</th>          <td> 15343</td>      <th>  BIC:               </th> <td>   7605.</td>\n",
       "</tr>\n",
       "<tr>\n",
       "  <th>Df Model:</th>              <td>    28</td>      <th>                     </th>     <td> </td>   \n",
       "</tr>\n",
       "<tr>\n",
       "  <th>Covariance Type:</th>      <td>nonrobust</td>    <th>                     </th>     <td> </td>   \n",
       "</tr>\n",
       "</table>\n",
       "<table class=\"simpletable\">\n",
       "<tr>\n",
       "           <td></td>             <th>coef</th>     <th>std err</th>      <th>t</th>      <th>P>|t|</th>  <th>[0.025</th>    <th>0.975]</th>  \n",
       "</tr>\n",
       "<tr>\n",
       "  <th>const</th>              <td>   88.4239</td> <td>    1.804</td> <td>   49.005</td> <td> 0.000</td> <td>   84.887</td> <td>   91.961</td>\n",
       "</tr>\n",
       "<tr>\n",
       "  <th>grade_6</th>            <td>   -1.3173</td> <td>    0.041</td> <td>  -32.447</td> <td> 0.000</td> <td>   -1.397</td> <td>   -1.238</td>\n",
       "</tr>\n",
       "<tr>\n",
       "  <th>sqft_living_log</th>    <td>    0.4428</td> <td>    0.011</td> <td>   39.109</td> <td> 0.000</td> <td>    0.421</td> <td>    0.465</td>\n",
       "</tr>\n",
       "<tr>\n",
       "  <th>yr_built_log</th>       <td>  -10.4763</td> <td>    0.238</td> <td>  -44.036</td> <td> 0.000</td> <td>  -10.943</td> <td>  -10.010</td>\n",
       "</tr>\n",
       "<tr>\n",
       "  <th>grade_7</th>            <td>   -1.1022</td> <td>    0.039</td> <td>  -28.390</td> <td> 0.000</td> <td>   -1.178</td> <td>   -1.026</td>\n",
       "</tr>\n",
       "<tr>\n",
       "  <th>grade_8</th>            <td>   -0.8999</td> <td>    0.038</td> <td>  -23.632</td> <td> 0.000</td> <td>   -0.975</td> <td>   -0.825</td>\n",
       "</tr>\n",
       "<tr>\n",
       "  <th>grade_5</th>            <td>   -1.4680</td> <td>    0.047</td> <td>  -31.188</td> <td> 0.000</td> <td>   -1.560</td> <td>   -1.376</td>\n",
       "</tr>\n",
       "<tr>\n",
       "  <th>grade_9</th>            <td>   -0.6589</td> <td>    0.038</td> <td>  -17.406</td> <td> 0.000</td> <td>   -0.733</td> <td>   -0.585</td>\n",
       "</tr>\n",
       "<tr>\n",
       "  <th>waterfront_1.0</th>     <td>    0.5499</td> <td>    0.028</td> <td>   19.327</td> <td> 0.000</td> <td>    0.494</td> <td>    0.606</td>\n",
       "</tr>\n",
       "<tr>\n",
       "  <th>sqft_lot_log</th>       <td>   -0.0568</td> <td>    0.003</td> <td>  -17.052</td> <td> 0.000</td> <td>   -0.063</td> <td>   -0.050</td>\n",
       "</tr>\n",
       "<tr>\n",
       "  <th>sqft_living15_log</th>  <td>    0.2707</td> <td>    0.013</td> <td>   21.619</td> <td> 0.000</td> <td>    0.246</td> <td>    0.295</td>\n",
       "</tr>\n",
       "<tr>\n",
       "  <th>grade_4</th>            <td>   -1.4711</td> <td>    0.078</td> <td>  -18.930</td> <td> 0.000</td> <td>   -1.623</td> <td>   -1.319</td>\n",
       "</tr>\n",
       "<tr>\n",
       "  <th>floors_3.0</th>         <td>    0.2488</td> <td>    0.017</td> <td>   14.341</td> <td> 0.000</td> <td>    0.215</td> <td>    0.283</td>\n",
       "</tr>\n",
       "<tr>\n",
       "  <th>bedrooms_2</th>         <td>    0.1105</td> <td>    0.009</td> <td>   12.906</td> <td> 0.000</td> <td>    0.094</td> <td>    0.127</td>\n",
       "</tr>\n",
       "<tr>\n",
       "  <th>grade_10</th>           <td>   -0.4532</td> <td>    0.038</td> <td>  -11.813</td> <td> 0.000</td> <td>   -0.528</td> <td>   -0.378</td>\n",
       "</tr>\n",
       "<tr>\n",
       "  <th>condition_5</th>        <td>    0.2383</td> <td>    0.028</td> <td>    8.549</td> <td> 0.000</td> <td>    0.184</td> <td>    0.293</td>\n",
       "</tr>\n",
       "<tr>\n",
       "  <th>sale_month_4</th>       <td>    0.0644</td> <td>    0.008</td> <td>    7.877</td> <td> 0.000</td> <td>    0.048</td> <td>    0.080</td>\n",
       "</tr>\n",
       "<tr>\n",
       "  <th>grade_11</th>           <td>   -0.2669</td> <td>    0.041</td> <td>   -6.502</td> <td> 0.000</td> <td>   -0.347</td> <td>   -0.186</td>\n",
       "</tr>\n",
       "<tr>\n",
       "  <th>sale_month_3</th>       <td>    0.0466</td> <td>    0.009</td> <td>    5.222</td> <td> 0.000</td> <td>    0.029</td> <td>    0.064</td>\n",
       "</tr>\n",
       "<tr>\n",
       "  <th>bedrooms_4</th>         <td>   -0.0302</td> <td>    0.006</td> <td>   -5.120</td> <td> 0.000</td> <td>   -0.042</td> <td>   -0.019</td>\n",
       "</tr>\n",
       "<tr>\n",
       "  <th>floors_2.0</th>         <td>    0.0321</td> <td>    0.007</td> <td>    4.473</td> <td> 0.000</td> <td>    0.018</td> <td>    0.046</td>\n",
       "</tr>\n",
       "<tr>\n",
       "  <th>condition_4</th>        <td>    0.1552</td> <td>    0.027</td> <td>    5.798</td> <td> 0.000</td> <td>    0.103</td> <td>    0.208</td>\n",
       "</tr>\n",
       "<tr>\n",
       "  <th>condition_3</th>        <td>    0.1305</td> <td>    0.027</td> <td>    4.890</td> <td> 0.000</td> <td>    0.078</td> <td>    0.183</td>\n",
       "</tr>\n",
       "<tr>\n",
       "  <th>yrs_renovated_10.0</th> <td>    0.2657</td> <td>    0.082</td> <td>    3.227</td> <td> 0.001</td> <td>    0.104</td> <td>    0.427</td>\n",
       "</tr>\n",
       "<tr>\n",
       "  <th>yrs_renovated_13.0</th> <td>    0.2016</td> <td>    0.067</td> <td>    2.994</td> <td> 0.003</td> <td>    0.070</td> <td>    0.334</td>\n",
       "</tr>\n",
       "<tr>\n",
       "  <th>yrs_renovated_6.0</th>  <td>    0.1243</td> <td>    0.042</td> <td>    2.974</td> <td> 0.003</td> <td>    0.042</td> <td>    0.206</td>\n",
       "</tr>\n",
       "<tr>\n",
       "  <th>floors_2.5</th>         <td>    0.0868</td> <td>    0.029</td> <td>    3.012</td> <td> 0.003</td> <td>    0.030</td> <td>    0.143</td>\n",
       "</tr>\n",
       "<tr>\n",
       "  <th>floors_1.5</th>         <td>    0.0293</td> <td>    0.010</td> <td>    2.999</td> <td> 0.003</td> <td>    0.010</td> <td>    0.049</td>\n",
       "</tr>\n",
       "<tr>\n",
       "  <th>yrs_renovated_14.0</th> <td>    0.1997</td> <td>    0.077</td> <td>    2.591</td> <td> 0.010</td> <td>    0.049</td> <td>    0.351</td>\n",
       "</tr>\n",
       "</table>\n",
       "<table class=\"simpletable\">\n",
       "<tr>\n",
       "  <th>Omnibus:</th>       <td>41.777</td> <th>  Durbin-Watson:     </th> <td>   1.994</td>\n",
       "</tr>\n",
       "<tr>\n",
       "  <th>Prob(Omnibus):</th> <td> 0.000</td> <th>  Jarque-Bera (JB):  </th> <td>  45.788</td>\n",
       "</tr>\n",
       "<tr>\n",
       "  <th>Skew:</th>          <td>-0.090</td> <th>  Prob(JB):          </th> <td>1.14e-10</td>\n",
       "</tr>\n",
       "<tr>\n",
       "  <th>Kurtosis:</th>      <td> 3.198</td> <th>  Cond. No.          </th> <td>1.17e+04</td>\n",
       "</tr>\n",
       "</table><br/><br/>Warnings:<br/>[1] Standard Errors assume that the covariance matrix of the errors is correctly specified.<br/>[2] The condition number is large, 1.17e+04. This might indicate that there are<br/>strong multicollinearity or other numerical problems."
      ],
      "text/plain": [
       "<class 'statsmodels.iolib.summary.Summary'>\n",
       "\"\"\"\n",
       "                            OLS Regression Results                            \n",
       "==============================================================================\n",
       "Dep. Variable:              price_log   R-squared:                       0.659\n",
       "Model:                            OLS   Adj. R-squared:                  0.658\n",
       "Method:                 Least Squares   F-statistic:                     1059.\n",
       "Date:                Wed, 04 Nov 2020   Prob (F-statistic):               0.00\n",
       "Time:                        12:42:10   Log-Likelihood:                -3662.6\n",
       "No. Observations:               15372   AIC:                             7383.\n",
       "Df Residuals:                   15343   BIC:                             7605.\n",
       "Df Model:                          28                                         \n",
       "Covariance Type:            nonrobust                                         \n",
       "======================================================================================\n",
       "                         coef    std err          t      P>|t|      [0.025      0.975]\n",
       "--------------------------------------------------------------------------------------\n",
       "const                 88.4239      1.804     49.005      0.000      84.887      91.961\n",
       "grade_6               -1.3173      0.041    -32.447      0.000      -1.397      -1.238\n",
       "sqft_living_log        0.4428      0.011     39.109      0.000       0.421       0.465\n",
       "yr_built_log         -10.4763      0.238    -44.036      0.000     -10.943     -10.010\n",
       "grade_7               -1.1022      0.039    -28.390      0.000      -1.178      -1.026\n",
       "grade_8               -0.8999      0.038    -23.632      0.000      -0.975      -0.825\n",
       "grade_5               -1.4680      0.047    -31.188      0.000      -1.560      -1.376\n",
       "grade_9               -0.6589      0.038    -17.406      0.000      -0.733      -0.585\n",
       "waterfront_1.0         0.5499      0.028     19.327      0.000       0.494       0.606\n",
       "sqft_lot_log          -0.0568      0.003    -17.052      0.000      -0.063      -0.050\n",
       "sqft_living15_log      0.2707      0.013     21.619      0.000       0.246       0.295\n",
       "grade_4               -1.4711      0.078    -18.930      0.000      -1.623      -1.319\n",
       "floors_3.0             0.2488      0.017     14.341      0.000       0.215       0.283\n",
       "bedrooms_2             0.1105      0.009     12.906      0.000       0.094       0.127\n",
       "grade_10              -0.4532      0.038    -11.813      0.000      -0.528      -0.378\n",
       "condition_5            0.2383      0.028      8.549      0.000       0.184       0.293\n",
       "sale_month_4           0.0644      0.008      7.877      0.000       0.048       0.080\n",
       "grade_11              -0.2669      0.041     -6.502      0.000      -0.347      -0.186\n",
       "sale_month_3           0.0466      0.009      5.222      0.000       0.029       0.064\n",
       "bedrooms_4            -0.0302      0.006     -5.120      0.000      -0.042      -0.019\n",
       "floors_2.0             0.0321      0.007      4.473      0.000       0.018       0.046\n",
       "condition_4            0.1552      0.027      5.798      0.000       0.103       0.208\n",
       "condition_3            0.1305      0.027      4.890      0.000       0.078       0.183\n",
       "yrs_renovated_10.0     0.2657      0.082      3.227      0.001       0.104       0.427\n",
       "yrs_renovated_13.0     0.2016      0.067      2.994      0.003       0.070       0.334\n",
       "yrs_renovated_6.0      0.1243      0.042      2.974      0.003       0.042       0.206\n",
       "floors_2.5             0.0868      0.029      3.012      0.003       0.030       0.143\n",
       "floors_1.5             0.0293      0.010      2.999      0.003       0.010       0.049\n",
       "yrs_renovated_14.0     0.1997      0.077      2.591      0.010       0.049       0.351\n",
       "==============================================================================\n",
       "Omnibus:                       41.777   Durbin-Watson:                   1.994\n",
       "Prob(Omnibus):                  0.000   Jarque-Bera (JB):               45.788\n",
       "Skew:                          -0.090   Prob(JB):                     1.14e-10\n",
       "Kurtosis:                       3.198   Cond. No.                     1.17e+04\n",
       "==============================================================================\n",
       "\n",
       "Warnings:\n",
       "[1] Standard Errors assume that the covariance matrix of the errors is correctly specified.\n",
       "[2] The condition number is large, 1.17e+04. This might indicate that there are\n",
       "strong multicollinearity or other numerical problems.\n",
       "\"\"\""
      ]
     },
     "execution_count": 9,
     "metadata": {},
     "output_type": "execute_result"
    }
   ],
   "source": [
    "X_fin = X_train[result]\n",
    "X_with_intercept = sm.add_constant(X_fin)\n",
    "model = sm.OLS(y_train,X_with_intercept).fit()\n",
    "model.summary()"
   ]
  },
  {
   "cell_type": "markdown",
   "metadata": {},
   "source": [
    "## Recursive Feature Elimination\n",
    "- Using skitlearns REF algorithm to select the most relevant features fo us\n",
    "- in this case, were using all the future since our r squared is lower then what I wanted"
   ]
  },
  {
   "cell_type": "code",
   "execution_count": 10,
   "metadata": {
    "scrolled": true
   },
   "outputs": [
    {
     "data": {
      "text/plain": [
       "array([ True,  True,  True,  True,  True,  True,  True,  True,  True,\n",
       "        True,  True,  True,  True,  True,  True,  True,  True,  True,\n",
       "        True,  True,  True,  True,  True,  True,  True,  True,  True,\n",
       "        True])"
      ]
     },
     "execution_count": 10,
     "metadata": {},
     "output_type": "execute_result"
    }
   ],
   "source": [
    "from sklearn.feature_selection import RFE\n",
    "from sklearn.linear_model import LinearRegression\n",
    "\n",
    "linreg = LinearRegression()\n",
    "selector = RFE(linreg, n_features_to_select = 46)\n",
    "selector = selector.fit(X_fin, y_train.values.ravel()) \n",
    "selector.support_ "
   ]
  },
  {
   "cell_type": "code",
   "execution_count": 11,
   "metadata": {},
   "outputs": [
    {
     "data": {
      "text/plain": [
       "LinearRegression(copy_X=True, fit_intercept=True, n_jobs=None, normalize=False)"
      ]
     },
     "execution_count": 11,
     "metadata": {},
     "output_type": "execute_result"
    }
   ],
   "source": [
    "selected_columns = X_fin.columns[selector.support_ ]\n",
    "linreg.fit(X_train[selected_columns],y_train)"
   ]
  },
  {
   "cell_type": "code",
   "execution_count": 12,
   "metadata": {},
   "outputs": [
    {
     "data": {
      "text/plain": [
       "Index(['grade_6', 'sqft_living_log', 'yr_built_log', 'grade_7', 'grade_8',\n",
       "       'grade_5', 'grade_9', 'waterfront_1.0', 'sqft_lot_log',\n",
       "       'sqft_living15_log', 'grade_4', 'floors_3.0', 'bedrooms_2', 'grade_10',\n",
       "       'condition_5', 'sale_month_4', 'grade_11', 'sale_month_3', 'bedrooms_4',\n",
       "       'floors_2.0', 'condition_4', 'condition_3', 'yrs_renovated_10.0',\n",
       "       'yrs_renovated_13.0', 'yrs_renovated_6.0', 'floors_2.5', 'floors_1.5',\n",
       "       'yrs_renovated_14.0'],\n",
       "      dtype='object')"
      ]
     },
     "execution_count": 12,
     "metadata": {},
     "output_type": "execute_result"
    }
   ],
   "source": [
    "selected_columns"
   ]
  },
  {
   "cell_type": "markdown",
   "metadata": {},
   "source": [
    "## R Squared and MSE\n",
    "- Here are is the R squared and Mean Squared error for both the Test and Train"
   ]
  },
  {
   "cell_type": "code",
   "execution_count": 13,
   "metadata": {},
   "outputs": [],
   "source": [
    "y_hat_train = linreg.predict(X_fin[selected_columns])\n",
    "y_hat_test = linreg.predict(X_test[selected_columns])"
   ]
  },
  {
   "cell_type": "code",
   "execution_count": 14,
   "metadata": {},
   "outputs": [
    {
     "data": {
      "text/plain": [
       "0.6589153088230563"
      ]
     },
     "execution_count": 14,
     "metadata": {},
     "output_type": "execute_result"
    }
   ],
   "source": [
    "linreg.score(X_fin[selected_columns], y_train)"
   ]
  },
  {
   "cell_type": "markdown",
   "metadata": {},
   "source": [
    "## Un-Logging\n",
    "- Since we log transformed at the begining we also need to un-log to get an accurate standard error"
   ]
  },
  {
   "cell_type": "code",
   "execution_count": 15,
   "metadata": {},
   "outputs": [
    {
     "name": "stdout",
     "output_type": "stream",
     "text": [
      "Train Mean Squarred Error: 41460573931.575516\n",
      "Test Mean Squarred Error: 49072900149.4901\n"
     ]
    }
   ],
   "source": [
    "mse_train = np.sum((np.exp(y_train)-np.exp(y_hat_train))**2)/len(y_train)\n",
    "mse_test = np.sum((np.exp(y_test)-np.exp(y_hat_test))**2)/len(y_test)\n",
    "print('Train Mean Squarred Error:', mse_train)\n",
    "print('Test Mean Squarred Error:', mse_test)"
   ]
  },
  {
   "cell_type": "code",
   "execution_count": 17,
   "metadata": {},
   "outputs": [
    {
     "name": "stdout",
     "output_type": "stream",
     "text": [
      "203618.69740172566\n",
      "221524.03966497653\n"
     ]
    }
   ],
   "source": [
    "train_error= np.sqrt(mse_train)\n",
    "test_error = np.sqrt(mse_test)\n",
    "print(train_error)\n",
    "print(test_error)"
   ]
  },
  {
   "cell_type": "markdown",
   "metadata": {},
   "source": [
    "## Checking  the QQ plot and Homoscedasticity\n",
    "- "
   ]
  },
  {
   "cell_type": "code",
   "execution_count": 19,
   "metadata": {},
   "outputs": [],
   "source": [
    "import scipy.stats as stats"
   ]
  },
  {
   "cell_type": "code",
   "execution_count": 20,
   "metadata": {},
   "outputs": [],
   "source": [
    "import matplotlib.pyplot as plt\n",
    "import seaborn as sns\n",
    "%matplotlib inline"
   ]
  },
  {
   "cell_type": "code",
   "execution_count": 21,
   "metadata": {
    "scrolled": true
   },
   "outputs": [
    {
     "data": {
      "text/plain": [
       "<matplotlib.collections.PathCollection at 0x1eeb1f74e80>"
      ]
     },
     "execution_count": 21,
     "metadata": {},
     "output_type": "execute_result"
    },
    {
     "data": {
      "image/png": "[encoded data removed]",
      "text/plain": [
       "<Figure size 432x288 with 1 Axes>"
      ]
     },
     "metadata": {
      "needs_background": "light"
     },
     "output_type": "display_data"
    }
   ],
   "source": [
    "plt.scatter(y_hat_train, model.resid)\n",
    "# plt.plot(y_hat_train(X_train[selected_columns])"
   ]
  },
  {
   "cell_type": "code",
   "execution_count": 22,
   "metadata": {
    "scrolled": true
   },
   "outputs": [
    {
     "data": {
      "image/png": "[encoded data removed]",
      "text/plain": [
       "<Figure size 432x288 with 1 Axes>"
      ]
     },
     "metadata": {
      "needs_background": "light"
     },
     "output_type": "display_data"
    }
   ],
   "source": [
    "fig = sm.graphics.qqplot(model.resid, dist=stats.norm, line='45', fit=True)"
   ]
  },
  {
   "cell_type": "markdown",
   "metadata": {},
   "source": [
    "## Testing for Multicollinearity"
   ]
  },
  {
   "cell_type": "code",
   "execution_count": 23,
   "metadata": {
    "scrolled": true
   },
   "outputs": [
    {
     "data": {
      "text/plain": [
       "[('grade_6', 8.704348847986752),\n",
       " ('grade_10', 6.791008644835644),\n",
       " ('grade_7', 37.13121667556937),\n",
       " ('sqft_living15_log', 1459.0374730924532),\n",
       " ('sqft_living_log', 1170.5942501328332),\n",
       " ('yr_built_log', 1374.8979770655476),\n",
       " ('grade_11', 3.3804830271210027),\n",
       " ('sqft_lot_log', 147.12898252613314),\n",
       " ('grade_9', 13.272958103121738),\n",
       " ('grade_12', 1.5787590318343774),\n",
       " ('waterfront_1.0', 1.0443366692384843),\n",
       " ('floors_3.0', 1.29425910125208),\n",
       " ('bedrooms_2', 1.5118524484818638),\n",
       " ('grade_13', 1.0868508214816257),\n",
       " ('condition_5', 1.204538537250771),\n",
       " ('grade_8', 27.20618664121825),\n",
       " ('sale_month_4', 1.1318417502648668),\n",
       " ('condition_2', 1.0338355947051383),\n",
       " ('sale_month_3', 1.1090988627073388),\n",
       " ('bedrooms_4', 1.803306375400854),\n",
       " ('floors_2.0', 2.800796493509994),\n",
       " ('yrs_renovated_66.0', 1.0010829036438262),\n",
       " ('yrs_renovated_13.0', 1.0041107970395684),\n",
       " ('condition_4', 1.5789903389248277),\n",
       " ('yrs_renovated_10.0', 1.0018616473836257),\n",
       " ('floors_1.5', 1.218139627521191),\n",
       " ('yrs_renovated_18.0', 1.0144900801969163),\n",
       " ('yrs_renovated_6.0', 1.010731231714308),\n",
       " ('yrs_renovated_14.0', 1.0035250442139971),\n",
       " ('yrs_renovated_25.0', 1.0029689261730854)]"
      ]
     },
     "execution_count": 23,
     "metadata": {},
     "output_type": "execute_result"
    }
   ],
   "source": [
    "from statsmodels.stats.outliers_influence import variance_inflation_factor\n",
    "X = X_fin\n",
    "vif = [variance_inflation_factor(X.values, i) for i in range(X.shape[1])]\n",
    "list(zip(X_fin, vif))"
   ]
  },
  {
   "cell_type": "markdown",
   "metadata": {},
   "source": [
    "- Some of the features are displaying multicollinearity but droping them would lower the r squared even lower then it already is."
   ]
  }
 ],
 "metadata": {
  "kernelspec": {
   "display_name": "Python [conda env:learn-env] *",
   "language": "python",
   "name": "conda-env-learn-env-py"
  },
  "language_info": {
   "codemirror_mode": {
    "name": "ipython",
    "version": 3
   },
   "file_extension": ".py",
   "mimetype": "text/x-python",
   "name": "python",
   "nbconvert_exporter": "python",
   "pygments_lexer": "ipython3",
   "version": "3.6.9"
  }
 },
 "nbformat": 4,
 "nbformat_minor": 2
}
